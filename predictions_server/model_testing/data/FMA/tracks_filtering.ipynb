{
 "cells": [
  {
   "cell_type": "code",
   "execution_count": 1,
   "metadata": {},
   "outputs": [],
   "source": [
    "import pandas as pd\n",
    "import numpy as np\n",
    "import os\n",
    "from fma_code import utils\n",
    "import filtering_utils\n",
    "\n",
    "pd.options.display.max_rows = None\n",
    "pd.options.display.max_columns = None\n",
    "pd.options.display.max_colwidth = None\n",
    "\n",
    "%matplotlib inline"
   ]
  },
  {
   "cell_type": "code",
   "execution_count": 2,
   "metadata": {},
   "outputs": [],
   "source": [
    "TRACKS_PATH = os.path.join(filtering_utils.DS_PATH, \"tracks.csv\")\n",
    "GENRES_PATH = os.path.join(filtering_utils.DS_PATH, 'genres.csv')"
   ]
  },
  {
   "cell_type": "code",
   "execution_count": 3,
   "metadata": {},
   "outputs": [
    {
     "data": {
      "text/html": [
       "<div>\n",
       "<style scoped>\n",
       "    .dataframe tbody tr th:only-of-type {\n",
       "        vertical-align: middle;\n",
       "    }\n",
       "\n",
       "    .dataframe tbody tr th {\n",
       "        vertical-align: top;\n",
       "    }\n",
       "\n",
       "    .dataframe thead th {\n",
       "        text-align: right;\n",
       "    }\n",
       "</style>\n",
       "<table border=\"1\" class=\"dataframe\">\n",
       "  <thead>\n",
       "    <tr style=\"text-align: right;\">\n",
       "      <th></th>\n",
       "      <th>#tracks</th>\n",
       "      <th>parent</th>\n",
       "      <th>title</th>\n",
       "      <th>top_level</th>\n",
       "    </tr>\n",
       "    <tr>\n",
       "      <th>genre_id</th>\n",
       "      <th></th>\n",
       "      <th></th>\n",
       "      <th></th>\n",
       "      <th></th>\n",
       "    </tr>\n",
       "  </thead>\n",
       "  <tbody>\n",
       "    <tr>\n",
       "      <th>1</th>\n",
       "      <td>8693</td>\n",
       "      <td>38</td>\n",
       "      <td>Avant-Garde</td>\n",
       "      <td>38</td>\n",
       "    </tr>\n",
       "    <tr>\n",
       "      <th>2</th>\n",
       "      <td>5271</td>\n",
       "      <td>0</td>\n",
       "      <td>International</td>\n",
       "      <td>2</td>\n",
       "    </tr>\n",
       "    <tr>\n",
       "      <th>3</th>\n",
       "      <td>1752</td>\n",
       "      <td>0</td>\n",
       "      <td>Blues</td>\n",
       "      <td>3</td>\n",
       "    </tr>\n",
       "    <tr>\n",
       "      <th>4</th>\n",
       "      <td>4126</td>\n",
       "      <td>0</td>\n",
       "      <td>Jazz</td>\n",
       "      <td>4</td>\n",
       "    </tr>\n",
       "    <tr>\n",
       "      <th>5</th>\n",
       "      <td>4106</td>\n",
       "      <td>0</td>\n",
       "      <td>Classical</td>\n",
       "      <td>5</td>\n",
       "    </tr>\n",
       "    <tr>\n",
       "      <th>6</th>\n",
       "      <td>914</td>\n",
       "      <td>38</td>\n",
       "      <td>Novelty</td>\n",
       "      <td>38</td>\n",
       "    </tr>\n",
       "    <tr>\n",
       "      <th>7</th>\n",
       "      <td>217</td>\n",
       "      <td>20</td>\n",
       "      <td>Comedy</td>\n",
       "      <td>20</td>\n",
       "    </tr>\n",
       "    <tr>\n",
       "      <th>8</th>\n",
       "      <td>868</td>\n",
       "      <td>0</td>\n",
       "      <td>Old-Time / Historic</td>\n",
       "      <td>8</td>\n",
       "    </tr>\n",
       "    <tr>\n",
       "      <th>9</th>\n",
       "      <td>1987</td>\n",
       "      <td>0</td>\n",
       "      <td>Country</td>\n",
       "      <td>9</td>\n",
       "    </tr>\n",
       "    <tr>\n",
       "      <th>10</th>\n",
       "      <td>13845</td>\n",
       "      <td>0</td>\n",
       "      <td>Pop</td>\n",
       "      <td>10</td>\n",
       "    </tr>\n",
       "    <tr>\n",
       "      <th>11</th>\n",
       "      <td>367</td>\n",
       "      <td>14</td>\n",
       "      <td>Disco</td>\n",
       "      <td>14</td>\n",
       "    </tr>\n",
       "    <tr>\n",
       "      <th>12</th>\n",
       "      <td>32923</td>\n",
       "      <td>0</td>\n",
       "      <td>Rock</td>\n",
       "      <td>12</td>\n",
       "    </tr>\n",
       "    <tr>\n",
       "      <th>13</th>\n",
       "      <td>730</td>\n",
       "      <td>0</td>\n",
       "      <td>Easy Listening</td>\n",
       "      <td>13</td>\n",
       "    </tr>\n",
       "    <tr>\n",
       "      <th>14</th>\n",
       "      <td>1499</td>\n",
       "      <td>0</td>\n",
       "      <td>Soul-RnB</td>\n",
       "      <td>14</td>\n",
       "    </tr>\n",
       "    <tr>\n",
       "      <th>15</th>\n",
       "      <td>34413</td>\n",
       "      <td>0</td>\n",
       "      <td>Electronic</td>\n",
       "      <td>15</td>\n",
       "    </tr>\n",
       "    <tr>\n",
       "      <th>16</th>\n",
       "      <td>304</td>\n",
       "      <td>6</td>\n",
       "      <td>Sound Effects</td>\n",
       "      <td>38</td>\n",
       "    </tr>\n",
       "    <tr>\n",
       "      <th>17</th>\n",
       "      <td>12706</td>\n",
       "      <td>0</td>\n",
       "      <td>Folk</td>\n",
       "      <td>17</td>\n",
       "    </tr>\n",
       "    <tr>\n",
       "      <th>18</th>\n",
       "      <td>5913</td>\n",
       "      <td>1235</td>\n",
       "      <td>Soundtrack</td>\n",
       "      <td>1235</td>\n",
       "    </tr>\n",
       "    <tr>\n",
       "      <th>19</th>\n",
       "      <td>773</td>\n",
       "      <td>14</td>\n",
       "      <td>Funk</td>\n",
       "      <td>14</td>\n",
       "    </tr>\n",
       "    <tr>\n",
       "      <th>20</th>\n",
       "      <td>1876</td>\n",
       "      <td>0</td>\n",
       "      <td>Spoken</td>\n",
       "      <td>20</td>\n",
       "    </tr>\n",
       "    <tr>\n",
       "      <th>21</th>\n",
       "      <td>8389</td>\n",
       "      <td>0</td>\n",
       "      <td>Hip-Hop</td>\n",
       "      <td>21</td>\n",
       "    </tr>\n",
       "    <tr>\n",
       "      <th>22</th>\n",
       "      <td>774</td>\n",
       "      <td>38</td>\n",
       "      <td>Audio Collage</td>\n",
       "      <td>38</td>\n",
       "    </tr>\n",
       "    <tr>\n",
       "      <th>25</th>\n",
       "      <td>9261</td>\n",
       "      <td>12</td>\n",
       "      <td>Punk</td>\n",
       "      <td>12</td>\n",
       "    </tr>\n",
       "    <tr>\n",
       "      <th>26</th>\n",
       "      <td>1952</td>\n",
       "      <td>12</td>\n",
       "      <td>Post-Rock</td>\n",
       "      <td>12</td>\n",
       "    </tr>\n",
       "    <tr>\n",
       "      <th>27</th>\n",
       "      <td>6041</td>\n",
       "      <td>12</td>\n",
       "      <td>Lo-Fi</td>\n",
       "      <td>12</td>\n",
       "    </tr>\n",
       "    <tr>\n",
       "      <th>30</th>\n",
       "      <td>3237</td>\n",
       "      <td>38</td>\n",
       "      <td>Field Recordings</td>\n",
       "      <td>38</td>\n",
       "    </tr>\n",
       "    <tr>\n",
       "      <th>31</th>\n",
       "      <td>1498</td>\n",
       "      <td>12</td>\n",
       "      <td>Metal</td>\n",
       "      <td>12</td>\n",
       "    </tr>\n",
       "    <tr>\n",
       "      <th>32</th>\n",
       "      <td>7268</td>\n",
       "      <td>38</td>\n",
       "      <td>Noise</td>\n",
       "      <td>38</td>\n",
       "    </tr>\n",
       "    <tr>\n",
       "      <th>33</th>\n",
       "      <td>2267</td>\n",
       "      <td>17</td>\n",
       "      <td>Psych-Folk</td>\n",
       "      <td>17</td>\n",
       "    </tr>\n",
       "    <tr>\n",
       "      <th>36</th>\n",
       "      <td>688</td>\n",
       "      <td>12</td>\n",
       "      <td>Krautrock</td>\n",
       "      <td>12</td>\n",
       "    </tr>\n",
       "    <tr>\n",
       "      <th>37</th>\n",
       "      <td>97</td>\n",
       "      <td>4</td>\n",
       "      <td>Jazz: Vocal</td>\n",
       "      <td>4</td>\n",
       "    </tr>\n",
       "    <tr>\n",
       "      <th>38</th>\n",
       "      <td>38154</td>\n",
       "      <td>0</td>\n",
       "      <td>Experimental</td>\n",
       "      <td>38</td>\n",
       "    </tr>\n",
       "    <tr>\n",
       "      <th>41</th>\n",
       "      <td>6110</td>\n",
       "      <td>38</td>\n",
       "      <td>Electroacoustic</td>\n",
       "      <td>38</td>\n",
       "    </tr>\n",
       "    <tr>\n",
       "      <th>42</th>\n",
       "      <td>5723</td>\n",
       "      <td>15</td>\n",
       "      <td>Ambient Electronic</td>\n",
       "      <td>15</td>\n",
       "    </tr>\n",
       "    <tr>\n",
       "      <th>43</th>\n",
       "      <td>210</td>\n",
       "      <td>65</td>\n",
       "      <td>Radio Art</td>\n",
       "      <td>20</td>\n",
       "    </tr>\n",
       "    <tr>\n",
       "      <th>45</th>\n",
       "      <td>2469</td>\n",
       "      <td>12</td>\n",
       "      <td>Loud-Rock</td>\n",
       "      <td>12</td>\n",
       "    </tr>\n",
       "    <tr>\n",
       "      <th>46</th>\n",
       "      <td>573</td>\n",
       "      <td>2</td>\n",
       "      <td>Latin America</td>\n",
       "      <td>2</td>\n",
       "    </tr>\n",
       "    <tr>\n",
       "      <th>47</th>\n",
       "      <td>2546</td>\n",
       "      <td>38</td>\n",
       "      <td>Drone</td>\n",
       "      <td>38</td>\n",
       "    </tr>\n",
       "    <tr>\n",
       "      <th>49</th>\n",
       "      <td>753</td>\n",
       "      <td>17</td>\n",
       "      <td>Free-Folk</td>\n",
       "      <td>17</td>\n",
       "    </tr>\n",
       "    <tr>\n",
       "      <th>53</th>\n",
       "      <td>2071</td>\n",
       "      <td>45</td>\n",
       "      <td>Noise-Rock</td>\n",
       "      <td>12</td>\n",
       "    </tr>\n",
       "    <tr>\n",
       "      <th>58</th>\n",
       "      <td>2502</td>\n",
       "      <td>12</td>\n",
       "      <td>Psych-Rock</td>\n",
       "      <td>12</td>\n",
       "    </tr>\n",
       "    <tr>\n",
       "      <th>63</th>\n",
       "      <td>178</td>\n",
       "      <td>9</td>\n",
       "      <td>Bluegrass</td>\n",
       "      <td>9</td>\n",
       "    </tr>\n",
       "    <tr>\n",
       "      <th>64</th>\n",
       "      <td>563</td>\n",
       "      <td>25</td>\n",
       "      <td>Electro-Punk</td>\n",
       "      <td>12</td>\n",
       "    </tr>\n",
       "    <tr>\n",
       "      <th>65</th>\n",
       "      <td>518</td>\n",
       "      <td>20</td>\n",
       "      <td>Radio</td>\n",
       "      <td>20</td>\n",
       "    </tr>\n",
       "    <tr>\n",
       "      <th>66</th>\n",
       "      <td>5432</td>\n",
       "      <td>12</td>\n",
       "      <td>Indie-Rock</td>\n",
       "      <td>12</td>\n",
       "    </tr>\n",
       "    <tr>\n",
       "      <th>70</th>\n",
       "      <td>2230</td>\n",
       "      <td>12</td>\n",
       "      <td>Industrial</td>\n",
       "      <td>12</td>\n",
       "    </tr>\n",
       "    <tr>\n",
       "      <th>71</th>\n",
       "      <td>600</td>\n",
       "      <td>25</td>\n",
       "      <td>No Wave</td>\n",
       "      <td>12</td>\n",
       "    </tr>\n",
       "    <tr>\n",
       "      <th>74</th>\n",
       "      <td>1531</td>\n",
       "      <td>4</td>\n",
       "      <td>Free-Jazz</td>\n",
       "      <td>4</td>\n",
       "    </tr>\n",
       "    <tr>\n",
       "      <th>76</th>\n",
       "      <td>7144</td>\n",
       "      <td>10</td>\n",
       "      <td>Experimental Pop</td>\n",
       "      <td>10</td>\n",
       "    </tr>\n",
       "    <tr>\n",
       "      <th>77</th>\n",
       "      <td>387</td>\n",
       "      <td>2</td>\n",
       "      <td>French</td>\n",
       "      <td>2</td>\n",
       "    </tr>\n",
       "    <tr>\n",
       "      <th>79</th>\n",
       "      <td>880</td>\n",
       "      <td>2</td>\n",
       "      <td>Reggae - Dub</td>\n",
       "      <td>2</td>\n",
       "    </tr>\n",
       "    <tr>\n",
       "      <th>81</th>\n",
       "      <td>110</td>\n",
       "      <td>92</td>\n",
       "      <td>Afrobeat</td>\n",
       "      <td>2</td>\n",
       "    </tr>\n",
       "    <tr>\n",
       "      <th>83</th>\n",
       "      <td>84</td>\n",
       "      <td>21</td>\n",
       "      <td>Nerdcore</td>\n",
       "      <td>21</td>\n",
       "    </tr>\n",
       "    <tr>\n",
       "      <th>85</th>\n",
       "      <td>3548</td>\n",
       "      <td>12</td>\n",
       "      <td>Garage</td>\n",
       "      <td>12</td>\n",
       "    </tr>\n",
       "    <tr>\n",
       "      <th>86</th>\n",
       "      <td>216</td>\n",
       "      <td>2</td>\n",
       "      <td>Indian</td>\n",
       "      <td>2</td>\n",
       "    </tr>\n",
       "    <tr>\n",
       "      <th>88</th>\n",
       "      <td>517</td>\n",
       "      <td>12</td>\n",
       "      <td>New Wave</td>\n",
       "      <td>12</td>\n",
       "    </tr>\n",
       "    <tr>\n",
       "      <th>89</th>\n",
       "      <td>1858</td>\n",
       "      <td>25</td>\n",
       "      <td>Post-Punk</td>\n",
       "      <td>12</td>\n",
       "    </tr>\n",
       "    <tr>\n",
       "      <th>90</th>\n",
       "      <td>251</td>\n",
       "      <td>53</td>\n",
       "      <td>Sludge</td>\n",
       "      <td>12</td>\n",
       "    </tr>\n",
       "    <tr>\n",
       "      <th>92</th>\n",
       "      <td>329</td>\n",
       "      <td>2</td>\n",
       "      <td>African</td>\n",
       "      <td>2</td>\n",
       "    </tr>\n",
       "    <tr>\n",
       "      <th>94</th>\n",
       "      <td>1289</td>\n",
       "      <td>17</td>\n",
       "      <td>Freak-Folk</td>\n",
       "      <td>17</td>\n",
       "    </tr>\n",
       "    <tr>\n",
       "      <th>97</th>\n",
       "      <td>291</td>\n",
       "      <td>4</td>\n",
       "      <td>Jazz: Out</td>\n",
       "      <td>4</td>\n",
       "    </tr>\n",
       "    <tr>\n",
       "      <th>98</th>\n",
       "      <td>795</td>\n",
       "      <td>12</td>\n",
       "      <td>Progressive</td>\n",
       "      <td>12</td>\n",
       "    </tr>\n",
       "    <tr>\n",
       "      <th>100</th>\n",
       "      <td>740</td>\n",
       "      <td>21</td>\n",
       "      <td>Alternative Hip-Hop</td>\n",
       "      <td>21</td>\n",
       "    </tr>\n",
       "    <tr>\n",
       "      <th>101</th>\n",
       "      <td>196</td>\n",
       "      <td>31</td>\n",
       "      <td>Death-Metal</td>\n",
       "      <td>12</td>\n",
       "    </tr>\n",
       "    <tr>\n",
       "      <th>102</th>\n",
       "      <td>176</td>\n",
       "      <td>2</td>\n",
       "      <td>Middle East</td>\n",
       "      <td>2</td>\n",
       "    </tr>\n",
       "    <tr>\n",
       "      <th>103</th>\n",
       "      <td>4162</td>\n",
       "      <td>17</td>\n",
       "      <td>Singer-Songwriter</td>\n",
       "      <td>17</td>\n",
       "    </tr>\n",
       "    <tr>\n",
       "      <th>107</th>\n",
       "      <td>7206</td>\n",
       "      <td>1235</td>\n",
       "      <td>Ambient</td>\n",
       "      <td>1235</td>\n",
       "    </tr>\n",
       "    <tr>\n",
       "      <th>109</th>\n",
       "      <td>1419</td>\n",
       "      <td>25</td>\n",
       "      <td>Hardcore</td>\n",
       "      <td>12</td>\n",
       "    </tr>\n",
       "    <tr>\n",
       "      <th>111</th>\n",
       "      <td>1003</td>\n",
       "      <td>25</td>\n",
       "      <td>Power-Pop</td>\n",
       "      <td>12</td>\n",
       "    </tr>\n",
       "    <tr>\n",
       "      <th>113</th>\n",
       "      <td>484</td>\n",
       "      <td>26</td>\n",
       "      <td>Space-Rock</td>\n",
       "      <td>12</td>\n",
       "    </tr>\n",
       "    <tr>\n",
       "      <th>117</th>\n",
       "      <td>62</td>\n",
       "      <td>2</td>\n",
       "      <td>Polka</td>\n",
       "      <td>2</td>\n",
       "    </tr>\n",
       "    <tr>\n",
       "      <th>118</th>\n",
       "      <td>608</td>\n",
       "      <td>2</td>\n",
       "      <td>Balkan</td>\n",
       "      <td>2</td>\n",
       "    </tr>\n",
       "    <tr>\n",
       "      <th>125</th>\n",
       "      <td>1511</td>\n",
       "      <td>38</td>\n",
       "      <td>Unclassifiable</td>\n",
       "      <td>38</td>\n",
       "    </tr>\n",
       "    <tr>\n",
       "      <th>130</th>\n",
       "      <td>727</td>\n",
       "      <td>2</td>\n",
       "      <td>Europe</td>\n",
       "      <td>2</td>\n",
       "    </tr>\n",
       "    <tr>\n",
       "      <th>137</th>\n",
       "      <td>994</td>\n",
       "      <td>9</td>\n",
       "      <td>Americana</td>\n",
       "      <td>9</td>\n",
       "    </tr>\n",
       "    <tr>\n",
       "      <th>138</th>\n",
       "      <td>490</td>\n",
       "      <td>20</td>\n",
       "      <td>Spoken Weird</td>\n",
       "      <td>20</td>\n",
       "    </tr>\n",
       "    <tr>\n",
       "      <th>166</th>\n",
       "      <td>122</td>\n",
       "      <td>65</td>\n",
       "      <td>Interview</td>\n",
       "      <td>20</td>\n",
       "    </tr>\n",
       "    <tr>\n",
       "      <th>167</th>\n",
       "      <td>152</td>\n",
       "      <td>31</td>\n",
       "      <td>Black-Metal</td>\n",
       "      <td>12</td>\n",
       "    </tr>\n",
       "    <tr>\n",
       "      <th>169</th>\n",
       "      <td>128</td>\n",
       "      <td>9</td>\n",
       "      <td>Rockabilly</td>\n",
       "      <td>9</td>\n",
       "    </tr>\n",
       "    <tr>\n",
       "      <th>170</th>\n",
       "      <td>47</td>\n",
       "      <td>13</td>\n",
       "      <td>Easy Listening: Vocal</td>\n",
       "      <td>13</td>\n",
       "    </tr>\n",
       "    <tr>\n",
       "      <th>171</th>\n",
       "      <td>234</td>\n",
       "      <td>2</td>\n",
       "      <td>Brazilian</td>\n",
       "      <td>2</td>\n",
       "    </tr>\n",
       "    <tr>\n",
       "      <th>172</th>\n",
       "      <td>118</td>\n",
       "      <td>2</td>\n",
       "      <td>Asia-Far East</td>\n",
       "      <td>2</td>\n",
       "    </tr>\n",
       "    <tr>\n",
       "      <th>173</th>\n",
       "      <td>4</td>\n",
       "      <td>86</td>\n",
       "      <td>N. Indian Traditional</td>\n",
       "      <td>2</td>\n",
       "    </tr>\n",
       "    <tr>\n",
       "      <th>174</th>\n",
       "      <td>17</td>\n",
       "      <td>86</td>\n",
       "      <td>South Indian Traditional</td>\n",
       "      <td>2</td>\n",
       "    </tr>\n",
       "    <tr>\n",
       "      <th>175</th>\n",
       "      <td>0</td>\n",
       "      <td>86</td>\n",
       "      <td>Bollywood</td>\n",
       "      <td>2</td>\n",
       "    </tr>\n",
       "    <tr>\n",
       "      <th>176</th>\n",
       "      <td>23</td>\n",
       "      <td>2</td>\n",
       "      <td>Pacific</td>\n",
       "      <td>2</td>\n",
       "    </tr>\n",
       "    <tr>\n",
       "      <th>177</th>\n",
       "      <td>72</td>\n",
       "      <td>2</td>\n",
       "      <td>Celtic</td>\n",
       "      <td>2</td>\n",
       "    </tr>\n",
       "    <tr>\n",
       "      <th>178</th>\n",
       "      <td>0</td>\n",
       "      <td>4</td>\n",
       "      <td>Be-Bop</td>\n",
       "      <td>4</td>\n",
       "    </tr>\n",
       "    <tr>\n",
       "      <th>179</th>\n",
       "      <td>104</td>\n",
       "      <td>4</td>\n",
       "      <td>Big Band/Swing</td>\n",
       "      <td>4</td>\n",
       "    </tr>\n",
       "    <tr>\n",
       "      <th>180</th>\n",
       "      <td>161</td>\n",
       "      <td>17</td>\n",
       "      <td>British Folk</td>\n",
       "      <td>17</td>\n",
       "    </tr>\n",
       "    <tr>\n",
       "      <th>181</th>\n",
       "      <td>2140</td>\n",
       "      <td>15</td>\n",
       "      <td>Techno</td>\n",
       "      <td>15</td>\n",
       "    </tr>\n",
       "    <tr>\n",
       "      <th>182</th>\n",
       "      <td>1482</td>\n",
       "      <td>15</td>\n",
       "      <td>House</td>\n",
       "      <td>15</td>\n",
       "    </tr>\n",
       "    <tr>\n",
       "      <th>183</th>\n",
       "      <td>2809</td>\n",
       "      <td>15</td>\n",
       "      <td>Glitch</td>\n",
       "      <td>15</td>\n",
       "    </tr>\n",
       "    <tr>\n",
       "      <th>184</th>\n",
       "      <td>1013</td>\n",
       "      <td>15</td>\n",
       "      <td>Minimal Electronic</td>\n",
       "      <td>15</td>\n",
       "    </tr>\n",
       "    <tr>\n",
       "      <th>185</th>\n",
       "      <td>511</td>\n",
       "      <td>15</td>\n",
       "      <td>Breakcore - Hard</td>\n",
       "      <td>15</td>\n",
       "    </tr>\n",
       "    <tr>\n",
       "      <th>186</th>\n",
       "      <td>682</td>\n",
       "      <td>38</td>\n",
       "      <td>Sound Poetry</td>\n",
       "      <td>38</td>\n",
       "    </tr>\n",
       "    <tr>\n",
       "      <th>187</th>\n",
       "      <td>292</td>\n",
       "      <td>5</td>\n",
       "      <td>20th Century Classical</td>\n",
       "      <td>5</td>\n",
       "    </tr>\n",
       "    <tr>\n",
       "      <th>188</th>\n",
       "      <td>301</td>\n",
       "      <td>20</td>\n",
       "      <td>Poetry</td>\n",
       "      <td>20</td>\n",
       "    </tr>\n",
       "    <tr>\n",
       "      <th>189</th>\n",
       "      <td>26</td>\n",
       "      <td>65</td>\n",
       "      <td>Talk Radio</td>\n",
       "      <td>20</td>\n",
       "    </tr>\n",
       "    <tr>\n",
       "      <th>214</th>\n",
       "      <td>40</td>\n",
       "      <td>92</td>\n",
       "      <td>North African</td>\n",
       "      <td>2</td>\n",
       "    </tr>\n",
       "    <tr>\n",
       "      <th>224</th>\n",
       "      <td>1916</td>\n",
       "      <td>38</td>\n",
       "      <td>Sound Collage</td>\n",
       "      <td>38</td>\n",
       "    </tr>\n",
       "    <tr>\n",
       "      <th>232</th>\n",
       "      <td>47</td>\n",
       "      <td>2</td>\n",
       "      <td>Flamenco</td>\n",
       "      <td>2</td>\n",
       "    </tr>\n",
       "    <tr>\n",
       "      <th>236</th>\n",
       "      <td>3472</td>\n",
       "      <td>15</td>\n",
       "      <td>IDM</td>\n",
       "      <td>15</td>\n",
       "    </tr>\n",
       "    <tr>\n",
       "      <th>240</th>\n",
       "      <td>1231</td>\n",
       "      <td>297</td>\n",
       "      <td>Chiptune</td>\n",
       "      <td>15</td>\n",
       "    </tr>\n",
       "    <tr>\n",
       "      <th>247</th>\n",
       "      <td>2957</td>\n",
       "      <td>38</td>\n",
       "      <td>Musique Concrete</td>\n",
       "      <td>38</td>\n",
       "    </tr>\n",
       "    <tr>\n",
       "      <th>250</th>\n",
       "      <td>4261</td>\n",
       "      <td>38</td>\n",
       "      <td>Improv</td>\n",
       "      <td>38</td>\n",
       "    </tr>\n",
       "    <tr>\n",
       "      <th>267</th>\n",
       "      <td>360</td>\n",
       "      <td>1235</td>\n",
       "      <td>New Age</td>\n",
       "      <td>1235</td>\n",
       "    </tr>\n",
       "    <tr>\n",
       "      <th>286</th>\n",
       "      <td>1751</td>\n",
       "      <td>15</td>\n",
       "      <td>Trip-Hop</td>\n",
       "      <td>15</td>\n",
       "    </tr>\n",
       "    <tr>\n",
       "      <th>296</th>\n",
       "      <td>1414</td>\n",
       "      <td>15</td>\n",
       "      <td>Dance</td>\n",
       "      <td>15</td>\n",
       "    </tr>\n",
       "    <tr>\n",
       "      <th>297</th>\n",
       "      <td>2208</td>\n",
       "      <td>15</td>\n",
       "      <td>Chip Music</td>\n",
       "      <td>15</td>\n",
       "    </tr>\n",
       "    <tr>\n",
       "      <th>311</th>\n",
       "      <td>440</td>\n",
       "      <td>13</td>\n",
       "      <td>Lounge</td>\n",
       "      <td>13</td>\n",
       "    </tr>\n",
       "    <tr>\n",
       "      <th>314</th>\n",
       "      <td>482</td>\n",
       "      <td>12</td>\n",
       "      <td>Goth</td>\n",
       "      <td>12</td>\n",
       "    </tr>\n",
       "    <tr>\n",
       "      <th>322</th>\n",
       "      <td>630</td>\n",
       "      <td>5</td>\n",
       "      <td>Composed Music</td>\n",
       "      <td>5</td>\n",
       "    </tr>\n",
       "    <tr>\n",
       "      <th>337</th>\n",
       "      <td>500</td>\n",
       "      <td>15</td>\n",
       "      <td>Drum &amp; Bass</td>\n",
       "      <td>15</td>\n",
       "    </tr>\n",
       "    <tr>\n",
       "      <th>359</th>\n",
       "      <td>762</td>\n",
       "      <td>12</td>\n",
       "      <td>Shoegaze</td>\n",
       "      <td>12</td>\n",
       "    </tr>\n",
       "    <tr>\n",
       "      <th>360</th>\n",
       "      <td>201</td>\n",
       "      <td>6</td>\n",
       "      <td>Kid-Friendly</td>\n",
       "      <td>38</td>\n",
       "    </tr>\n",
       "    <tr>\n",
       "      <th>361</th>\n",
       "      <td>175</td>\n",
       "      <td>109</td>\n",
       "      <td>Thrash</td>\n",
       "      <td>12</td>\n",
       "    </tr>\n",
       "    <tr>\n",
       "      <th>362</th>\n",
       "      <td>1835</td>\n",
       "      <td>10</td>\n",
       "      <td>Synth Pop</td>\n",
       "      <td>10</td>\n",
       "    </tr>\n",
       "    <tr>\n",
       "      <th>374</th>\n",
       "      <td>9</td>\n",
       "      <td>20</td>\n",
       "      <td>Banter</td>\n",
       "      <td>20</td>\n",
       "    </tr>\n",
       "    <tr>\n",
       "      <th>377</th>\n",
       "      <td>1</td>\n",
       "      <td>19</td>\n",
       "      <td>Deep Funk</td>\n",
       "      <td>14</td>\n",
       "    </tr>\n",
       "    <tr>\n",
       "      <th>378</th>\n",
       "      <td>177</td>\n",
       "      <td>20</td>\n",
       "      <td>Spoken Word</td>\n",
       "      <td>20</td>\n",
       "    </tr>\n",
       "    <tr>\n",
       "      <th>400</th>\n",
       "      <td>823</td>\n",
       "      <td>182</td>\n",
       "      <td>Chill-out</td>\n",
       "      <td>15</td>\n",
       "    </tr>\n",
       "    <tr>\n",
       "      <th>401</th>\n",
       "      <td>189</td>\n",
       "      <td>181</td>\n",
       "      <td>Bigbeat</td>\n",
       "      <td>15</td>\n",
       "    </tr>\n",
       "    <tr>\n",
       "      <th>404</th>\n",
       "      <td>265</td>\n",
       "      <td>85</td>\n",
       "      <td>Surf</td>\n",
       "      <td>12</td>\n",
       "    </tr>\n",
       "    <tr>\n",
       "      <th>428</th>\n",
       "      <td>73</td>\n",
       "      <td>20</td>\n",
       "      <td>Radio Theater</td>\n",
       "      <td>20</td>\n",
       "    </tr>\n",
       "    <tr>\n",
       "      <th>439</th>\n",
       "      <td>314</td>\n",
       "      <td>31</td>\n",
       "      <td>Grindcore</td>\n",
       "      <td>12</td>\n",
       "    </tr>\n",
       "    <tr>\n",
       "      <th>440</th>\n",
       "      <td>116</td>\n",
       "      <td>12</td>\n",
       "      <td>Rock Opera</td>\n",
       "      <td>12</td>\n",
       "    </tr>\n",
       "    <tr>\n",
       "      <th>441</th>\n",
       "      <td>161</td>\n",
       "      <td>5</td>\n",
       "      <td>Opera</td>\n",
       "      <td>5</td>\n",
       "    </tr>\n",
       "    <tr>\n",
       "      <th>442</th>\n",
       "      <td>170</td>\n",
       "      <td>5</td>\n",
       "      <td>Chamber Music</td>\n",
       "      <td>5</td>\n",
       "    </tr>\n",
       "    <tr>\n",
       "      <th>443</th>\n",
       "      <td>216</td>\n",
       "      <td>5</td>\n",
       "      <td>Choral Music</td>\n",
       "      <td>5</td>\n",
       "    </tr>\n",
       "    <tr>\n",
       "      <th>444</th>\n",
       "      <td>25</td>\n",
       "      <td>5</td>\n",
       "      <td>Symphony</td>\n",
       "      <td>5</td>\n",
       "    </tr>\n",
       "    <tr>\n",
       "      <th>456</th>\n",
       "      <td>1392</td>\n",
       "      <td>38</td>\n",
       "      <td>Minimalism</td>\n",
       "      <td>38</td>\n",
       "    </tr>\n",
       "    <tr>\n",
       "      <th>465</th>\n",
       "      <td>18</td>\n",
       "      <td>20</td>\n",
       "      <td>Musical Theater</td>\n",
       "      <td>20</td>\n",
       "    </tr>\n",
       "    <tr>\n",
       "      <th>468</th>\n",
       "      <td>1144</td>\n",
       "      <td>15</td>\n",
       "      <td>Dubstep</td>\n",
       "      <td>15</td>\n",
       "    </tr>\n",
       "    <tr>\n",
       "      <th>491</th>\n",
       "      <td>78</td>\n",
       "      <td>468</td>\n",
       "      <td>Skweee</td>\n",
       "      <td>15</td>\n",
       "    </tr>\n",
       "    <tr>\n",
       "      <th>493</th>\n",
       "      <td>4</td>\n",
       "      <td>651</td>\n",
       "      <td>Western Swing</td>\n",
       "      <td>9</td>\n",
       "    </tr>\n",
       "    <tr>\n",
       "      <th>495</th>\n",
       "      <td>2061</td>\n",
       "      <td>15</td>\n",
       "      <td>Downtempo</td>\n",
       "      <td>15</td>\n",
       "    </tr>\n",
       "    <tr>\n",
       "      <th>502</th>\n",
       "      <td>67</td>\n",
       "      <td>46</td>\n",
       "      <td>Cumbia</td>\n",
       "      <td>2</td>\n",
       "    </tr>\n",
       "    <tr>\n",
       "      <th>504</th>\n",
       "      <td>114</td>\n",
       "      <td>2</td>\n",
       "      <td>Latin</td>\n",
       "      <td>2</td>\n",
       "    </tr>\n",
       "    <tr>\n",
       "      <th>514</th>\n",
       "      <td>1414</td>\n",
       "      <td>38</td>\n",
       "      <td>Sound Art</td>\n",
       "      <td>38</td>\n",
       "    </tr>\n",
       "    <tr>\n",
       "      <th>524</th>\n",
       "      <td>112</td>\n",
       "      <td>130</td>\n",
       "      <td>Romany (Gypsy)</td>\n",
       "      <td>2</td>\n",
       "    </tr>\n",
       "    <tr>\n",
       "      <th>538</th>\n",
       "      <td>338</td>\n",
       "      <td>18</td>\n",
       "      <td>Compilation</td>\n",
       "      <td>1235</td>\n",
       "    </tr>\n",
       "    <tr>\n",
       "      <th>539</th>\n",
       "      <td>638</td>\n",
       "      <td>21</td>\n",
       "      <td>Rap</td>\n",
       "      <td>21</td>\n",
       "    </tr>\n",
       "    <tr>\n",
       "      <th>542</th>\n",
       "      <td>735</td>\n",
       "      <td>21</td>\n",
       "      <td>Breakbeat</td>\n",
       "      <td>21</td>\n",
       "    </tr>\n",
       "    <tr>\n",
       "      <th>567</th>\n",
       "      <td>66</td>\n",
       "      <td>3</td>\n",
       "      <td>Gospel</td>\n",
       "      <td>3</td>\n",
       "    </tr>\n",
       "    <tr>\n",
       "      <th>580</th>\n",
       "      <td>202</td>\n",
       "      <td>21</td>\n",
       "      <td>Abstract Hip-Hop</td>\n",
       "      <td>21</td>\n",
       "    </tr>\n",
       "    <tr>\n",
       "      <th>602</th>\n",
       "      <td>94</td>\n",
       "      <td>79</td>\n",
       "      <td>Reggae - Dancehall</td>\n",
       "      <td>2</td>\n",
       "    </tr>\n",
       "    <tr>\n",
       "      <th>619</th>\n",
       "      <td>115</td>\n",
       "      <td>130</td>\n",
       "      <td>Spanish</td>\n",
       "      <td>2</td>\n",
       "    </tr>\n",
       "    <tr>\n",
       "      <th>651</th>\n",
       "      <td>79</td>\n",
       "      <td>9</td>\n",
       "      <td>Country &amp; Western</td>\n",
       "      <td>9</td>\n",
       "    </tr>\n",
       "    <tr>\n",
       "      <th>659</th>\n",
       "      <td>1239</td>\n",
       "      <td>5</td>\n",
       "      <td>Contemporary Classical</td>\n",
       "      <td>5</td>\n",
       "    </tr>\n",
       "    <tr>\n",
       "      <th>693</th>\n",
       "      <td>56</td>\n",
       "      <td>21</td>\n",
       "      <td>Wonky</td>\n",
       "      <td>21</td>\n",
       "    </tr>\n",
       "    <tr>\n",
       "      <th>695</th>\n",
       "      <td>258</td>\n",
       "      <td>15</td>\n",
       "      <td>Jungle</td>\n",
       "      <td>15</td>\n",
       "    </tr>\n",
       "    <tr>\n",
       "      <th>741</th>\n",
       "      <td>57</td>\n",
       "      <td>130</td>\n",
       "      <td>Klezmer</td>\n",
       "      <td>2</td>\n",
       "    </tr>\n",
       "    <tr>\n",
       "      <th>763</th>\n",
       "      <td>268</td>\n",
       "      <td>16</td>\n",
       "      <td>Holiday</td>\n",
       "      <td>38</td>\n",
       "    </tr>\n",
       "    <tr>\n",
       "      <th>808</th>\n",
       "      <td>12</td>\n",
       "      <td>46</td>\n",
       "      <td>Salsa</td>\n",
       "      <td>2</td>\n",
       "    </tr>\n",
       "    <tr>\n",
       "      <th>810</th>\n",
       "      <td>120</td>\n",
       "      <td>13</td>\n",
       "      <td>Nu-Jazz</td>\n",
       "      <td>13</td>\n",
       "    </tr>\n",
       "    <tr>\n",
       "      <th>811</th>\n",
       "      <td>1192</td>\n",
       "      <td>21</td>\n",
       "      <td>Hip-Hop Beats</td>\n",
       "      <td>21</td>\n",
       "    </tr>\n",
       "    <tr>\n",
       "      <th>906</th>\n",
       "      <td>107</td>\n",
       "      <td>4</td>\n",
       "      <td>Modern Jazz</td>\n",
       "      <td>4</td>\n",
       "    </tr>\n",
       "    <tr>\n",
       "      <th>1032</th>\n",
       "      <td>60</td>\n",
       "      <td>102</td>\n",
       "      <td>Turkish</td>\n",
       "      <td>2</td>\n",
       "    </tr>\n",
       "    <tr>\n",
       "      <th>1060</th>\n",
       "      <td>30</td>\n",
       "      <td>46</td>\n",
       "      <td>Tango</td>\n",
       "      <td>2</td>\n",
       "    </tr>\n",
       "    <tr>\n",
       "      <th>1156</th>\n",
       "      <td>26</td>\n",
       "      <td>130</td>\n",
       "      <td>Fado</td>\n",
       "      <td>2</td>\n",
       "    </tr>\n",
       "    <tr>\n",
       "      <th>1193</th>\n",
       "      <td>72</td>\n",
       "      <td>763</td>\n",
       "      <td>Christmas</td>\n",
       "      <td>38</td>\n",
       "    </tr>\n",
       "    <tr>\n",
       "      <th>1235</th>\n",
       "      <td>14938</td>\n",
       "      <td>0</td>\n",
       "      <td>Instrumental</td>\n",
       "      <td>1235</td>\n",
       "    </tr>\n",
       "  </tbody>\n",
       "</table>\n",
       "</div>"
      ],
      "text/plain": [
       "          #tracks  parent                     title  top_level\n",
       "genre_id                                                      \n",
       "1            8693      38               Avant-Garde         38\n",
       "2            5271       0             International          2\n",
       "3            1752       0                     Blues          3\n",
       "4            4126       0                      Jazz          4\n",
       "5            4106       0                 Classical          5\n",
       "6             914      38                   Novelty         38\n",
       "7             217      20                    Comedy         20\n",
       "8             868       0       Old-Time / Historic          8\n",
       "9            1987       0                   Country          9\n",
       "10          13845       0                       Pop         10\n",
       "11            367      14                     Disco         14\n",
       "12          32923       0                      Rock         12\n",
       "13            730       0            Easy Listening         13\n",
       "14           1499       0                  Soul-RnB         14\n",
       "15          34413       0                Electronic         15\n",
       "16            304       6             Sound Effects         38\n",
       "17          12706       0                      Folk         17\n",
       "18           5913    1235                Soundtrack       1235\n",
       "19            773      14                      Funk         14\n",
       "20           1876       0                    Spoken         20\n",
       "21           8389       0                   Hip-Hop         21\n",
       "22            774      38             Audio Collage         38\n",
       "25           9261      12                      Punk         12\n",
       "26           1952      12                 Post-Rock         12\n",
       "27           6041      12                     Lo-Fi         12\n",
       "30           3237      38          Field Recordings         38\n",
       "31           1498      12                     Metal         12\n",
       "32           7268      38                     Noise         38\n",
       "33           2267      17                Psych-Folk         17\n",
       "36            688      12                 Krautrock         12\n",
       "37             97       4               Jazz: Vocal          4\n",
       "38          38154       0              Experimental         38\n",
       "41           6110      38           Electroacoustic         38\n",
       "42           5723      15        Ambient Electronic         15\n",
       "43            210      65                 Radio Art         20\n",
       "45           2469      12                 Loud-Rock         12\n",
       "46            573       2             Latin America          2\n",
       "47           2546      38                     Drone         38\n",
       "49            753      17                 Free-Folk         17\n",
       "53           2071      45                Noise-Rock         12\n",
       "58           2502      12                Psych-Rock         12\n",
       "63            178       9                 Bluegrass          9\n",
       "64            563      25              Electro-Punk         12\n",
       "65            518      20                     Radio         20\n",
       "66           5432      12                Indie-Rock         12\n",
       "70           2230      12                Industrial         12\n",
       "71            600      25                   No Wave         12\n",
       "74           1531       4                 Free-Jazz          4\n",
       "76           7144      10          Experimental Pop         10\n",
       "77            387       2                    French          2\n",
       "79            880       2              Reggae - Dub          2\n",
       "81            110      92                  Afrobeat          2\n",
       "83             84      21                  Nerdcore         21\n",
       "85           3548      12                    Garage         12\n",
       "86            216       2                    Indian          2\n",
       "88            517      12                  New Wave         12\n",
       "89           1858      25                 Post-Punk         12\n",
       "90            251      53                    Sludge         12\n",
       "92            329       2                   African          2\n",
       "94           1289      17                Freak-Folk         17\n",
       "97            291       4                 Jazz: Out          4\n",
       "98            795      12               Progressive         12\n",
       "100           740      21       Alternative Hip-Hop         21\n",
       "101           196      31               Death-Metal         12\n",
       "102           176       2               Middle East          2\n",
       "103          4162      17         Singer-Songwriter         17\n",
       "107          7206    1235                   Ambient       1235\n",
       "109          1419      25                  Hardcore         12\n",
       "111          1003      25                 Power-Pop         12\n",
       "113           484      26                Space-Rock         12\n",
       "117            62       2                     Polka          2\n",
       "118           608       2                    Balkan          2\n",
       "125          1511      38            Unclassifiable         38\n",
       "130           727       2                    Europe          2\n",
       "137           994       9                 Americana          9\n",
       "138           490      20              Spoken Weird         20\n",
       "166           122      65                 Interview         20\n",
       "167           152      31               Black-Metal         12\n",
       "169           128       9                Rockabilly          9\n",
       "170            47      13     Easy Listening: Vocal         13\n",
       "171           234       2                 Brazilian          2\n",
       "172           118       2             Asia-Far East          2\n",
       "173             4      86     N. Indian Traditional          2\n",
       "174            17      86  South Indian Traditional          2\n",
       "175             0      86                 Bollywood          2\n",
       "176            23       2                   Pacific          2\n",
       "177            72       2                    Celtic          2\n",
       "178             0       4                    Be-Bop          4\n",
       "179           104       4            Big Band/Swing          4\n",
       "180           161      17              British Folk         17\n",
       "181          2140      15                    Techno         15\n",
       "182          1482      15                     House         15\n",
       "183          2809      15                    Glitch         15\n",
       "184          1013      15        Minimal Electronic         15\n",
       "185           511      15          Breakcore - Hard         15\n",
       "186           682      38              Sound Poetry         38\n",
       "187           292       5    20th Century Classical          5\n",
       "188           301      20                    Poetry         20\n",
       "189            26      65                Talk Radio         20\n",
       "214            40      92             North African          2\n",
       "224          1916      38             Sound Collage         38\n",
       "232            47       2                  Flamenco          2\n",
       "236          3472      15                       IDM         15\n",
       "240          1231     297                  Chiptune         15\n",
       "247          2957      38          Musique Concrete         38\n",
       "250          4261      38                    Improv         38\n",
       "267           360    1235                   New Age       1235\n",
       "286          1751      15                  Trip-Hop         15\n",
       "296          1414      15                     Dance         15\n",
       "297          2208      15                Chip Music         15\n",
       "311           440      13                    Lounge         13\n",
       "314           482      12                      Goth         12\n",
       "322           630       5            Composed Music          5\n",
       "337           500      15               Drum & Bass         15\n",
       "359           762      12                  Shoegaze         12\n",
       "360           201       6              Kid-Friendly         38\n",
       "361           175     109                    Thrash         12\n",
       "362          1835      10                 Synth Pop         10\n",
       "374             9      20                    Banter         20\n",
       "377             1      19                 Deep Funk         14\n",
       "378           177      20               Spoken Word         20\n",
       "400           823     182                 Chill-out         15\n",
       "401           189     181                   Bigbeat         15\n",
       "404           265      85                      Surf         12\n",
       "428            73      20             Radio Theater         20\n",
       "439           314      31                 Grindcore         12\n",
       "440           116      12                Rock Opera         12\n",
       "441           161       5                     Opera          5\n",
       "442           170       5             Chamber Music          5\n",
       "443           216       5              Choral Music          5\n",
       "444            25       5                  Symphony          5\n",
       "456          1392      38                Minimalism         38\n",
       "465            18      20           Musical Theater         20\n",
       "468          1144      15                   Dubstep         15\n",
       "491            78     468                    Skweee         15\n",
       "493             4     651             Western Swing          9\n",
       "495          2061      15                 Downtempo         15\n",
       "502            67      46                    Cumbia          2\n",
       "504           114       2                     Latin          2\n",
       "514          1414      38                 Sound Art         38\n",
       "524           112     130            Romany (Gypsy)          2\n",
       "538           338      18               Compilation       1235\n",
       "539           638      21                       Rap         21\n",
       "542           735      21                 Breakbeat         21\n",
       "567            66       3                    Gospel          3\n",
       "580           202      21          Abstract Hip-Hop         21\n",
       "602            94      79        Reggae - Dancehall          2\n",
       "619           115     130                   Spanish          2\n",
       "651            79       9         Country & Western          9\n",
       "659          1239       5    Contemporary Classical          5\n",
       "693            56      21                     Wonky         21\n",
       "695           258      15                    Jungle         15\n",
       "741            57     130                   Klezmer          2\n",
       "763           268      16                   Holiday         38\n",
       "808            12      46                     Salsa          2\n",
       "810           120      13                   Nu-Jazz         13\n",
       "811          1192      21             Hip-Hop Beats         21\n",
       "906           107       4               Modern Jazz          4\n",
       "1032           60     102                   Turkish          2\n",
       "1060           30      46                     Tango          2\n",
       "1156           26     130                      Fado          2\n",
       "1193           72     763                 Christmas         38\n",
       "1235        14938       0              Instrumental       1235"
      ]
     },
     "execution_count": 3,
     "metadata": {},
     "output_type": "execute_result"
    }
   ],
   "source": [
    "genres = utils.load(GENRES_PATH)\n",
    "genres"
   ]
  },
  {
   "cell_type": "code",
   "execution_count": 4,
   "metadata": {},
   "outputs": [
    {
     "data": {
      "text/plain": [
       "Index(['#tracks', 'parent', 'title', 'top_level'], dtype='object')"
      ]
     },
     "execution_count": 4,
     "metadata": {},
     "output_type": "execute_result"
    }
   ],
   "source": [
    "genres.columns"
   ]
  },
  {
   "cell_type": "code",
   "execution_count": 5,
   "metadata": {},
   "outputs": [
    {
     "data": {
      "text/html": [
       "<div>\n",
       "<style scoped>\n",
       "    .dataframe tbody tr th:only-of-type {\n",
       "        vertical-align: middle;\n",
       "    }\n",
       "\n",
       "    .dataframe tbody tr th {\n",
       "        vertical-align: top;\n",
       "    }\n",
       "\n",
       "    .dataframe thead tr th {\n",
       "        text-align: left;\n",
       "    }\n",
       "\n",
       "    .dataframe thead tr:last-of-type th {\n",
       "        text-align: right;\n",
       "    }\n",
       "</style>\n",
       "<table border=\"1\" class=\"dataframe\">\n",
       "  <thead>\n",
       "    <tr>\n",
       "      <th></th>\n",
       "      <th colspan=\"13\" halign=\"left\">album</th>\n",
       "      <th colspan=\"17\" halign=\"left\">artist</th>\n",
       "      <th colspan=\"2\" halign=\"left\">set</th>\n",
       "      <th colspan=\"20\" halign=\"left\">track</th>\n",
       "    </tr>\n",
       "    <tr>\n",
       "      <th></th>\n",
       "      <th>comments</th>\n",
       "      <th>date_created</th>\n",
       "      <th>date_released</th>\n",
       "      <th>engineer</th>\n",
       "      <th>favorites</th>\n",
       "      <th>id</th>\n",
       "      <th>information</th>\n",
       "      <th>listens</th>\n",
       "      <th>producer</th>\n",
       "      <th>tags</th>\n",
       "      <th>title</th>\n",
       "      <th>tracks</th>\n",
       "      <th>type</th>\n",
       "      <th>active_year_begin</th>\n",
       "      <th>active_year_end</th>\n",
       "      <th>associated_labels</th>\n",
       "      <th>bio</th>\n",
       "      <th>comments</th>\n",
       "      <th>date_created</th>\n",
       "      <th>favorites</th>\n",
       "      <th>id</th>\n",
       "      <th>latitude</th>\n",
       "      <th>location</th>\n",
       "      <th>longitude</th>\n",
       "      <th>members</th>\n",
       "      <th>name</th>\n",
       "      <th>related_projects</th>\n",
       "      <th>tags</th>\n",
       "      <th>website</th>\n",
       "      <th>wikipedia_page</th>\n",
       "      <th>split</th>\n",
       "      <th>subset</th>\n",
       "      <th>bit_rate</th>\n",
       "      <th>comments</th>\n",
       "      <th>composer</th>\n",
       "      <th>date_created</th>\n",
       "      <th>date_recorded</th>\n",
       "      <th>duration</th>\n",
       "      <th>favorites</th>\n",
       "      <th>genre_top</th>\n",
       "      <th>genres</th>\n",
       "      <th>genres_all</th>\n",
       "      <th>information</th>\n",
       "      <th>interest</th>\n",
       "      <th>language_code</th>\n",
       "      <th>license</th>\n",
       "      <th>listens</th>\n",
       "      <th>lyricist</th>\n",
       "      <th>number</th>\n",
       "      <th>publisher</th>\n",
       "      <th>tags</th>\n",
       "      <th>title</th>\n",
       "    </tr>\n",
       "    <tr>\n",
       "      <th>track_id</th>\n",
       "      <th></th>\n",
       "      <th></th>\n",
       "      <th></th>\n",
       "      <th></th>\n",
       "      <th></th>\n",
       "      <th></th>\n",
       "      <th></th>\n",
       "      <th></th>\n",
       "      <th></th>\n",
       "      <th></th>\n",
       "      <th></th>\n",
       "      <th></th>\n",
       "      <th></th>\n",
       "      <th></th>\n",
       "      <th></th>\n",
       "      <th></th>\n",
       "      <th></th>\n",
       "      <th></th>\n",
       "      <th></th>\n",
       "      <th></th>\n",
       "      <th></th>\n",
       "      <th></th>\n",
       "      <th></th>\n",
       "      <th></th>\n",
       "      <th></th>\n",
       "      <th></th>\n",
       "      <th></th>\n",
       "      <th></th>\n",
       "      <th></th>\n",
       "      <th></th>\n",
       "      <th></th>\n",
       "      <th></th>\n",
       "      <th></th>\n",
       "      <th></th>\n",
       "      <th></th>\n",
       "      <th></th>\n",
       "      <th></th>\n",
       "      <th></th>\n",
       "      <th></th>\n",
       "      <th></th>\n",
       "      <th></th>\n",
       "      <th></th>\n",
       "      <th></th>\n",
       "      <th></th>\n",
       "      <th></th>\n",
       "      <th></th>\n",
       "      <th></th>\n",
       "      <th></th>\n",
       "      <th></th>\n",
       "      <th></th>\n",
       "      <th></th>\n",
       "      <th></th>\n",
       "    </tr>\n",
       "  </thead>\n",
       "  <tbody>\n",
       "    <tr>\n",
       "      <th>2</th>\n",
       "      <td>0</td>\n",
       "      <td>2008-11-26 01:44:45</td>\n",
       "      <td>2009-01-05</td>\n",
       "      <td>NaN</td>\n",
       "      <td>4</td>\n",
       "      <td>1</td>\n",
       "      <td>&lt;p&gt;&lt;/p&gt;</td>\n",
       "      <td>6073</td>\n",
       "      <td>NaN</td>\n",
       "      <td>[]</td>\n",
       "      <td>AWOL - A Way Of Life</td>\n",
       "      <td>7</td>\n",
       "      <td>Album</td>\n",
       "      <td>2006-01-01</td>\n",
       "      <td>NaT</td>\n",
       "      <td>NaN</td>\n",
       "      <td>&lt;p&gt;A Way Of Life, A Collective of Hip-Hop from NJ...................&lt;/p&gt;</td>\n",
       "      <td>0</td>\n",
       "      <td>2008-11-26 01:42:32</td>\n",
       "      <td>9</td>\n",
       "      <td>1</td>\n",
       "      <td>40.058324</td>\n",
       "      <td>New Jersey</td>\n",
       "      <td>-74.405661</td>\n",
       "      <td>Sajje Morocco,Brownbum,ZawidaGod,Custodian of Records,Zooberelli the Don,F.A.H,MadSicka,Damien Omenicci..and a van load more...</td>\n",
       "      <td>AWOL</td>\n",
       "      <td>The list of past projects is 2 long but every1 and every style from Tabby Bonet 2 M.O.P..Azillion Records Flagship trackmaster DJ BrownBum is a beat Wizard.....A-2-Z..illion....(right now working with JerseyBlock Ent)</td>\n",
       "      <td>[awol]</td>\n",
       "      <td>http://www.AzillionRecords.blogspot.com</td>\n",
       "      <td>NaN</td>\n",
       "      <td>training</td>\n",
       "      <td>small</td>\n",
       "      <td>256000</td>\n",
       "      <td>0</td>\n",
       "      <td>NaN</td>\n",
       "      <td>2008-11-26 01:48:12</td>\n",
       "      <td>2008-11-26</td>\n",
       "      <td>168</td>\n",
       "      <td>2</td>\n",
       "      <td>Hip-Hop</td>\n",
       "      <td>[21]</td>\n",
       "      <td>[21]</td>\n",
       "      <td>NaN</td>\n",
       "      <td>4656</td>\n",
       "      <td>en</td>\n",
       "      <td>Attribution-NonCommercial-ShareAlike 3.0 International</td>\n",
       "      <td>1293</td>\n",
       "      <td>NaN</td>\n",
       "      <td>3</td>\n",
       "      <td>NaN</td>\n",
       "      <td>[]</td>\n",
       "      <td>Food</td>\n",
       "    </tr>\n",
       "    <tr>\n",
       "      <th>3</th>\n",
       "      <td>0</td>\n",
       "      <td>2008-11-26 01:44:45</td>\n",
       "      <td>2009-01-05</td>\n",
       "      <td>NaN</td>\n",
       "      <td>4</td>\n",
       "      <td>1</td>\n",
       "      <td>&lt;p&gt;&lt;/p&gt;</td>\n",
       "      <td>6073</td>\n",
       "      <td>NaN</td>\n",
       "      <td>[]</td>\n",
       "      <td>AWOL - A Way Of Life</td>\n",
       "      <td>7</td>\n",
       "      <td>Album</td>\n",
       "      <td>2006-01-01</td>\n",
       "      <td>NaT</td>\n",
       "      <td>NaN</td>\n",
       "      <td>&lt;p&gt;A Way Of Life, A Collective of Hip-Hop from NJ...................&lt;/p&gt;</td>\n",
       "      <td>0</td>\n",
       "      <td>2008-11-26 01:42:32</td>\n",
       "      <td>9</td>\n",
       "      <td>1</td>\n",
       "      <td>40.058324</td>\n",
       "      <td>New Jersey</td>\n",
       "      <td>-74.405661</td>\n",
       "      <td>Sajje Morocco,Brownbum,ZawidaGod,Custodian of Records,Zooberelli the Don,F.A.H,MadSicka,Damien Omenicci..and a van load more...</td>\n",
       "      <td>AWOL</td>\n",
       "      <td>The list of past projects is 2 long but every1 and every style from Tabby Bonet 2 M.O.P..Azillion Records Flagship trackmaster DJ BrownBum is a beat Wizard.....A-2-Z..illion....(right now working with JerseyBlock Ent)</td>\n",
       "      <td>[awol]</td>\n",
       "      <td>http://www.AzillionRecords.blogspot.com</td>\n",
       "      <td>NaN</td>\n",
       "      <td>training</td>\n",
       "      <td>medium</td>\n",
       "      <td>256000</td>\n",
       "      <td>0</td>\n",
       "      <td>NaN</td>\n",
       "      <td>2008-11-26 01:48:14</td>\n",
       "      <td>2008-11-26</td>\n",
       "      <td>237</td>\n",
       "      <td>1</td>\n",
       "      <td>Hip-Hop</td>\n",
       "      <td>[21]</td>\n",
       "      <td>[21]</td>\n",
       "      <td>NaN</td>\n",
       "      <td>1470</td>\n",
       "      <td>en</td>\n",
       "      <td>Attribution-NonCommercial-ShareAlike 3.0 International</td>\n",
       "      <td>514</td>\n",
       "      <td>NaN</td>\n",
       "      <td>4</td>\n",
       "      <td>NaN</td>\n",
       "      <td>[]</td>\n",
       "      <td>Electric Ave</td>\n",
       "    </tr>\n",
       "    <tr>\n",
       "      <th>5</th>\n",
       "      <td>0</td>\n",
       "      <td>2008-11-26 01:44:45</td>\n",
       "      <td>2009-01-05</td>\n",
       "      <td>NaN</td>\n",
       "      <td>4</td>\n",
       "      <td>1</td>\n",
       "      <td>&lt;p&gt;&lt;/p&gt;</td>\n",
       "      <td>6073</td>\n",
       "      <td>NaN</td>\n",
       "      <td>[]</td>\n",
       "      <td>AWOL - A Way Of Life</td>\n",
       "      <td>7</td>\n",
       "      <td>Album</td>\n",
       "      <td>2006-01-01</td>\n",
       "      <td>NaT</td>\n",
       "      <td>NaN</td>\n",
       "      <td>&lt;p&gt;A Way Of Life, A Collective of Hip-Hop from NJ...................&lt;/p&gt;</td>\n",
       "      <td>0</td>\n",
       "      <td>2008-11-26 01:42:32</td>\n",
       "      <td>9</td>\n",
       "      <td>1</td>\n",
       "      <td>40.058324</td>\n",
       "      <td>New Jersey</td>\n",
       "      <td>-74.405661</td>\n",
       "      <td>Sajje Morocco,Brownbum,ZawidaGod,Custodian of Records,Zooberelli the Don,F.A.H,MadSicka,Damien Omenicci..and a van load more...</td>\n",
       "      <td>AWOL</td>\n",
       "      <td>The list of past projects is 2 long but every1 and every style from Tabby Bonet 2 M.O.P..Azillion Records Flagship trackmaster DJ BrownBum is a beat Wizard.....A-2-Z..illion....(right now working with JerseyBlock Ent)</td>\n",
       "      <td>[awol]</td>\n",
       "      <td>http://www.AzillionRecords.blogspot.com</td>\n",
       "      <td>NaN</td>\n",
       "      <td>training</td>\n",
       "      <td>small</td>\n",
       "      <td>256000</td>\n",
       "      <td>0</td>\n",
       "      <td>NaN</td>\n",
       "      <td>2008-11-26 01:48:20</td>\n",
       "      <td>2008-11-26</td>\n",
       "      <td>206</td>\n",
       "      <td>6</td>\n",
       "      <td>Hip-Hop</td>\n",
       "      <td>[21]</td>\n",
       "      <td>[21]</td>\n",
       "      <td>NaN</td>\n",
       "      <td>1933</td>\n",
       "      <td>en</td>\n",
       "      <td>Attribution-NonCommercial-ShareAlike 3.0 International</td>\n",
       "      <td>1151</td>\n",
       "      <td>NaN</td>\n",
       "      <td>6</td>\n",
       "      <td>NaN</td>\n",
       "      <td>[]</td>\n",
       "      <td>This World</td>\n",
       "    </tr>\n",
       "  </tbody>\n",
       "</table>\n",
       "</div>"
      ],
      "text/plain": [
       "            album                                                          \\\n",
       "         comments        date_created date_released engineer favorites id   \n",
       "track_id                                                                    \n",
       "2               0 2008-11-26 01:44:45    2009-01-05      NaN         4  1   \n",
       "3               0 2008-11-26 01:44:45    2009-01-05      NaN         4  1   \n",
       "5               0 2008-11-26 01:44:45    2009-01-05      NaN         4  1   \n",
       "\n",
       "                                                                         \\\n",
       "         information listens producer tags                 title tracks   \n",
       "track_id                                                                  \n",
       "2            <p></p>    6073      NaN   []  AWOL - A Way Of Life      7   \n",
       "3            <p></p>    6073      NaN   []  AWOL - A Way Of Life      7   \n",
       "5            <p></p>    6073      NaN   []  AWOL - A Way Of Life      7   \n",
       "\n",
       "                           artist                                    \\\n",
       "           type active_year_begin active_year_end associated_labels   \n",
       "track_id                                                              \n",
       "2         Album        2006-01-01             NaT               NaN   \n",
       "3         Album        2006-01-01             NaT               NaN   \n",
       "5         Album        2006-01-01             NaT               NaN   \n",
       "\n",
       "                                                                                    \\\n",
       "                                                                               bio   \n",
       "track_id                                                                             \n",
       "2         <p>A Way Of Life, A Collective of Hip-Hop from NJ...................</p>   \n",
       "3         <p>A Way Of Life, A Collective of Hip-Hop from NJ...................</p>   \n",
       "5         <p>A Way Of Life, A Collective of Hip-Hop from NJ...................</p>   \n",
       "\n",
       "                                                                           \\\n",
       "         comments        date_created favorites id   latitude    location   \n",
       "track_id                                                                    \n",
       "2               0 2008-11-26 01:42:32         9  1  40.058324  New Jersey   \n",
       "3               0 2008-11-26 01:42:32         9  1  40.058324  New Jersey   \n",
       "5               0 2008-11-26 01:42:32         9  1  40.058324  New Jersey   \n",
       "\n",
       "                     \\\n",
       "          longitude   \n",
       "track_id              \n",
       "2        -74.405661   \n",
       "3        -74.405661   \n",
       "5        -74.405661   \n",
       "\n",
       "                                                                                                                                           \\\n",
       "                                                                                                                                  members   \n",
       "track_id                                                                                                                                    \n",
       "2         Sajje Morocco,Brownbum,ZawidaGod,Custodian of Records,Zooberelli the Don,F.A.H,MadSicka,Damien Omenicci..and a van load more...   \n",
       "3         Sajje Morocco,Brownbum,ZawidaGod,Custodian of Records,Zooberelli the Don,F.A.H,MadSicka,Damien Omenicci..and a van load more...   \n",
       "5         Sajje Morocco,Brownbum,ZawidaGod,Custodian of Records,Zooberelli the Don,F.A.H,MadSicka,Damien Omenicci..and a van load more...   \n",
       "\n",
       "                \\\n",
       "          name   \n",
       "track_id         \n",
       "2         AWOL   \n",
       "3         AWOL   \n",
       "5         AWOL   \n",
       "\n",
       "                                                                                                                                                                                                                                     \\\n",
       "                                                                                                                                                                                                                   related_projects   \n",
       "track_id                                                                                                                                                                                                                              \n",
       "2         The list of past projects is 2 long but every1 and every style from Tabby Bonet 2 M.O.P..Azillion Records Flagship trackmaster DJ BrownBum is a beat Wizard.....A-2-Z..illion....(right now working with JerseyBlock Ent)   \n",
       "3         The list of past projects is 2 long but every1 and every style from Tabby Bonet 2 M.O.P..Azillion Records Flagship trackmaster DJ BrownBum is a beat Wizard.....A-2-Z..illion....(right now working with JerseyBlock Ent)   \n",
       "5         The list of past projects is 2 long but every1 and every style from Tabby Bonet 2 M.O.P..Azillion Records Flagship trackmaster DJ BrownBum is a beat Wizard.....A-2-Z..illion....(right now working with JerseyBlock Ent)   \n",
       "\n",
       "                                                                          \\\n",
       "            tags                                  website wikipedia_page   \n",
       "track_id                                                                   \n",
       "2         [awol]  http://www.AzillionRecords.blogspot.com            NaN   \n",
       "3         [awol]  http://www.AzillionRecords.blogspot.com            NaN   \n",
       "5         [awol]  http://www.AzillionRecords.blogspot.com            NaN   \n",
       "\n",
       "               set            track                                        \\\n",
       "             split  subset bit_rate comments composer        date_created   \n",
       "track_id                                                                    \n",
       "2         training   small   256000        0      NaN 2008-11-26 01:48:12   \n",
       "3         training  medium   256000        0      NaN 2008-11-26 01:48:14   \n",
       "5         training   small   256000        0      NaN 2008-11-26 01:48:20   \n",
       "\n",
       "                                                                       \\\n",
       "         date_recorded duration favorites genre_top genres genres_all   \n",
       "track_id                                                                \n",
       "2           2008-11-26      168         2   Hip-Hop   [21]       [21]   \n",
       "3           2008-11-26      237         1   Hip-Hop   [21]       [21]   \n",
       "5           2008-11-26      206         6   Hip-Hop   [21]       [21]   \n",
       "\n",
       "                                             \\\n",
       "         information interest language_code   \n",
       "track_id                                      \n",
       "2                NaN     4656            en   \n",
       "3                NaN     1470            en   \n",
       "5                NaN     1933            en   \n",
       "\n",
       "                                                                          \\\n",
       "                                                         license listens   \n",
       "track_id                                                                   \n",
       "2         Attribution-NonCommercial-ShareAlike 3.0 International    1293   \n",
       "3         Attribution-NonCommercial-ShareAlike 3.0 International     514   \n",
       "5         Attribution-NonCommercial-ShareAlike 3.0 International    1151   \n",
       "\n",
       "                                                       \n",
       "         lyricist number publisher tags         title  \n",
       "track_id                                               \n",
       "2             NaN      3       NaN   []          Food  \n",
       "3             NaN      4       NaN   []  Electric Ave  \n",
       "5             NaN      6       NaN   []    This World  "
      ]
     },
     "execution_count": 5,
     "metadata": {},
     "output_type": "execute_result"
    }
   ],
   "source": [
    "tracks = utils.load(TRACKS_PATH)\n",
    "tracks.head(3)"
   ]
  },
  {
   "cell_type": "code",
   "execution_count": 6,
   "metadata": {},
   "outputs": [
    {
     "data": {
      "text/html": [
       "<div>\n",
       "<style scoped>\n",
       "    .dataframe tbody tr th:only-of-type {\n",
       "        vertical-align: middle;\n",
       "    }\n",
       "\n",
       "    .dataframe tbody tr th {\n",
       "        vertical-align: top;\n",
       "    }\n",
       "\n",
       "    .dataframe thead tr th {\n",
       "        text-align: left;\n",
       "    }\n",
       "\n",
       "    .dataframe thead tr:last-of-type th {\n",
       "        text-align: right;\n",
       "    }\n",
       "</style>\n",
       "<table border=\"1\" class=\"dataframe\">\n",
       "  <thead>\n",
       "    <tr>\n",
       "      <th></th>\n",
       "      <th colspan=\"2\" halign=\"left\">set</th>\n",
       "      <th colspan=\"20\" halign=\"left\">track</th>\n",
       "    </tr>\n",
       "    <tr>\n",
       "      <th></th>\n",
       "      <th>split</th>\n",
       "      <th>subset</th>\n",
       "      <th>bit_rate</th>\n",
       "      <th>comments</th>\n",
       "      <th>composer</th>\n",
       "      <th>date_created</th>\n",
       "      <th>date_recorded</th>\n",
       "      <th>duration</th>\n",
       "      <th>favorites</th>\n",
       "      <th>genre_top</th>\n",
       "      <th>genres</th>\n",
       "      <th>genres_all</th>\n",
       "      <th>information</th>\n",
       "      <th>interest</th>\n",
       "      <th>language_code</th>\n",
       "      <th>license</th>\n",
       "      <th>listens</th>\n",
       "      <th>lyricist</th>\n",
       "      <th>number</th>\n",
       "      <th>publisher</th>\n",
       "      <th>tags</th>\n",
       "      <th>title</th>\n",
       "    </tr>\n",
       "    <tr>\n",
       "      <th>track_id</th>\n",
       "      <th></th>\n",
       "      <th></th>\n",
       "      <th></th>\n",
       "      <th></th>\n",
       "      <th></th>\n",
       "      <th></th>\n",
       "      <th></th>\n",
       "      <th></th>\n",
       "      <th></th>\n",
       "      <th></th>\n",
       "      <th></th>\n",
       "      <th></th>\n",
       "      <th></th>\n",
       "      <th></th>\n",
       "      <th></th>\n",
       "      <th></th>\n",
       "      <th></th>\n",
       "      <th></th>\n",
       "      <th></th>\n",
       "      <th></th>\n",
       "      <th></th>\n",
       "      <th></th>\n",
       "    </tr>\n",
       "  </thead>\n",
       "  <tbody>\n",
       "    <tr>\n",
       "      <th>2</th>\n",
       "      <td>training</td>\n",
       "      <td>small</td>\n",
       "      <td>256000</td>\n",
       "      <td>0</td>\n",
       "      <td>NaN</td>\n",
       "      <td>2008-11-26 01:48:12</td>\n",
       "      <td>2008-11-26</td>\n",
       "      <td>168</td>\n",
       "      <td>2</td>\n",
       "      <td>Hip-Hop</td>\n",
       "      <td>[21]</td>\n",
       "      <td>[21]</td>\n",
       "      <td>NaN</td>\n",
       "      <td>4656</td>\n",
       "      <td>en</td>\n",
       "      <td>Attribution-NonCommercial-ShareAlike 3.0 International</td>\n",
       "      <td>1293</td>\n",
       "      <td>NaN</td>\n",
       "      <td>3</td>\n",
       "      <td>NaN</td>\n",
       "      <td>[]</td>\n",
       "      <td>Food</td>\n",
       "    </tr>\n",
       "    <tr>\n",
       "      <th>3</th>\n",
       "      <td>training</td>\n",
       "      <td>medium</td>\n",
       "      <td>256000</td>\n",
       "      <td>0</td>\n",
       "      <td>NaN</td>\n",
       "      <td>2008-11-26 01:48:14</td>\n",
       "      <td>2008-11-26</td>\n",
       "      <td>237</td>\n",
       "      <td>1</td>\n",
       "      <td>Hip-Hop</td>\n",
       "      <td>[21]</td>\n",
       "      <td>[21]</td>\n",
       "      <td>NaN</td>\n",
       "      <td>1470</td>\n",
       "      <td>en</td>\n",
       "      <td>Attribution-NonCommercial-ShareAlike 3.0 International</td>\n",
       "      <td>514</td>\n",
       "      <td>NaN</td>\n",
       "      <td>4</td>\n",
       "      <td>NaN</td>\n",
       "      <td>[]</td>\n",
       "      <td>Electric Ave</td>\n",
       "    </tr>\n",
       "    <tr>\n",
       "      <th>5</th>\n",
       "      <td>training</td>\n",
       "      <td>small</td>\n",
       "      <td>256000</td>\n",
       "      <td>0</td>\n",
       "      <td>NaN</td>\n",
       "      <td>2008-11-26 01:48:20</td>\n",
       "      <td>2008-11-26</td>\n",
       "      <td>206</td>\n",
       "      <td>6</td>\n",
       "      <td>Hip-Hop</td>\n",
       "      <td>[21]</td>\n",
       "      <td>[21]</td>\n",
       "      <td>NaN</td>\n",
       "      <td>1933</td>\n",
       "      <td>en</td>\n",
       "      <td>Attribution-NonCommercial-ShareAlike 3.0 International</td>\n",
       "      <td>1151</td>\n",
       "      <td>NaN</td>\n",
       "      <td>6</td>\n",
       "      <td>NaN</td>\n",
       "      <td>[]</td>\n",
       "      <td>This World</td>\n",
       "    </tr>\n",
       "  </tbody>\n",
       "</table>\n",
       "</div>"
      ],
      "text/plain": [
       "               set            track                                        \\\n",
       "             split  subset bit_rate comments composer        date_created   \n",
       "track_id                                                                    \n",
       "2         training   small   256000        0      NaN 2008-11-26 01:48:12   \n",
       "3         training  medium   256000        0      NaN 2008-11-26 01:48:14   \n",
       "5         training   small   256000        0      NaN 2008-11-26 01:48:20   \n",
       "\n",
       "                                                                       \\\n",
       "         date_recorded duration favorites genre_top genres genres_all   \n",
       "track_id                                                                \n",
       "2           2008-11-26      168         2   Hip-Hop   [21]       [21]   \n",
       "3           2008-11-26      237         1   Hip-Hop   [21]       [21]   \n",
       "5           2008-11-26      206         6   Hip-Hop   [21]       [21]   \n",
       "\n",
       "                                             \\\n",
       "         information interest language_code   \n",
       "track_id                                      \n",
       "2                NaN     4656            en   \n",
       "3                NaN     1470            en   \n",
       "5                NaN     1933            en   \n",
       "\n",
       "                                                                          \\\n",
       "                                                         license listens   \n",
       "track_id                                                                   \n",
       "2         Attribution-NonCommercial-ShareAlike 3.0 International    1293   \n",
       "3         Attribution-NonCommercial-ShareAlike 3.0 International     514   \n",
       "5         Attribution-NonCommercial-ShareAlike 3.0 International    1151   \n",
       "\n",
       "                                                       \n",
       "         lyricist number publisher tags         title  \n",
       "track_id                                               \n",
       "2             NaN      3       NaN   []          Food  \n",
       "3             NaN      4       NaN   []  Electric Ave  \n",
       "5             NaN      6       NaN   []    This World  "
      ]
     },
     "execution_count": 6,
     "metadata": {},
     "output_type": "execute_result"
    }
   ],
   "source": [
    "tracks = tracks[['set', 'track']]\n",
    "tracks.head(3)"
   ]
  },
  {
   "cell_type": "code",
   "execution_count": 7,
   "metadata": {},
   "outputs": [
    {
     "data": {
      "text/html": [
       "<div>\n",
       "<style scoped>\n",
       "    .dataframe tbody tr th:only-of-type {\n",
       "        vertical-align: middle;\n",
       "    }\n",
       "\n",
       "    .dataframe tbody tr th {\n",
       "        vertical-align: top;\n",
       "    }\n",
       "\n",
       "    .dataframe thead th {\n",
       "        text-align: right;\n",
       "    }\n",
       "</style>\n",
       "<table border=\"1\" class=\"dataframe\">\n",
       "  <thead>\n",
       "    <tr style=\"text-align: right;\">\n",
       "      <th></th>\n",
       "      <th>genre_top</th>\n",
       "      <th>genres_all</th>\n",
       "    </tr>\n",
       "    <tr>\n",
       "      <th>track_id</th>\n",
       "      <th></th>\n",
       "      <th></th>\n",
       "    </tr>\n",
       "  </thead>\n",
       "  <tbody>\n",
       "    <tr>\n",
       "      <th>2</th>\n",
       "      <td>Hip-Hop</td>\n",
       "      <td>[21]</td>\n",
       "    </tr>\n",
       "    <tr>\n",
       "      <th>3</th>\n",
       "      <td>Hip-Hop</td>\n",
       "      <td>[21]</td>\n",
       "    </tr>\n",
       "    <tr>\n",
       "      <th>5</th>\n",
       "      <td>Hip-Hop</td>\n",
       "      <td>[21]</td>\n",
       "    </tr>\n",
       "  </tbody>\n",
       "</table>\n",
       "</div>"
      ],
      "text/plain": [
       "         genre_top genres_all\n",
       "track_id                     \n",
       "2          Hip-Hop       [21]\n",
       "3          Hip-Hop       [21]\n",
       "5          Hip-Hop       [21]"
      ]
     },
     "execution_count": 7,
     "metadata": {},
     "output_type": "execute_result"
    }
   ],
   "source": [
    "tracks['track'][['genre_top', 'genres_all']].head(3)"
   ]
  },
  {
   "cell_type": "code",
   "execution_count": 8,
   "metadata": {},
   "outputs": [
    {
     "data": {
      "text/html": [
       "<div>\n",
       "<style scoped>\n",
       "    .dataframe tbody tr th:only-of-type {\n",
       "        vertical-align: middle;\n",
       "    }\n",
       "\n",
       "    .dataframe tbody tr th {\n",
       "        vertical-align: top;\n",
       "    }\n",
       "\n",
       "    .dataframe thead th {\n",
       "        text-align: right;\n",
       "    }\n",
       "</style>\n",
       "<table border=\"1\" class=\"dataframe\">\n",
       "  <thead>\n",
       "    <tr style=\"text-align: right;\">\n",
       "      <th></th>\n",
       "      <th>split</th>\n",
       "      <th>subset</th>\n",
       "      <th>genre_top</th>\n",
       "      <th>genres_all</th>\n",
       "    </tr>\n",
       "    <tr>\n",
       "      <th>track_id</th>\n",
       "      <th></th>\n",
       "      <th></th>\n",
       "      <th></th>\n",
       "      <th></th>\n",
       "    </tr>\n",
       "  </thead>\n",
       "  <tbody>\n",
       "    <tr>\n",
       "      <th>118400</th>\n",
       "      <td>test</td>\n",
       "      <td>medium</td>\n",
       "      <td>Experimental</td>\n",
       "      <td>[250, 38]</td>\n",
       "    </tr>\n",
       "    <tr>\n",
       "      <th>118280</th>\n",
       "      <td>training</td>\n",
       "      <td>large</td>\n",
       "      <td>NaN</td>\n",
       "      <td>[125, 38, 15]</td>\n",
       "    </tr>\n",
       "    <tr>\n",
       "      <th>115935</th>\n",
       "      <td>training</td>\n",
       "      <td>small</td>\n",
       "      <td>Folk</td>\n",
       "      <td>[17]</td>\n",
       "    </tr>\n",
       "    <tr>\n",
       "      <th>71708</th>\n",
       "      <td>training</td>\n",
       "      <td>large</td>\n",
       "      <td>NaN</td>\n",
       "      <td>[38, 6, 362, 10, 12]</td>\n",
       "    </tr>\n",
       "    <tr>\n",
       "      <th>28527</th>\n",
       "      <td>training</td>\n",
       "      <td>medium</td>\n",
       "      <td>Electronic</td>\n",
       "      <td>[42, 15]</td>\n",
       "    </tr>\n",
       "  </tbody>\n",
       "</table>\n",
       "</div>"
      ],
      "text/plain": [
       "             split  subset     genre_top            genres_all\n",
       "track_id                                                      \n",
       "118400        test  medium  Experimental             [250, 38]\n",
       "118280    training   large           NaN         [125, 38, 15]\n",
       "115935    training   small          Folk                  [17]\n",
       "71708     training   large           NaN  [38, 6, 362, 10, 12]\n",
       "28527     training  medium    Electronic              [42, 15]"
      ]
     },
     "execution_count": 8,
     "metadata": {},
     "output_type": "execute_result"
    }
   ],
   "source": [
    "tracks = pd.merge(\n",
    "    tracks['set'], tracks['track'][['genre_top', 'genres_all']],\n",
    "    right_index=True, left_index=True)\n",
    "tracks.sample(5)"
   ]
  },
  {
   "cell_type": "code",
   "execution_count": 9,
   "metadata": {},
   "outputs": [
    {
     "data": {
      "text/html": [
       "<div>\n",
       "<style scoped>\n",
       "    .dataframe tbody tr th:only-of-type {\n",
       "        vertical-align: middle;\n",
       "    }\n",
       "\n",
       "    .dataframe tbody tr th {\n",
       "        vertical-align: top;\n",
       "    }\n",
       "\n",
       "    .dataframe thead th {\n",
       "        text-align: right;\n",
       "    }\n",
       "</style>\n",
       "<table border=\"1\" class=\"dataframe\">\n",
       "  <thead>\n",
       "    <tr style=\"text-align: right;\">\n",
       "      <th></th>\n",
       "      <th>split</th>\n",
       "      <th>subset</th>\n",
       "      <th>genre_top</th>\n",
       "      <th>genres_all</th>\n",
       "    </tr>\n",
       "    <tr>\n",
       "      <th>track_id</th>\n",
       "      <th></th>\n",
       "      <th></th>\n",
       "      <th></th>\n",
       "      <th></th>\n",
       "    </tr>\n",
       "  </thead>\n",
       "  <tbody>\n",
       "    <tr>\n",
       "      <th>108673</th>\n",
       "      <td>training</td>\n",
       "      <td>large</td>\n",
       "      <td>Experimental</td>\n",
       "      <td>[1, 38, 41, 247, 30]</td>\n",
       "    </tr>\n",
       "    <tr>\n",
       "      <th>39310</th>\n",
       "      <td>training</td>\n",
       "      <td>large</td>\n",
       "      <td>nan</td>\n",
       "      <td>[38, 15]</td>\n",
       "    </tr>\n",
       "    <tr>\n",
       "      <th>151245</th>\n",
       "      <td>training</td>\n",
       "      <td>medium</td>\n",
       "      <td>Electronic</td>\n",
       "      <td>[468, 15]</td>\n",
       "    </tr>\n",
       "    <tr>\n",
       "      <th>14517</th>\n",
       "      <td>training</td>\n",
       "      <td>large</td>\n",
       "      <td>Electronic</td>\n",
       "      <td>[15]</td>\n",
       "    </tr>\n",
       "    <tr>\n",
       "      <th>58716</th>\n",
       "      <td>training</td>\n",
       "      <td>large</td>\n",
       "      <td>Classical</td>\n",
       "      <td>[5]</td>\n",
       "    </tr>\n",
       "    <tr>\n",
       "      <th>10573</th>\n",
       "      <td>training</td>\n",
       "      <td>large</td>\n",
       "      <td>nan</td>\n",
       "      <td>[8, 2, 130]</td>\n",
       "    </tr>\n",
       "    <tr>\n",
       "      <th>56713</th>\n",
       "      <td>training</td>\n",
       "      <td>large</td>\n",
       "      <td>nan</td>\n",
       "      <td>[10, 27, 12]</td>\n",
       "    </tr>\n",
       "    <tr>\n",
       "      <th>116105</th>\n",
       "      <td>training</td>\n",
       "      <td>large</td>\n",
       "      <td>Experimental</td>\n",
       "      <td>[32, 38]</td>\n",
       "    </tr>\n",
       "    <tr>\n",
       "      <th>115928</th>\n",
       "      <td>training</td>\n",
       "      <td>large</td>\n",
       "      <td>Folk</td>\n",
       "      <td>[17]</td>\n",
       "    </tr>\n",
       "    <tr>\n",
       "      <th>46046</th>\n",
       "      <td>validation</td>\n",
       "      <td>large</td>\n",
       "      <td>Experimental</td>\n",
       "      <td>[1, 38, 41]</td>\n",
       "    </tr>\n",
       "  </tbody>\n",
       "</table>\n",
       "</div>"
      ],
      "text/plain": [
       "               split  subset     genre_top            genres_all\n",
       "track_id                                                        \n",
       "108673      training   large  Experimental  [1, 38, 41, 247, 30]\n",
       "39310       training   large           nan              [38, 15]\n",
       "151245      training  medium    Electronic             [468, 15]\n",
       "14517       training   large    Electronic                  [15]\n",
       "58716       training   large     Classical                   [5]\n",
       "10573       training   large           nan           [8, 2, 130]\n",
       "56713       training   large           nan          [10, 27, 12]\n",
       "116105      training   large  Experimental              [32, 38]\n",
       "115928      training   large          Folk                  [17]\n",
       "46046     validation   large  Experimental           [1, 38, 41]"
      ]
     },
     "execution_count": 9,
     "metadata": {},
     "output_type": "execute_result"
    }
   ],
   "source": [
    "tracks['genre_top'] = tracks['genre_top'].astype(str)\n",
    "tracks['genre_top'].fillna('', inplace=True)\n",
    "tracks.sample(10)"
   ]
  },
  {
   "cell_type": "code",
   "execution_count": 10,
   "metadata": {},
   "outputs": [],
   "source": [
    "tracks = tracks[tracks['subset'] <= 'medium']"
   ]
  },
  {
   "cell_type": "code",
   "execution_count": 11,
   "metadata": {},
   "outputs": [
    {
     "data": {
      "text/plain": [
       "(25000, 4)"
      ]
     },
     "execution_count": 11,
     "metadata": {},
     "output_type": "execute_result"
    }
   ],
   "source": [
    "tracks.shape"
   ]
  },
  {
   "cell_type": "code",
   "execution_count": 12,
   "metadata": {},
   "outputs": [
    {
     "data": {
      "text/html": [
       "<div>\n",
       "<style scoped>\n",
       "    .dataframe tbody tr th:only-of-type {\n",
       "        vertical-align: middle;\n",
       "    }\n",
       "\n",
       "    .dataframe tbody tr th {\n",
       "        vertical-align: top;\n",
       "    }\n",
       "\n",
       "    .dataframe thead th {\n",
       "        text-align: right;\n",
       "    }\n",
       "</style>\n",
       "<table border=\"1\" class=\"dataframe\">\n",
       "  <thead>\n",
       "    <tr style=\"text-align: right;\">\n",
       "      <th></th>\n",
       "      <th>split</th>\n",
       "      <th>subset</th>\n",
       "      <th>genre_top</th>\n",
       "      <th>genres_all</th>\n",
       "    </tr>\n",
       "    <tr>\n",
       "      <th>track_id</th>\n",
       "      <th></th>\n",
       "      <th></th>\n",
       "      <th></th>\n",
       "      <th></th>\n",
       "    </tr>\n",
       "  </thead>\n",
       "  <tbody>\n",
       "    <tr>\n",
       "      <th>2</th>\n",
       "      <td>training</td>\n",
       "      <td>small</td>\n",
       "      <td>Hip-Hop</td>\n",
       "      <td>[21]</td>\n",
       "    </tr>\n",
       "    <tr>\n",
       "      <th>3</th>\n",
       "      <td>training</td>\n",
       "      <td>medium</td>\n",
       "      <td>Hip-Hop</td>\n",
       "      <td>[21]</td>\n",
       "    </tr>\n",
       "    <tr>\n",
       "      <th>5</th>\n",
       "      <td>training</td>\n",
       "      <td>small</td>\n",
       "      <td>Hip-Hop</td>\n",
       "      <td>[21]</td>\n",
       "    </tr>\n",
       "    <tr>\n",
       "      <th>10</th>\n",
       "      <td>training</td>\n",
       "      <td>small</td>\n",
       "      <td>Pop</td>\n",
       "      <td>[10]</td>\n",
       "    </tr>\n",
       "    <tr>\n",
       "      <th>134</th>\n",
       "      <td>training</td>\n",
       "      <td>medium</td>\n",
       "      <td>Hip-Hop</td>\n",
       "      <td>[21]</td>\n",
       "    </tr>\n",
       "    <tr>\n",
       "      <th>136</th>\n",
       "      <td>training</td>\n",
       "      <td>medium</td>\n",
       "      <td>Rock</td>\n",
       "      <td>[58, 12, 45]</td>\n",
       "    </tr>\n",
       "    <tr>\n",
       "      <th>139</th>\n",
       "      <td>training</td>\n",
       "      <td>medium</td>\n",
       "      <td>Folk</td>\n",
       "      <td>[17]</td>\n",
       "    </tr>\n",
       "    <tr>\n",
       "      <th>140</th>\n",
       "      <td>training</td>\n",
       "      <td>small</td>\n",
       "      <td>Folk</td>\n",
       "      <td>[17]</td>\n",
       "    </tr>\n",
       "    <tr>\n",
       "      <th>141</th>\n",
       "      <td>training</td>\n",
       "      <td>small</td>\n",
       "      <td>Folk</td>\n",
       "      <td>[17]</td>\n",
       "    </tr>\n",
       "    <tr>\n",
       "      <th>148</th>\n",
       "      <td>validation</td>\n",
       "      <td>small</td>\n",
       "      <td>Experimental</td>\n",
       "      <td>[1, 38]</td>\n",
       "    </tr>\n",
       "    <tr>\n",
       "      <th>181</th>\n",
       "      <td>test</td>\n",
       "      <td>medium</td>\n",
       "      <td>Rock</td>\n",
       "      <td>[27, 12]</td>\n",
       "    </tr>\n",
       "    <tr>\n",
       "      <th>182</th>\n",
       "      <td>test</td>\n",
       "      <td>small</td>\n",
       "      <td>Rock</td>\n",
       "      <td>[27, 12]</td>\n",
       "    </tr>\n",
       "    <tr>\n",
       "      <th>190</th>\n",
       "      <td>training</td>\n",
       "      <td>small</td>\n",
       "      <td>Folk</td>\n",
       "      <td>[17]</td>\n",
       "    </tr>\n",
       "    <tr>\n",
       "      <th>193</th>\n",
       "      <td>training</td>\n",
       "      <td>small</td>\n",
       "      <td>Folk</td>\n",
       "      <td>[17]</td>\n",
       "    </tr>\n",
       "    <tr>\n",
       "      <th>194</th>\n",
       "      <td>training</td>\n",
       "      <td>small</td>\n",
       "      <td>Folk</td>\n",
       "      <td>[17]</td>\n",
       "    </tr>\n",
       "  </tbody>\n",
       "</table>\n",
       "</div>"
      ],
      "text/plain": [
       "               split  subset     genre_top    genres_all\n",
       "track_id                                                \n",
       "2           training   small       Hip-Hop          [21]\n",
       "3           training  medium       Hip-Hop          [21]\n",
       "5           training   small       Hip-Hop          [21]\n",
       "10          training   small           Pop          [10]\n",
       "134         training  medium       Hip-Hop          [21]\n",
       "136         training  medium          Rock  [58, 12, 45]\n",
       "139         training  medium          Folk          [17]\n",
       "140         training   small          Folk          [17]\n",
       "141         training   small          Folk          [17]\n",
       "148       validation   small  Experimental       [1, 38]\n",
       "181             test  medium          Rock      [27, 12]\n",
       "182             test   small          Rock      [27, 12]\n",
       "190         training   small          Folk          [17]\n",
       "193         training   small          Folk          [17]\n",
       "194         training   small          Folk          [17]"
      ]
     },
     "execution_count": 12,
     "metadata": {},
     "output_type": "execute_result"
    }
   ],
   "source": [
    "tracks.head(15)"
   ]
  },
  {
   "cell_type": "code",
   "execution_count": 13,
   "metadata": {},
   "outputs": [
    {
     "data": {
      "text/plain": [
       "Rock                   7103\n",
       "Electronic             6314\n",
       "Experimental           2251\n",
       "Hip-Hop                2201\n",
       "Folk                   1519\n",
       "Instrumental           1350\n",
       "Pop                    1186\n",
       "International          1018\n",
       "Classical               619\n",
       "Old-Time / Historic     510\n",
       "Jazz                    384\n",
       "Country                 178\n",
       "Soul-RnB                154\n",
       "Spoken                  118\n",
       "Blues                    74\n",
       "Easy Listening           21\n",
       "Name: genre_top, dtype: int64"
      ]
     },
     "execution_count": 13,
     "metadata": {},
     "output_type": "execute_result"
    }
   ],
   "source": [
    "tracks['genre_top'].value_counts()"
   ]
  },
  {
   "cell_type": "code",
   "execution_count": 14,
   "metadata": {},
   "outputs": [
    {
     "data": {
      "text/plain": [
       "{12: 7103,\n",
       " 15: 6314,\n",
       " 25: 3319,\n",
       " 38: 2251,\n",
       " 21: 2201,\n",
       " 17: 1519,\n",
       " 85: 1417,\n",
       " 1235: 1350,\n",
       " 66: 1293,\n",
       " 10: 1186,\n",
       " 297: 1029,\n",
       " 2: 1018,\n",
       " 42: 1004,\n",
       " 236: 988,\n",
       " 18: 821,\n",
       " 181: 802,\n",
       " 495: 791,\n",
       " 182: 697,\n",
       " 240: 694,\n",
       " 286: 670,\n",
       " 109: 657,\n",
       " 89: 645,\n",
       " 58: 624,\n",
       " 5: 619,\n",
       " 31: 577,\n",
       " 468: 577,\n",
       " 103: 574,\n",
       " 1: 559,\n",
       " 27: 549,\n",
       " 183: 549,\n",
       " 111: 545,\n",
       " 45: 535,\n",
       " 26: 517,\n",
       " 76: 512,\n",
       " 8: 510,\n",
       " 296: 506,\n",
       " 32: 487,\n",
       " 107: 407,\n",
       " 53: 394,\n",
       " 4: 384,\n",
       " 400: 325,\n",
       " 539: 318,\n",
       " 41: 317,\n",
       " 98: 277,\n",
       " 224: 243,\n",
       " 79: 233,\n",
       " 250: 230,\n",
       " 359: 229,\n",
       " 118: 220,\n",
       " 337: 218,\n",
       " 100: 217,\n",
       " 88: 217,\n",
       " 362: 212,\n",
       " 47: 206,\n",
       " 30: 200,\n",
       " 130: 186,\n",
       " 184: 184,\n",
       " 9: 178,\n",
       " 125: 174,\n",
       " 70: 172,\n",
       " 811: 168,\n",
       " 314: 160,\n",
       " 113: 157,\n",
       " 14: 154,\n",
       " 71: 147,\n",
       " 33: 144,\n",
       " 185: 139,\n",
       " 456: 134,\n",
       " 404: 133,\n",
       " 64: 129,\n",
       " 247: 127,\n",
       " 6: 125,\n",
       " 46: 120,\n",
       " 514: 120,\n",
       " 20: 118,\n",
       " 22: 115,\n",
       " 137: 106,\n",
       " 102: 104,\n",
       " 167: 102,\n",
       " 361: 102,\n",
       " 90: 100,\n",
       " 186: 98,\n",
       " 443: 97,\n",
       " 695: 90,\n",
       " 267: 90,\n",
       " 11: 86,\n",
       " 101: 86,\n",
       " 659: 84,\n",
       " 36: 82,\n",
       " 187: 82,\n",
       " 3: 74,\n",
       " 94: 72,\n",
       " 92: 71,\n",
       " 16: 71,\n",
       " 763: 71,\n",
       " 19: 69,\n",
       " 439: 67,\n",
       " 322: 63,\n",
       " 74: 60,\n",
       " 138: 60,\n",
       " 524: 58,\n",
       " 442: 50,\n",
       " 538: 48,\n",
       " 65: 45,\n",
       " 602: 45,\n",
       " 1032: 45,\n",
       " 440: 44,\n",
       " 177: 40,\n",
       " 172: 37,\n",
       " 169: 36,\n",
       " 188: 35,\n",
       " 491: 34,\n",
       " 49: 33,\n",
       " 360: 31,\n",
       " 37: 30,\n",
       " 81: 30,\n",
       " 542: 30,\n",
       " 504: 29,\n",
       " 741: 29,\n",
       " 63: 26,\n",
       " 83: 26,\n",
       " 117: 25,\n",
       " 97: 25,\n",
       " 906: 24,\n",
       " 401: 23,\n",
       " 1193: 22,\n",
       " 13: 21,\n",
       " 441: 21,\n",
       " 378: 19,\n",
       " 166: 18,\n",
       " 77: 17,\n",
       " 180: 16,\n",
       " 502: 16,\n",
       " 43: 16,\n",
       " 86: 15,\n",
       " 214: 14,\n",
       " 580: 14,\n",
       " 311: 11,\n",
       " 7: 11,\n",
       " 232: 11,\n",
       " 808: 11,\n",
       " 189: 11,\n",
       " 1060: 7,\n",
       " 179: 6,\n",
       " 651: 6,\n",
       " 619: 5,\n",
       " 374: 4,\n",
       " 171: 4,\n",
       " 428: 3,\n",
       " 174: 2,\n",
       " 810: 1}"
      ]
     },
     "execution_count": 14,
     "metadata": {},
     "output_type": "execute_result"
    }
   ],
   "source": [
    "from collections import Counter\n",
    "\n",
    "genres_ids_with_occ = Counter()\n",
    "for genres_all in tracks['genres_all']:\n",
    "    genres_ids_with_occ.update(genres_all)\n",
    "\n",
    "dict(sorted(genres_ids_with_occ.items(), key=lambda x: x[1], reverse=True))"
   ]
  },
  {
   "cell_type": "markdown",
   "metadata": {},
   "source": [
    "1. iteruj po genresids_with_occ -> (genre_id, occurrences)\n",
    "2. jesli occurrences >= min_genre_occurrences to przypisz do slownika\n",
    "3. w innym przypadku:\n",
    "3.1. wez id parenta z genres\n",
    "3.2. dodaj do "
   ]
  },
  {
   "cell_type": "code",
   "execution_count": 15,
   "metadata": {},
   "outputs": [
    {
     "name": "stdout",
     "output_type": "stream",
     "text": [
      "genre_id=58 occurrences=624 {'#tracks': 2502, 'parent': 12, 'title': 'Psych-Rock', 'top_level': 12}\n",
      "\toccurrences=7727 parent_occurrences=7103 new_genre_id=12 new_parent_id=0\n",
      "\n",
      "genre_id=45 occurrences=535 {'#tracks': 2469, 'parent': 12, 'title': 'Loud-Rock', 'top_level': 12}\n",
      "\toccurrences=7638 parent_occurrences=7103 new_genre_id=12 new_parent_id=0\n",
      "\n",
      "genre_id=1 occurrences=559 {'#tracks': 8693, 'parent': 38, 'title': 'Avant-Garde', 'top_level': 38}\n",
      "\toccurrences=2810 parent_occurrences=2251 new_genre_id=38 new_parent_id=0\n",
      "\n",
      "genre_id=27 occurrences=549 {'#tracks': 6041, 'parent': 12, 'title': 'Lo-Fi', 'top_level': 12}\n",
      "\toccurrences=7652 parent_occurrences=7103 new_genre_id=12 new_parent_id=0\n",
      "\n",
      "genre_id=4 occurrences=384 {'#tracks': 4126, 'parent': 0, 'title': 'Jazz', 'top_level': 4}\n",
      "\n",
      "genre_id=31 occurrences=577 {'#tracks': 1498, 'parent': 12, 'title': 'Metal', 'top_level': 12}\n",
      "\toccurrences=7680 parent_occurrences=7103 new_genre_id=12 new_parent_id=0\n",
      "\n",
      "genre_id=89 occurrences=645 {'#tracks': 1858, 'parent': 25, 'title': 'Post-Punk', 'top_level': 12}\n",
      "\toccurrences=3964 parent_occurrences=3319 new_genre_id=25 new_parent_id=12\n",
      "\n",
      "genre_id=36 occurrences=82 {'#tracks': 688, 'parent': 12, 'title': 'Krautrock', 'top_level': 12}\n",
      "\toccurrences=7185 parent_occurrences=7103 new_genre_id=12 new_parent_id=0\n",
      "\n",
      "genre_id=37 occurrences=30 {'#tracks': 97, 'parent': 4, 'title': 'Jazz: Vocal', 'top_level': 4}\n",
      "\toccurrences=414 parent_occurrences=384 new_genre_id=4 new_parent_id=0\n",
      "\n",
      "genre_id=41 occurrences=317 {'#tracks': 6110, 'parent': 38, 'title': 'Electroacoustic', 'top_level': 38}\n",
      "\toccurrences=2568 parent_occurrences=2251 new_genre_id=38 new_parent_id=0\n",
      "\n",
      "genre_id=79 occurrences=233 {'#tracks': 880, 'parent': 2, 'title': 'Reggae - Dub', 'top_level': 2}\n",
      "\toccurrences=1251 parent_occurrences=1018 new_genre_id=2 new_parent_id=0\n",
      "\n",
      "genre_id=46 occurrences=120 {'#tracks': 573, 'parent': 2, 'title': 'Latin America', 'top_level': 2}\n",
      "\toccurrences=1138 parent_occurrences=1018 new_genre_id=2 new_parent_id=0\n",
      "\n",
      "genre_id=11 occurrences=86 {'#tracks': 367, 'parent': 14, 'title': 'Disco', 'top_level': 14}\n",
      "\toccurrences=240 parent_occurrences=154 new_genre_id=14 new_parent_id=0\n",
      "\n",
      "genre_id=14 occurrences=154 {'#tracks': 1499, 'parent': 0, 'title': 'Soul-RnB', 'top_level': 14}\n",
      "\n",
      "genre_id=32 occurrences=487 {'#tracks': 7268, 'parent': 38, 'title': 'Noise', 'top_level': 38}\n",
      "\toccurrences=2738 parent_occurrences=2251 new_genre_id=38 new_parent_id=0\n",
      "\n",
      "genre_id=47 occurrences=206 {'#tracks': 2546, 'parent': 38, 'title': 'Drone', 'top_level': 38}\n",
      "\toccurrences=2457 parent_occurrences=2251 new_genre_id=38 new_parent_id=0\n",
      "\n",
      "genre_id=49 occurrences=33 {'#tracks': 753, 'parent': 17, 'title': 'Free-Folk', 'top_level': 17}\n",
      "\toccurrences=1552 parent_occurrences=1519 new_genre_id=17 new_parent_id=0\n",
      "\n",
      "genre_id=111 occurrences=545 {'#tracks': 1003, 'parent': 25, 'title': 'Power-Pop', 'top_level': 12}\n",
      "\toccurrences=3864 parent_occurrences=3319 new_genre_id=25 new_parent_id=12\n",
      "\n",
      "genre_id=53 occurrences=394 {'#tracks': 2071, 'parent': 45, 'title': 'Noise-Rock', 'top_level': 12}\n",
      "\toccurrences=929 parent_occurrences=535 new_genre_id=45 new_parent_id=12\n",
      "\toccurrences=8032 parent_occurrences=7103 new_genre_id=12 new_parent_id=0\n",
      "\n",
      "genre_id=3 occurrences=74 {'#tracks': 1752, 'parent': 0, 'title': 'Blues', 'top_level': 3}\n",
      "\n",
      "genre_id=22 occurrences=115 {'#tracks': 774, 'parent': 38, 'title': 'Audio Collage', 'top_level': 38}\n",
      "\toccurrences=2366 parent_occurrences=2251 new_genre_id=38 new_parent_id=0\n",
      "\n",
      "genre_id=30 occurrences=200 {'#tracks': 3237, 'parent': 38, 'title': 'Field Recordings', 'top_level': 38}\n",
      "\toccurrences=2451 parent_occurrences=2251 new_genre_id=38 new_parent_id=0\n",
      "\n",
      "genre_id=103 occurrences=574 {'#tracks': 4162, 'parent': 17, 'title': 'Singer-Songwriter', 'top_level': 17}\n",
      "\toccurrences=2093 parent_occurrences=1519 new_genre_id=17 new_parent_id=0\n",
      "\n",
      "genre_id=64 occurrences=129 {'#tracks': 563, 'parent': 25, 'title': 'Electro-Punk', 'top_level': 12}\n",
      "\toccurrences=3448 parent_occurrences=3319 new_genre_id=25 new_parent_id=12\n",
      "\n",
      "genre_id=33 occurrences=144 {'#tracks': 2267, 'parent': 17, 'title': 'Psych-Folk', 'top_level': 17}\n",
      "\toccurrences=1663 parent_occurrences=1519 new_genre_id=17 new_parent_id=0\n",
      "\n",
      "genre_id=71 occurrences=147 {'#tracks': 600, 'parent': 25, 'title': 'No Wave', 'top_level': 12}\n",
      "\toccurrences=3466 parent_occurrences=3319 new_genre_id=25 new_parent_id=12\n",
      "\n",
      "genre_id=98 occurrences=277 {'#tracks': 795, 'parent': 12, 'title': 'Progressive', 'top_level': 12}\n",
      "\toccurrences=7380 parent_occurrences=7103 new_genre_id=12 new_parent_id=0\n",
      "\n",
      "genre_id=74 occurrences=60 {'#tracks': 1531, 'parent': 4, 'title': 'Free-Jazz', 'top_level': 4}\n",
      "\toccurrences=444 parent_occurrences=384 new_genre_id=4 new_parent_id=0\n",
      "\n",
      "genre_id=76 occurrences=512 {'#tracks': 7144, 'parent': 10, 'title': 'Experimental Pop', 'top_level': 10}\n",
      "\toccurrences=1698 parent_occurrences=1186 new_genre_id=10 new_parent_id=0\n",
      "\n",
      "genre_id=188 occurrences=35 {'#tracks': 301, 'parent': 20, 'title': 'Poetry', 'top_level': 20}\n",
      "\toccurrences=153 parent_occurrences=118 new_genre_id=20 new_parent_id=0\n",
      "\n",
      "genre_id=20 occurrences=118 {'#tracks': 1876, 'parent': 0, 'title': 'Spoken', 'top_level': 20}\n",
      "\n",
      "genre_id=9 occurrences=178 {'#tracks': 1987, 'parent': 0, 'title': 'Country', 'top_level': 9}\n",
      "\n",
      "genre_id=63 occurrences=26 {'#tracks': 178, 'parent': 9, 'title': 'Bluegrass', 'top_level': 9}\n",
      "\toccurrences=204 parent_occurrences=178 new_genre_id=9 new_parent_id=0\n",
      "\n",
      "genre_id=26 occurrences=517 {'#tracks': 1952, 'parent': 12, 'title': 'Post-Rock', 'top_level': 12}\n",
      "\toccurrences=7620 parent_occurrences=7103 new_genre_id=12 new_parent_id=0\n",
      "\n",
      "genre_id=117 occurrences=25 {'#tracks': 62, 'parent': 2, 'title': 'Polka', 'top_level': 2}\n",
      "\toccurrences=1043 parent_occurrences=1018 new_genre_id=2 new_parent_id=0\n",
      "\n",
      "genre_id=118 occurrences=220 {'#tracks': 608, 'parent': 2, 'title': 'Balkan', 'top_level': 2}\n",
      "\toccurrences=1238 parent_occurrences=1018 new_genre_id=2 new_parent_id=0\n",
      "\n",
      "genre_id=109 occurrences=657 {'#tracks': 1419, 'parent': 25, 'title': 'Hardcore', 'top_level': 12}\n",
      "\toccurrences=3976 parent_occurrences=3319 new_genre_id=25 new_parent_id=12\n",
      "\n",
      "genre_id=130 occurrences=186 {'#tracks': 727, 'parent': 2, 'title': 'Europe', 'top_level': 2}\n",
      "\toccurrences=1204 parent_occurrences=1018 new_genre_id=2 new_parent_id=0\n",
      "\n",
      "genre_id=113 occurrences=157 {'#tracks': 484, 'parent': 26, 'title': 'Space-Rock', 'top_level': 12}\n",
      "\toccurrences=674 parent_occurrences=517 new_genre_id=26 new_parent_id=12\n",
      "\toccurrences=7777 parent_occurrences=7103 new_genre_id=12 new_parent_id=0\n",
      "\n",
      "genre_id=92 occurrences=71 {'#tracks': 329, 'parent': 2, 'title': 'African', 'top_level': 2}\n",
      "\toccurrences=1089 parent_occurrences=1018 new_genre_id=2 new_parent_id=0\n",
      "\n",
      "genre_id=102 occurrences=104 {'#tracks': 176, 'parent': 2, 'title': 'Middle East', 'top_level': 2}\n",
      "\toccurrences=1122 parent_occurrences=1018 new_genre_id=2 new_parent_id=0\n",
      "\n",
      "genre_id=77 occurrences=17 {'#tracks': 387, 'parent': 2, 'title': 'French', 'top_level': 2}\n",
      "\toccurrences=1035 parent_occurrences=1018 new_genre_id=2 new_parent_id=0\n",
      "\n",
      "genre_id=97 occurrences=25 {'#tracks': 291, 'parent': 4, 'title': 'Jazz: Out', 'top_level': 4}\n",
      "\toccurrences=409 parent_occurrences=384 new_genre_id=4 new_parent_id=0\n",
      "\n",
      "genre_id=137 occurrences=106 {'#tracks': 994, 'parent': 9, 'title': 'Americana', 'top_level': 9}\n",
      "\toccurrences=284 parent_occurrences=178 new_genre_id=9 new_parent_id=0\n",
      "\n",
      "genre_id=5 occurrences=619 {'#tracks': 4106, 'parent': 0, 'title': 'Classical', 'top_level': 5}\n",
      "\n",
      "genre_id=8 occurrences=510 {'#tracks': 868, 'parent': 0, 'title': 'Old-Time / Historic', 'top_level': 8}\n",
      "\n",
      "genre_id=185 occurrences=139 {'#tracks': 511, 'parent': 15, 'title': 'Breakcore - Hard', 'top_level': 15}\n",
      "\toccurrences=6453 parent_occurrences=6314 new_genre_id=15 new_parent_id=0\n",
      "\n",
      "genre_id=224 occurrences=243 {'#tracks': 1916, 'parent': 38, 'title': 'Sound Collage', 'top_level': 38}\n",
      "\toccurrences=2494 parent_occurrences=2251 new_genre_id=38 new_parent_id=0\n",
      "\n",
      "genre_id=94 occurrences=72 {'#tracks': 1289, 'parent': 17, 'title': 'Freak-Folk', 'top_level': 17}\n",
      "\toccurrences=1591 parent_occurrences=1519 new_genre_id=17 new_parent_id=0\n",
      "\n",
      "genre_id=90 occurrences=100 {'#tracks': 251, 'parent': 53, 'title': 'Sludge', 'top_level': 12}\n",
      "\toccurrences=494 parent_occurrences=394 new_genre_id=53 new_parent_id=45\n",
      "\toccurrences=1029 parent_occurrences=535 new_genre_id=45 new_parent_id=12\n",
      "\n",
      "genre_id=101 occurrences=86 {'#tracks': 196, 'parent': 31, 'title': 'Death-Metal', 'top_level': 12}\n",
      "\toccurrences=663 parent_occurrences=577 new_genre_id=31 new_parent_id=12\n",
      "\toccurrences=7766 parent_occurrences=7103 new_genre_id=12 new_parent_id=0\n",
      "\n",
      "genre_id=70 occurrences=172 {'#tracks': 2230, 'parent': 12, 'title': 'Industrial', 'top_level': 12}\n",
      "\toccurrences=7275 parent_occurrences=7103 new_genre_id=12 new_parent_id=0\n",
      "\n",
      "genre_id=125 occurrences=174 {'#tracks': 1511, 'parent': 38, 'title': 'Unclassifiable', 'top_level': 38}\n",
      "\toccurrences=2425 parent_occurrences=2251 new_genre_id=38 new_parent_id=0\n",
      "\n",
      "genre_id=906 occurrences=24 {'#tracks': 107, 'parent': 4, 'title': 'Modern Jazz', 'top_level': 4}\n",
      "\toccurrences=408 parent_occurrences=384 new_genre_id=4 new_parent_id=0\n",
      "\n",
      "genre_id=100 occurrences=217 {'#tracks': 740, 'parent': 21, 'title': 'Alternative Hip-Hop', 'top_level': 21}\n",
      "\toccurrences=2418 parent_occurrences=2201 new_genre_id=21 new_parent_id=0\n",
      "\n",
      "genre_id=538 occurrences=48 {'#tracks': 338, 'parent': 18, 'title': 'Compilation', 'top_level': 1235}\n",
      "\toccurrences=869 parent_occurrences=821 new_genre_id=18 new_parent_id=1235\n",
      "\toccurrences=2219 parent_occurrences=1350 new_genre_id=1235 new_parent_id=0\n",
      "\n",
      "genre_id=18 occurrences=821 {'#tracks': 5913, 'parent': 1235, 'title': 'Soundtrack', 'top_level': 1235}\n",
      "\toccurrences=2171 parent_occurrences=1350 new_genre_id=1235 new_parent_id=0\n",
      "\n",
      "genre_id=107 occurrences=407 {'#tracks': 7206, 'parent': 1235, 'title': 'Ambient', 'top_level': 1235}\n",
      "\toccurrences=1757 parent_occurrences=1350 new_genre_id=1235 new_parent_id=0\n",
      "\n",
      "genre_id=286 occurrences=670 {'#tracks': 1751, 'parent': 15, 'title': 'Trip-Hop', 'top_level': 15}\n",
      "\toccurrences=6984 parent_occurrences=6314 new_genre_id=15 new_parent_id=0\n",
      "\n",
      "genre_id=236 occurrences=988 {'#tracks': 3472, 'parent': 15, 'title': 'IDM', 'top_level': 15}\n",
      "\toccurrences=7302 parent_occurrences=6314 new_genre_id=15 new_parent_id=0\n",
      "\n",
      "genre_id=88 occurrences=217 {'#tracks': 517, 'parent': 12, 'title': 'New Wave', 'top_level': 12}\n",
      "\toccurrences=7320 parent_occurrences=7103 new_genre_id=12 new_parent_id=0\n",
      "\n",
      "genre_id=296 occurrences=506 {'#tracks': 1414, 'parent': 15, 'title': 'Dance', 'top_level': 15}\n",
      "\toccurrences=6820 parent_occurrences=6314 new_genre_id=15 new_parent_id=0\n",
      "\n",
      "genre_id=539 occurrences=318 {'#tracks': 638, 'parent': 21, 'title': 'Rap', 'top_level': 21}\n",
      "\toccurrences=2519 parent_occurrences=2201 new_genre_id=21 new_parent_id=0\n",
      "\n",
      "genre_id=337 occurrences=218 {'#tracks': 500, 'parent': 15, 'title': 'Drum & Bass', 'top_level': 15}\n",
      "\toccurrences=6532 parent_occurrences=6314 new_genre_id=15 new_parent_id=0\n",
      "\n",
      "genre_id=16 occurrences=71 {'#tracks': 304, 'parent': 6, 'title': 'Sound Effects', 'top_level': 38}\n",
      "\toccurrences=196 parent_occurrences=125 new_genre_id=6 new_parent_id=38\n",
      "\toccurrences=2447 parent_occurrences=2251 new_genre_id=38 new_parent_id=0\n",
      "\n",
      "genre_id=763 occurrences=71 {'#tracks': 268, 'parent': 16, 'title': 'Holiday', 'top_level': 38}\n",
      "\toccurrences=142 parent_occurrences=71 new_genre_id=16 new_parent_id=6\n",
      "\toccurrences=267 parent_occurrences=125 new_genre_id=6 new_parent_id=38\n",
      "\toccurrences=2518 parent_occurrences=2251 new_genre_id=38 new_parent_id=0\n",
      "\n",
      "genre_id=6 occurrences=125 {'#tracks': 914, 'parent': 38, 'title': 'Novelty', 'top_level': 38}\n",
      "\toccurrences=2376 parent_occurrences=2251 new_genre_id=38 new_parent_id=0\n",
      "\n",
      "genre_id=314 occurrences=160 {'#tracks': 482, 'parent': 12, 'title': 'Goth', 'top_level': 12}\n",
      "\toccurrences=7263 parent_occurrences=7103 new_genre_id=12 new_parent_id=0\n",
      "\n",
      "genre_id=184 occurrences=184 {'#tracks': 1013, 'parent': 15, 'title': 'Minimal Electronic', 'top_level': 15}\n",
      "\toccurrences=6498 parent_occurrences=6314 new_genre_id=15 new_parent_id=0\n",
      "\n",
      "genre_id=167 occurrences=102 {'#tracks': 152, 'parent': 31, 'title': 'Black-Metal', 'top_level': 12}\n",
      "\toccurrences=679 parent_occurrences=577 new_genre_id=31 new_parent_id=12\n",
      "\toccurrences=7782 parent_occurrences=7103 new_genre_id=12 new_parent_id=0\n",
      "\n",
      "genre_id=179 occurrences=6 {'#tracks': 104, 'parent': 4, 'title': 'Big Band/Swing', 'top_level': 4}\n",
      "\toccurrences=390 parent_occurrences=384 new_genre_id=4 new_parent_id=0\n",
      "\n",
      "genre_id=250 occurrences=230 {'#tracks': 4261, 'parent': 38, 'title': 'Improv', 'top_level': 38}\n",
      "\toccurrences=2481 parent_occurrences=2251 new_genre_id=38 new_parent_id=0\n",
      "\n",
      "genre_id=322 occurrences=63 {'#tracks': 630, 'parent': 5, 'title': 'Composed Music', 'top_level': 5}\n",
      "\toccurrences=682 parent_occurrences=619 new_genre_id=5 new_parent_id=0\n",
      "\n",
      "genre_id=181 occurrences=802 {'#tracks': 2140, 'parent': 15, 'title': 'Techno', 'top_level': 15}\n",
      "\toccurrences=7116 parent_occurrences=6314 new_genre_id=15 new_parent_id=0\n",
      "\n",
      "genre_id=182 occurrences=697 {'#tracks': 1482, 'parent': 15, 'title': 'House', 'top_level': 15}\n",
      "\toccurrences=7011 parent_occurrences=6314 new_genre_id=15 new_parent_id=0\n",
      "\n",
      "genre_id=214 occurrences=14 {'#tracks': 40, 'parent': 92, 'title': 'North African', 'top_level': 2}\n",
      "\toccurrences=85 parent_occurrences=71 new_genre_id=92 new_parent_id=2\n",
      "\toccurrences=1103 parent_occurrences=1018 new_genre_id=2 new_parent_id=0\n",
      "\n",
      "genre_id=169 occurrences=36 {'#tracks': 128, 'parent': 9, 'title': 'Rockabilly', 'top_level': 9}\n",
      "\toccurrences=214 parent_occurrences=178 new_genre_id=9 new_parent_id=0\n",
      "\n",
      "genre_id=359 occurrences=229 {'#tracks': 762, 'parent': 12, 'title': 'Shoegaze', 'top_level': 12}\n",
      "\toccurrences=7332 parent_occurrences=7103 new_genre_id=12 new_parent_id=0\n",
      "\n",
      "genre_id=361 occurrences=102 {'#tracks': 175, 'parent': 109, 'title': 'Thrash', 'top_level': 12}\n",
      "\toccurrences=759 parent_occurrences=657 new_genre_id=109 new_parent_id=25\n",
      "\toccurrences=4078 parent_occurrences=3319 new_genre_id=25 new_parent_id=12\n",
      "\n",
      "genre_id=187 occurrences=82 {'#tracks': 292, 'parent': 5, 'title': '20th Century Classical', 'top_level': 5}\n",
      "\toccurrences=701 parent_occurrences=619 new_genre_id=5 new_parent_id=0\n",
      "\n",
      "genre_id=240 occurrences=694 {'#tracks': 1231, 'parent': 297, 'title': 'Chiptune', 'top_level': 15}\n",
      "\toccurrences=1723 parent_occurrences=1029 new_genre_id=297 new_parent_id=15\n",
      "\n",
      "genre_id=362 occurrences=212 {'#tracks': 1835, 'parent': 10, 'title': 'Synth Pop', 'top_level': 10}\n",
      "\toccurrences=1398 parent_occurrences=1186 new_genre_id=10 new_parent_id=0\n",
      "\n",
      "genre_id=183 occurrences=549 {'#tracks': 2809, 'parent': 15, 'title': 'Glitch', 'top_level': 15}\n",
      "\toccurrences=6863 parent_occurrences=6314 new_genre_id=15 new_parent_id=0\n",
      "\n",
      "genre_id=374 occurrences=4 {'#tracks': 9, 'parent': 20, 'title': 'Banter', 'top_level': 20}\n",
      "\toccurrences=122 parent_occurrences=118 new_genre_id=20 new_parent_id=0\n",
      "\n",
      "genre_id=65 occurrences=45 {'#tracks': 518, 'parent': 20, 'title': 'Radio', 'top_level': 20}\n",
      "\toccurrences=163 parent_occurrences=118 new_genre_id=20 new_parent_id=0\n",
      "\n",
      "genre_id=166 occurrences=18 {'#tracks': 122, 'parent': 65, 'title': 'Interview', 'top_level': 20}\n",
      "\toccurrences=63 parent_occurrences=45 new_genre_id=65 new_parent_id=20\n",
      "\toccurrences=181 parent_occurrences=118 new_genre_id=20 new_parent_id=0\n",
      "\n",
      "genre_id=174 occurrences=2 {'#tracks': 17, 'parent': 86, 'title': 'South Indian Traditional', 'top_level': 2}\n",
      "\toccurrences=17 parent_occurrences=15 new_genre_id=86 new_parent_id=2\n",
      "\toccurrences=1035 parent_occurrences=1018 new_genre_id=2 new_parent_id=0\n",
      "\n",
      "genre_id=86 occurrences=15 {'#tracks': 216, 'parent': 2, 'title': 'Indian', 'top_level': 2}\n",
      "\toccurrences=1033 parent_occurrences=1018 new_genre_id=2 new_parent_id=0\n",
      "\n",
      "genre_id=247 occurrences=127 {'#tracks': 2957, 'parent': 38, 'title': 'Musique Concrete', 'top_level': 38}\n",
      "\toccurrences=2378 parent_occurrences=2251 new_genre_id=38 new_parent_id=0\n",
      "\n",
      "genre_id=172 occurrences=37 {'#tracks': 118, 'parent': 2, 'title': 'Asia-Far East', 'top_level': 2}\n",
      "\toccurrences=1055 parent_occurrences=1018 new_genre_id=2 new_parent_id=0\n",
      "\n",
      "genre_id=138 occurrences=60 {'#tracks': 490, 'parent': 20, 'title': 'Spoken Weird', 'top_level': 20}\n",
      "\toccurrences=178 parent_occurrences=118 new_genre_id=20 new_parent_id=0\n",
      "\n",
      "genre_id=81 occurrences=30 {'#tracks': 110, 'parent': 92, 'title': 'Afrobeat', 'top_level': 2}\n",
      "\toccurrences=101 parent_occurrences=71 new_genre_id=92 new_parent_id=2\n",
      "\toccurrences=1119 parent_occurrences=1018 new_genre_id=2 new_parent_id=0\n",
      "\n",
      "genre_id=404 occurrences=133 {'#tracks': 265, 'parent': 85, 'title': 'Surf', 'top_level': 12}\n",
      "\toccurrences=1550 parent_occurrences=1417 new_genre_id=85 new_parent_id=12\n",
      "\n",
      "genre_id=440 occurrences=44 {'#tracks': 116, 'parent': 12, 'title': 'Rock Opera', 'top_level': 12}\n",
      "\toccurrences=7147 parent_occurrences=7103 new_genre_id=12 new_parent_id=0\n",
      "\n",
      "genre_id=171 occurrences=4 {'#tracks': 234, 'parent': 2, 'title': 'Brazilian', 'top_level': 2}\n",
      "\toccurrences=1022 parent_occurrences=1018 new_genre_id=2 new_parent_id=0\n",
      "\n",
      "genre_id=468 occurrences=577 {'#tracks': 1144, 'parent': 15, 'title': 'Dubstep', 'top_level': 15}\n",
      "\toccurrences=6891 parent_occurrences=6314 new_genre_id=15 new_parent_id=0\n",
      "\n",
      "genre_id=13 occurrences=21 {'#tracks': 730, 'parent': 0, 'title': 'Easy Listening', 'top_level': 13}\n",
      "\n",
      "genre_id=311 occurrences=11 {'#tracks': 440, 'parent': 13, 'title': 'Lounge', 'top_level': 13}\n",
      "\toccurrences=32 parent_occurrences=21 new_genre_id=13 new_parent_id=0\n",
      "\n",
      "genre_id=19 occurrences=69 {'#tracks': 773, 'parent': 14, 'title': 'Funk', 'top_level': 14}\n",
      "\toccurrences=223 parent_occurrences=154 new_genre_id=14 new_parent_id=0\n",
      "\n",
      "genre_id=491 occurrences=34 {'#tracks': 78, 'parent': 468, 'title': 'Skweee', 'top_level': 15}\n",
      "\toccurrences=611 parent_occurrences=577 new_genre_id=468 new_parent_id=15\n",
      "\toccurrences=6925 parent_occurrences=6314 new_genre_id=15 new_parent_id=0\n",
      "\n",
      "genre_id=400 occurrences=325 {'#tracks': 823, 'parent': 182, 'title': 'Chill-out', 'top_level': 15}\n",
      "\toccurrences=1022 parent_occurrences=697 new_genre_id=182 new_parent_id=15\n",
      "\n",
      "genre_id=456 occurrences=134 {'#tracks': 1392, 'parent': 38, 'title': 'Minimalism', 'top_level': 38}\n",
      "\toccurrences=2385 parent_occurrences=2251 new_genre_id=38 new_parent_id=0\n",
      "\n",
      "genre_id=428 occurrences=3 {'#tracks': 73, 'parent': 20, 'title': 'Radio Theater', 'top_level': 20}\n",
      "\toccurrences=121 parent_occurrences=118 new_genre_id=20 new_parent_id=0\n",
      "\n",
      "genre_id=7 occurrences=11 {'#tracks': 217, 'parent': 20, 'title': 'Comedy', 'top_level': 20}\n",
      "\toccurrences=129 parent_occurrences=118 new_genre_id=20 new_parent_id=0\n",
      "\n",
      "genre_id=495 occurrences=791 {'#tracks': 2061, 'parent': 15, 'title': 'Downtempo', 'top_level': 15}\n",
      "\toccurrences=7105 parent_occurrences=6314 new_genre_id=15 new_parent_id=0\n",
      "\n",
      "genre_id=514 occurrences=120 {'#tracks': 1414, 'parent': 38, 'title': 'Sound Art', 'top_level': 38}\n",
      "\toccurrences=2371 parent_occurrences=2251 new_genre_id=38 new_parent_id=0\n",
      "\n",
      "genre_id=186 occurrences=98 {'#tracks': 682, 'parent': 38, 'title': 'Sound Poetry', 'top_level': 38}\n",
      "\toccurrences=2349 parent_occurrences=2251 new_genre_id=38 new_parent_id=0\n",
      "\n",
      "genre_id=524 occurrences=58 {'#tracks': 112, 'parent': 130, 'title': 'Romany (Gypsy)', 'top_level': 2}\n",
      "\toccurrences=244 parent_occurrences=186 new_genre_id=130 new_parent_id=2\n",
      "\toccurrences=1262 parent_occurrences=1018 new_genre_id=2 new_parent_id=0\n",
      "\n",
      "genre_id=1060 occurrences=7 {'#tracks': 30, 'parent': 46, 'title': 'Tango', 'top_level': 2}\n",
      "\toccurrences=127 parent_occurrences=120 new_genre_id=46 new_parent_id=2\n",
      "\toccurrences=1145 parent_occurrences=1018 new_genre_id=2 new_parent_id=0\n",
      "\n",
      "genre_id=602 occurrences=45 {'#tracks': 94, 'parent': 79, 'title': 'Reggae - Dancehall', 'top_level': 2}\n",
      "\toccurrences=278 parent_occurrences=233 new_genre_id=79 new_parent_id=2\n",
      "\toccurrences=1296 parent_occurrences=1018 new_genre_id=2 new_parent_id=0\n",
      "\n",
      "genre_id=180 occurrences=16 {'#tracks': 161, 'parent': 17, 'title': 'British Folk', 'top_level': 17}\n",
      "\toccurrences=1535 parent_occurrences=1519 new_genre_id=17 new_parent_id=0\n",
      "\n",
      "genre_id=232 occurrences=11 {'#tracks': 47, 'parent': 2, 'title': 'Flamenco', 'top_level': 2}\n",
      "\toccurrences=1029 parent_occurrences=1018 new_genre_id=2 new_parent_id=0\n",
      "\n",
      "genre_id=619 occurrences=5 {'#tracks': 115, 'parent': 130, 'title': 'Spanish', 'top_level': 2}\n",
      "\toccurrences=191 parent_occurrences=186 new_genre_id=130 new_parent_id=2\n",
      "\toccurrences=1209 parent_occurrences=1018 new_genre_id=2 new_parent_id=0\n",
      "\n",
      "genre_id=504 occurrences=29 {'#tracks': 114, 'parent': 2, 'title': 'Latin', 'top_level': 2}\n",
      "\toccurrences=1047 parent_occurrences=1018 new_genre_id=2 new_parent_id=0\n",
      "\n",
      "genre_id=443 occurrences=97 {'#tracks': 216, 'parent': 5, 'title': 'Choral Music', 'top_level': 5}\n",
      "\toccurrences=716 parent_occurrences=619 new_genre_id=5 new_parent_id=0\n",
      "\n",
      "genre_id=401 occurrences=23 {'#tracks': 189, 'parent': 181, 'title': 'Bigbeat', 'top_level': 15}\n",
      "\toccurrences=825 parent_occurrences=802 new_genre_id=181 new_parent_id=15\n",
      "\toccurrences=7139 parent_occurrences=6314 new_genre_id=15 new_parent_id=0\n",
      "\n",
      "genre_id=542 occurrences=30 {'#tracks': 735, 'parent': 21, 'title': 'Breakbeat', 'top_level': 21}\n",
      "\toccurrences=2231 parent_occurrences=2201 new_genre_id=21 new_parent_id=0\n",
      "\n",
      "genre_id=360 occurrences=31 {'#tracks': 201, 'parent': 6, 'title': 'Kid-Friendly', 'top_level': 38}\n",
      "\toccurrences=156 parent_occurrences=125 new_genre_id=6 new_parent_id=38\n",
      "\toccurrences=2407 parent_occurrences=2251 new_genre_id=38 new_parent_id=0\n",
      "\n",
      "genre_id=177 occurrences=40 {'#tracks': 72, 'parent': 2, 'title': 'Celtic', 'top_level': 2}\n",
      "\toccurrences=1058 parent_occurrences=1018 new_genre_id=2 new_parent_id=0\n",
      "\n",
      "genre_id=502 occurrences=16 {'#tracks': 67, 'parent': 46, 'title': 'Cumbia', 'top_level': 2}\n",
      "\toccurrences=136 parent_occurrences=120 new_genre_id=46 new_parent_id=2\n",
      "\toccurrences=1154 parent_occurrences=1018 new_genre_id=2 new_parent_id=0\n",
      "\n",
      "genre_id=1193 occurrences=22 {'#tracks': 72, 'parent': 763, 'title': 'Christmas', 'top_level': 38}\n",
      "\toccurrences=93 parent_occurrences=71 new_genre_id=763 new_parent_id=16\n",
      "\toccurrences=164 parent_occurrences=71 new_genre_id=16 new_parent_id=6\n",
      "\toccurrences=289 parent_occurrences=125 new_genre_id=6 new_parent_id=38\n",
      "\toccurrences=2540 parent_occurrences=2251 new_genre_id=38 new_parent_id=0\n",
      "\n",
      "genre_id=43 occurrences=16 {'#tracks': 210, 'parent': 65, 'title': 'Radio Art', 'top_level': 20}\n",
      "\toccurrences=61 parent_occurrences=45 new_genre_id=65 new_parent_id=20\n",
      "\toccurrences=179 parent_occurrences=118 new_genre_id=20 new_parent_id=0\n",
      "\n",
      "genre_id=741 occurrences=29 {'#tracks': 57, 'parent': 130, 'title': 'Klezmer', 'top_level': 2}\n",
      "\toccurrences=215 parent_occurrences=186 new_genre_id=130 new_parent_id=2\n",
      "\toccurrences=1233 parent_occurrences=1018 new_genre_id=2 new_parent_id=0\n",
      "\n",
      "genre_id=811 occurrences=168 {'#tracks': 1192, 'parent': 21, 'title': 'Hip-Hop Beats', 'top_level': 21}\n",
      "\toccurrences=2369 parent_occurrences=2201 new_genre_id=21 new_parent_id=0\n",
      "\n",
      "genre_id=808 occurrences=11 {'#tracks': 12, 'parent': 46, 'title': 'Salsa', 'top_level': 2}\n",
      "\toccurrences=131 parent_occurrences=120 new_genre_id=46 new_parent_id=2\n",
      "\toccurrences=1149 parent_occurrences=1018 new_genre_id=2 new_parent_id=0\n",
      "\n",
      "genre_id=659 occurrences=84 {'#tracks': 1239, 'parent': 5, 'title': 'Contemporary Classical', 'top_level': 5}\n",
      "\toccurrences=703 parent_occurrences=619 new_genre_id=5 new_parent_id=0\n",
      "\n",
      "genre_id=580 occurrences=14 {'#tracks': 202, 'parent': 21, 'title': 'Abstract Hip-Hop', 'top_level': 21}\n",
      "\toccurrences=2215 parent_occurrences=2201 new_genre_id=21 new_parent_id=0\n",
      "\n",
      "genre_id=439 occurrences=67 {'#tracks': 314, 'parent': 31, 'title': 'Grindcore', 'top_level': 12}\n",
      "\toccurrences=644 parent_occurrences=577 new_genre_id=31 new_parent_id=12\n",
      "\toccurrences=7747 parent_occurrences=7103 new_genre_id=12 new_parent_id=0\n",
      "\n",
      "genre_id=442 occurrences=50 {'#tracks': 170, 'parent': 5, 'title': 'Chamber Music', 'top_level': 5}\n",
      "\toccurrences=669 parent_occurrences=619 new_genre_id=5 new_parent_id=0\n",
      "\n",
      "genre_id=695 occurrences=90 {'#tracks': 258, 'parent': 15, 'title': 'Jungle', 'top_level': 15}\n",
      "\toccurrences=6404 parent_occurrences=6314 new_genre_id=15 new_parent_id=0\n",
      "\n",
      "genre_id=83 occurrences=26 {'#tracks': 84, 'parent': 21, 'title': 'Nerdcore', 'top_level': 21}\n",
      "\toccurrences=2227 parent_occurrences=2201 new_genre_id=21 new_parent_id=0\n",
      "\n",
      "genre_id=1032 occurrences=45 {'#tracks': 60, 'parent': 102, 'title': 'Turkish', 'top_level': 2}\n",
      "\toccurrences=149 parent_occurrences=104 new_genre_id=102 new_parent_id=2\n",
      "\toccurrences=1167 parent_occurrences=1018 new_genre_id=2 new_parent_id=0\n",
      "\n",
      "genre_id=651 occurrences=6 {'#tracks': 79, 'parent': 9, 'title': 'Country & Western', 'top_level': 9}\n",
      "\toccurrences=184 parent_occurrences=178 new_genre_id=9 new_parent_id=0\n",
      "\n",
      "genre_id=267 occurrences=90 {'#tracks': 360, 'parent': 1235, 'title': 'New Age', 'top_level': 1235}\n",
      "\toccurrences=1440 parent_occurrences=1350 new_genre_id=1235 new_parent_id=0\n",
      "\n",
      "genre_id=810 occurrences=1 {'#tracks': 120, 'parent': 13, 'title': 'Nu-Jazz', 'top_level': 13}\n",
      "\toccurrences=22 parent_occurrences=21 new_genre_id=13 new_parent_id=0\n",
      "\n",
      "genre_id=441 occurrences=21 {'#tracks': 161, 'parent': 5, 'title': 'Opera', 'top_level': 5}\n",
      "\toccurrences=640 parent_occurrences=619 new_genre_id=5 new_parent_id=0\n",
      "\n",
      "genre_id=378 occurrences=19 {'#tracks': 177, 'parent': 20, 'title': 'Spoken Word', 'top_level': 20}\n",
      "\toccurrences=137 parent_occurrences=118 new_genre_id=20 new_parent_id=0\n",
      "\n",
      "genre_id=189 occurrences=11 {'#tracks': 26, 'parent': 65, 'title': 'Talk Radio', 'top_level': 20}\n",
      "\toccurrences=56 parent_occurrences=45 new_genre_id=65 new_parent_id=20\n",
      "\toccurrences=174 parent_occurrences=118 new_genre_id=20 new_parent_id=0\n",
      "\n"
     ]
    },
    {
     "data": {
      "text/plain": [
       "(23,\n",
       " [(12, 127699),\n",
       "  (15, 102357),\n",
       "  (38, 44002),\n",
       "  (2, 29254),\n",
       "  (25, 22151),\n",
       "  (21, 16180),\n",
       "  (17, 9953),\n",
       "  (5, 4730),\n",
       "  (1235, 4547),\n",
       "  (10, 4282),\n",
       "  (85, 2967),\n",
       "  (297, 2752),\n",
       "  (4, 2449),\n",
       "  (20, 1655),\n",
       "  (66, 1293),\n",
       "  (9, 1064),\n",
       "  (45, 1029),\n",
       "  (182, 1022),\n",
       "  (42, 1004),\n",
       "  (14, 617),\n",
       "  (8, 510),\n",
       "  (13, 75),\n",
       "  (3, 74)])"
      ]
     },
     "execution_count": 15,
     "metadata": {},
     "output_type": "execute_result"
    }
   ],
   "source": [
    "min_genre_occurrences = 1000\n",
    "genres_ids_with_occ_to_keep = {}\n",
    "\n",
    "for genre_id, occurrences in genres_ids_with_occ.items():\n",
    "    if occurrences >= min_genre_occurrences:\n",
    "        genres_ids_with_occ_to_keep[genre_id] = occurrences\n",
    "        continue\n",
    "    genre_info = genres.loc[genre_id]\n",
    "    print(f'{genre_id=} {occurrences=} {dict(genre_info.items())}')\n",
    "    parent_id = genre_info['parent']\n",
    "    while parent_id != 0 and occurrences < min_genre_occurrences:\n",
    "        parent_occurrences = genres_ids_with_occ[parent_id]\n",
    "        occurrences += parent_occurrences\n",
    "        genre_id = parent_id\n",
    "        parent_info = genres.loc[parent_id]\n",
    "        parent_id = parent_info['parent']\n",
    "        print(f'\\t{occurrences=} {parent_occurrences=} new_{genre_id=} new_{parent_id=}')\n",
    "    if genre_id != 0:\n",
    "        genres_ids_with_occ_to_keep[genre_id] = genres_ids_with_occ_to_keep.get(genre_id, 0) + occurrences\n",
    "    print()\n",
    "\n",
    "len(genres_ids_with_occ_to_keep), sorted(genres_ids_with_occ_to_keep.items(), key=lambda x: x[1], reverse=True)"
   ]
  },
  {
   "cell_type": "code",
   "execution_count": 16,
   "metadata": {},
   "outputs": [
    {
     "data": {
      "text/plain": [
       "{12: 127699,\n",
       " 15: 102357,\n",
       " 38: 44002,\n",
       " 2: 29254,\n",
       " 25: 22151,\n",
       " 21: 16180,\n",
       " 17: 9953,\n",
       " 5: 4730,\n",
       " 1235: 4547,\n",
       " 10: 4282,\n",
       " 85: 2967,\n",
       " 297: 2752,\n",
       " 4: 2449,\n",
       " 20: 1655,\n",
       " 66: 1293,\n",
       " 9: 1064}"
      ]
     },
     "execution_count": 16,
     "metadata": {},
     "output_type": "execute_result"
    }
   ],
   "source": [
    "genres_with_most_occurrences = dict(sorted(genres_ids_with_occ_to_keep.items(), key=lambda x: x[1], reverse=True)[:16])\n",
    "genres_with_most_occurrences"
   ]
  },
  {
   "cell_type": "code",
   "execution_count": 17,
   "metadata": {},
   "outputs": [
    {
     "data": {
      "text/html": [
       "<div>\n",
       "<style scoped>\n",
       "    .dataframe tbody tr th:only-of-type {\n",
       "        vertical-align: middle;\n",
       "    }\n",
       "\n",
       "    .dataframe tbody tr th {\n",
       "        vertical-align: top;\n",
       "    }\n",
       "\n",
       "    .dataframe thead th {\n",
       "        text-align: right;\n",
       "    }\n",
       "</style>\n",
       "<table border=\"1\" class=\"dataframe\">\n",
       "  <thead>\n",
       "    <tr style=\"text-align: right;\">\n",
       "      <th></th>\n",
       "      <th>#tracks</th>\n",
       "      <th>parent</th>\n",
       "      <th>title</th>\n",
       "      <th>top_level</th>\n",
       "    </tr>\n",
       "    <tr>\n",
       "      <th>genre_id</th>\n",
       "      <th></th>\n",
       "      <th></th>\n",
       "      <th></th>\n",
       "      <th></th>\n",
       "    </tr>\n",
       "  </thead>\n",
       "  <tbody>\n",
       "    <tr>\n",
       "      <th>12</th>\n",
       "      <td>32923</td>\n",
       "      <td>0</td>\n",
       "      <td>Rock</td>\n",
       "      <td>12</td>\n",
       "    </tr>\n",
       "    <tr>\n",
       "      <th>15</th>\n",
       "      <td>34413</td>\n",
       "      <td>0</td>\n",
       "      <td>Electronic</td>\n",
       "      <td>15</td>\n",
       "    </tr>\n",
       "    <tr>\n",
       "      <th>38</th>\n",
       "      <td>38154</td>\n",
       "      <td>0</td>\n",
       "      <td>Experimental</td>\n",
       "      <td>38</td>\n",
       "    </tr>\n",
       "    <tr>\n",
       "      <th>2</th>\n",
       "      <td>5271</td>\n",
       "      <td>0</td>\n",
       "      <td>International</td>\n",
       "      <td>2</td>\n",
       "    </tr>\n",
       "    <tr>\n",
       "      <th>25</th>\n",
       "      <td>9261</td>\n",
       "      <td>12</td>\n",
       "      <td>Punk</td>\n",
       "      <td>12</td>\n",
       "    </tr>\n",
       "    <tr>\n",
       "      <th>21</th>\n",
       "      <td>8389</td>\n",
       "      <td>0</td>\n",
       "      <td>Hip-Hop</td>\n",
       "      <td>21</td>\n",
       "    </tr>\n",
       "    <tr>\n",
       "      <th>17</th>\n",
       "      <td>12706</td>\n",
       "      <td>0</td>\n",
       "      <td>Folk</td>\n",
       "      <td>17</td>\n",
       "    </tr>\n",
       "    <tr>\n",
       "      <th>5</th>\n",
       "      <td>4106</td>\n",
       "      <td>0</td>\n",
       "      <td>Classical</td>\n",
       "      <td>5</td>\n",
       "    </tr>\n",
       "    <tr>\n",
       "      <th>1235</th>\n",
       "      <td>14938</td>\n",
       "      <td>0</td>\n",
       "      <td>Instrumental</td>\n",
       "      <td>1235</td>\n",
       "    </tr>\n",
       "    <tr>\n",
       "      <th>10</th>\n",
       "      <td>13845</td>\n",
       "      <td>0</td>\n",
       "      <td>Pop</td>\n",
       "      <td>10</td>\n",
       "    </tr>\n",
       "    <tr>\n",
       "      <th>85</th>\n",
       "      <td>3548</td>\n",
       "      <td>12</td>\n",
       "      <td>Garage</td>\n",
       "      <td>12</td>\n",
       "    </tr>\n",
       "    <tr>\n",
       "      <th>297</th>\n",
       "      <td>2208</td>\n",
       "      <td>15</td>\n",
       "      <td>Chip Music</td>\n",
       "      <td>15</td>\n",
       "    </tr>\n",
       "    <tr>\n",
       "      <th>4</th>\n",
       "      <td>4126</td>\n",
       "      <td>0</td>\n",
       "      <td>Jazz</td>\n",
       "      <td>4</td>\n",
       "    </tr>\n",
       "    <tr>\n",
       "      <th>20</th>\n",
       "      <td>1876</td>\n",
       "      <td>0</td>\n",
       "      <td>Spoken</td>\n",
       "      <td>20</td>\n",
       "    </tr>\n",
       "    <tr>\n",
       "      <th>66</th>\n",
       "      <td>5432</td>\n",
       "      <td>12</td>\n",
       "      <td>Indie-Rock</td>\n",
       "      <td>12</td>\n",
       "    </tr>\n",
       "    <tr>\n",
       "      <th>9</th>\n",
       "      <td>1987</td>\n",
       "      <td>0</td>\n",
       "      <td>Country</td>\n",
       "      <td>9</td>\n",
       "    </tr>\n",
       "  </tbody>\n",
       "</table>\n",
       "</div>"
      ],
      "text/plain": [
       "          #tracks  parent          title  top_level\n",
       "genre_id                                           \n",
       "12          32923       0           Rock         12\n",
       "15          34413       0     Electronic         15\n",
       "38          38154       0   Experimental         38\n",
       "2            5271       0  International          2\n",
       "25           9261      12           Punk         12\n",
       "21           8389       0        Hip-Hop         21\n",
       "17          12706       0           Folk         17\n",
       "5            4106       0      Classical          5\n",
       "1235        14938       0   Instrumental       1235\n",
       "10          13845       0            Pop         10\n",
       "85           3548      12         Garage         12\n",
       "297          2208      15     Chip Music         15\n",
       "4            4126       0           Jazz          4\n",
       "20           1876       0         Spoken         20\n",
       "66           5432      12     Indie-Rock         12\n",
       "9            1987       0        Country          9"
      ]
     },
     "execution_count": 17,
     "metadata": {},
     "output_type": "execute_result"
    }
   ],
   "source": [
    "genres.loc[genres_with_most_occurrences.keys()]"
   ]
  },
  {
   "cell_type": "code",
   "execution_count": 18,
   "metadata": {},
   "outputs": [],
   "source": [
    "new_tracks_genres = []\n",
    "for track_id, genres_all in tracks['genres_all'].items():\n",
    "    if all(map(lambda x: x in genres_with_most_occurrences, genres_all)):\n",
    "        new_tracks_genres.append(genres_all)\n",
    "        continue\n",
    "    new_track_genres = []\n",
    "    for genre_id in genres_all:\n",
    "        while genre_id != 0 and genre_id not in genres_with_most_occurrences:\n",
    "            parent_genre_id = genres.loc[genre_id, 'parent']\n",
    "            genre_id = parent_genre_id\n",
    "        if genre_id != 0:\n",
    "            new_track_genres.append(genre_id)\n",
    "    new_tracks_genres.append(list(set(new_track_genres)))\n",
    "\n",
    "tracks['genres_all'] = new_tracks_genres"
   ]
  },
  {
   "cell_type": "code",
   "execution_count": 19,
   "metadata": {},
   "outputs": [
    {
     "data": {
      "text/plain": [
       "[['Hip-Hop'],\n",
       " ['Hip-Hop'],\n",
       " ['Hip-Hop'],\n",
       " ['Pop'],\n",
       " ['Hip-Hop'],\n",
       " ['Rock'],\n",
       " ['Folk'],\n",
       " ['Folk'],\n",
       " ['Folk'],\n",
       " ['Experimental'],\n",
       " ['Rock'],\n",
       " ['Rock'],\n",
       " ['Folk'],\n",
       " ['Folk'],\n",
       " ['Folk'],\n",
       " ['Folk'],\n",
       " ['Folk'],\n",
       " ['Folk'],\n",
       " ['Folk'],\n",
       " ['Folk'],\n",
       " ['Folk'],\n",
       " ['Folk'],\n",
       " ['Folk'],\n",
       " ['Folk'],\n",
       " ['Folk'],\n",
       " ['Folk'],\n",
       " ['Pop'],\n",
       " ['Jazz'],\n",
       " ['Rock'],\n",
       " ['Rock'],\n",
       " ['Rock'],\n",
       " ['Rock'],\n",
       " ['Rock'],\n",
       " ['Rock'],\n",
       " ['Punk', 'Rock'],\n",
       " ['Punk', 'Rock'],\n",
       " ['Punk', 'Rock'],\n",
       " ['Punk', 'Rock'],\n",
       " ['Punk', 'Rock'],\n",
       " ['Electronic'],\n",
       " ['Electronic'],\n",
       " ['Electronic'],\n",
       " ['Electronic'],\n",
       " ['Electronic'],\n",
       " ['Electronic'],\n",
       " ['Experimental'],\n",
       " ['Experimental'],\n",
       " ['Rock'],\n",
       " ['Rock'],\n",
       " ['Rock'],\n",
       " ['Folk'],\n",
       " ['Folk'],\n",
       " ['Folk'],\n",
       " ['Folk'],\n",
       " ['Folk'],\n",
       " ['Folk'],\n",
       " ['Electronic'],\n",
       " ['Rock'],\n",
       " ['Punk', 'Rock'],\n",
       " ['Punk', 'Rock'],\n",
       " ['Hip-Hop'],\n",
       " ['Hip-Hop'],\n",
       " ['Hip-Hop'],\n",
       " ['Jazz'],\n",
       " ['Jazz'],\n",
       " ['Jazz'],\n",
       " ['Jazz'],\n",
       " ['Folk'],\n",
       " ['Folk'],\n",
       " ['Rock'],\n",
       " ['Rock'],\n",
       " ['Experimental'],\n",
       " ['Folk'],\n",
       " ['Folk'],\n",
       " ['Folk'],\n",
       " ['Folk'],\n",
       " ['Folk'],\n",
       " ['Folk'],\n",
       " ['Rock'],\n",
       " ['Rock'],\n",
       " ['Electronic'],\n",
       " ['Electronic'],\n",
       " ['International'],\n",
       " ['International'],\n",
       " ['Hip-Hop'],\n",
       " ['Hip-Hop'],\n",
       " ['Hip-Hop'],\n",
       " ['Hip-Hop'],\n",
       " ['Hip-Hop'],\n",
       " ['Hip-Hop'],\n",
       " ['Hip-Hop'],\n",
       " ['Hip-Hop'],\n",
       " ['Hip-Hop'],\n",
       " ['Hip-Hop'],\n",
       " ['Hip-Hop'],\n",
       " ['Hip-Hop'],\n",
       " ['Rock'],\n",
       " ['Hip-Hop'],\n",
       " ['Hip-Hop'],\n",
       " ['Rock'],\n",
       " ['Rock'],\n",
       " ['Rock'],\n",
       " ['Rock'],\n",
       " ['Rock'],\n",
       " ['International'],\n",
       " ['International'],\n",
       " ['International'],\n",
       " ['International'],\n",
       " ['International'],\n",
       " ['International'],\n",
       " ['Folk'],\n",
       " ['Folk'],\n",
       " ['Folk'],\n",
       " ['Folk'],\n",
       " ['Folk'],\n",
       " ['Rock'],\n",
       " ['Soul-RnB'],\n",
       " ['Soul-RnB'],\n",
       " ['Soul-RnB'],\n",
       " ['Soul-RnB'],\n",
       " ['Soul-RnB'],\n",
       " ['Soul-RnB'],\n",
       " ['Soul-RnB'],\n",
       " ['Soul-RnB'],\n",
       " ['Soul-RnB'],\n",
       " ['Soul-RnB'],\n",
       " ['Soul-RnB'],\n",
       " ['Soul-RnB'],\n",
       " ['Soul-RnB'],\n",
       " ['Soul-RnB'],\n",
       " ['Soul-RnB'],\n",
       " ['Soul-RnB'],\n",
       " ['Soul-RnB'],\n",
       " ['Soul-RnB'],\n",
       " ['Soul-RnB'],\n",
       " ['Soul-RnB'],\n",
       " ['Soul-RnB'],\n",
       " ['Soul-RnB'],\n",
       " ['Soul-RnB'],\n",
       " ['Soul-RnB'],\n",
       " ['Soul-RnB'],\n",
       " ['Soul-RnB'],\n",
       " ['Soul-RnB'],\n",
       " ['Soul-RnB'],\n",
       " ['Soul-RnB'],\n",
       " ['Soul-RnB'],\n",
       " ['Soul-RnB'],\n",
       " ['Soul-RnB'],\n",
       " ['Soul-RnB'],\n",
       " ['Soul-RnB'],\n",
       " ['Soul-RnB'],\n",
       " ['Soul-RnB'],\n",
       " ['Soul-RnB'],\n",
       " ['Soul-RnB'],\n",
       " ['Soul-RnB'],\n",
       " ['Soul-RnB'],\n",
       " ['Soul-RnB'],\n",
       " ['Soul-RnB'],\n",
       " ['Rock'],\n",
       " ['Folk'],\n",
       " ['Experimental'],\n",
       " ['Experimental'],\n",
       " ['Pop'],\n",
       " ['Pop'],\n",
       " ['Pop'],\n",
       " ['Indie-Rock', 'Rock'],\n",
       " ['Indie-Rock', 'Rock'],\n",
       " ['Indie-Rock', 'Rock'],\n",
       " ['Indie-Rock', 'Rock'],\n",
       " ['Indie-Rock', 'Rock'],\n",
       " ['Jazz'],\n",
       " ['Jazz'],\n",
       " ['Jazz'],\n",
       " ['Jazz'],\n",
       " ['Jazz'],\n",
       " ['International'],\n",
       " ['Experimental'],\n",
       " ['Rock'],\n",
       " ['Rock'],\n",
       " ['Rock'],\n",
       " ['Rock'],\n",
       " ['Experimental'],\n",
       " ['Electronic'],\n",
       " ['Electronic'],\n",
       " ['Electronic'],\n",
       " ['Folk'],\n",
       " ['Folk'],\n",
       " ['Folk'],\n",
       " ['Folk'],\n",
       " ['Folk'],\n",
       " ['Folk'],\n",
       " ['Punk', 'Rock'],\n",
       " ['Experimental'],\n",
       " ['Experimental'],\n",
       " ['Rock'],\n",
       " ['Rock'],\n",
       " ['Experimental'],\n",
       " ['Experimental'],\n",
       " ['Experimental'],\n",
       " ['Rock'],\n",
       " ['Rock'],\n",
       " ['Rock'],\n",
       " ['Rock'],\n",
       " ['Rock'],\n",
       " ['Jazz'],\n",
       " ['Jazz'],\n",
       " ['Rock'],\n",
       " ['Rock'],\n",
       " ['Rock'],\n",
       " ['Rock'],\n",
       " ['Rock'],\n",
       " ['Blues'],\n",
       " ['Blues'],\n",
       " ['Blues'],\n",
       " ['Blues'],\n",
       " ['Blues'],\n",
       " ['Blues'],\n",
       " ['Blues'],\n",
       " ['Rock'],\n",
       " ['Jazz'],\n",
       " ['Jazz'],\n",
       " ['Jazz'],\n",
       " ['Jazz'],\n",
       " ['Jazz'],\n",
       " ['Jazz'],\n",
       " ['Experimental'],\n",
       " ['Experimental'],\n",
       " ['Experimental'],\n",
       " ['Experimental'],\n",
       " ['Experimental'],\n",
       " ['Experimental'],\n",
       " ['Experimental'],\n",
       " ['International'],\n",
       " ['Experimental'],\n",
       " ['Electronic'],\n",
       " ['Electronic'],\n",
       " ['Rock'],\n",
       " ['Electronic'],\n",
       " ['Electronic'],\n",
       " ['Experimental'],\n",
       " ['Experimental'],\n",
       " ['Rock'],\n",
       " ['Rock'],\n",
       " ['Rock'],\n",
       " ['Rock'],\n",
       " ['Rock'],\n",
       " ['Rock'],\n",
       " ['Rock'],\n",
       " ['Electronic'],\n",
       " ['Rock'],\n",
       " ['Rock'],\n",
       " ['Rock'],\n",
       " ['Rock'],\n",
       " ['Rock'],\n",
       " ['Rock'],\n",
       " ['Rock'],\n",
       " ['Rock'],\n",
       " ['Rock'],\n",
       " ['Rock'],\n",
       " ['Jazz'],\n",
       " ['Jazz'],\n",
       " ['Jazz'],\n",
       " ['Jazz'],\n",
       " ['Jazz'],\n",
       " ['Rock'],\n",
       " ['Rock'],\n",
       " ['Rock'],\n",
       " ['Rock'],\n",
       " ['Rock'],\n",
       " ['Rock'],\n",
       " ['Rock'],\n",
       " ['Folk'],\n",
       " ['Folk'],\n",
       " ['Folk'],\n",
       " ['Folk'],\n",
       " ['Folk'],\n",
       " ['Rock'],\n",
       " ['Rock'],\n",
       " ['Rock'],\n",
       " ['Rock'],\n",
       " ['Experimental'],\n",
       " ['Experimental'],\n",
       " ['Punk', 'Rock'],\n",
       " ['Experimental'],\n",
       " ['Experimental'],\n",
       " ['Experimental'],\n",
       " ['Rock'],\n",
       " ['Rock'],\n",
       " ['Rock'],\n",
       " ['Rock'],\n",
       " ['Rock'],\n",
       " ['Rock'],\n",
       " ['Folk'],\n",
       " ['Electronic'],\n",
       " ['Rock'],\n",
       " ['Rock'],\n",
       " ['Rock'],\n",
       " ['Rock'],\n",
       " ['Rock'],\n",
       " ['Rock'],\n",
       " ['Rock'],\n",
       " ['Punk', 'Rock'],\n",
       " ['Punk', 'Rock'],\n",
       " ['Rock'],\n",
       " ['Rock'],\n",
       " ['Rock'],\n",
       " ['Rock'],\n",
       " ['Rock'],\n",
       " ['Rock'],\n",
       " ['Experimental'],\n",
       " ['Rock'],\n",
       " ['Rock'],\n",
       " ['Electronic'],\n",
       " ['Electronic'],\n",
       " ['Electronic'],\n",
       " ['Electronic'],\n",
       " ['Electronic'],\n",
       " ['Experimental'],\n",
       " ['Experimental'],\n",
       " ['Rock'],\n",
       " ['Rock'],\n",
       " ['Rock'],\n",
       " ['Folk'],\n",
       " ['Folk'],\n",
       " ['Electronic'],\n",
       " ['Electronic'],\n",
       " ['Electronic'],\n",
       " ['Electronic'],\n",
       " ['Electronic'],\n",
       " ['Electronic'],\n",
       " ['Electronic'],\n",
       " ['Electronic'],\n",
       " ['Electronic'],\n",
       " ['Experimental'],\n",
       " ['Rock'],\n",
       " ['Electronic'],\n",
       " ['Electronic'],\n",
       " ['Electronic'],\n",
       " ['Electronic'],\n",
       " ['Pop'],\n",
       " ['Pop'],\n",
       " ['Pop'],\n",
       " ['Pop'],\n",
       " ['Pop'],\n",
       " ['Pop'],\n",
       " ['Pop'],\n",
       " ['Experimental'],\n",
       " ['Experimental'],\n",
       " ['Experimental'],\n",
       " ['Electronic'],\n",
       " ['Electronic'],\n",
       " ['International'],\n",
       " ['International'],\n",
       " ['International'],\n",
       " ['International'],\n",
       " ['International'],\n",
       " ['International'],\n",
       " ['International'],\n",
       " ['International'],\n",
       " ['International'],\n",
       " ['International'],\n",
       " ['Folk'],\n",
       " ['Folk'],\n",
       " ['Folk'],\n",
       " ['Folk'],\n",
       " ['Folk'],\n",
       " ['Rock'],\n",
       " ['Rock'],\n",
       " ['Punk', 'Rock'],\n",
       " ['Experimental'],\n",
       " ['Experimental'],\n",
       " ['Experimental'],\n",
       " ['Experimental'],\n",
       " ['Experimental'],\n",
       " ['Experimental'],\n",
       " ['Experimental'],\n",
       " ['Rock'],\n",
       " ['Rock'],\n",
       " ['Rock'],\n",
       " ['Rock'],\n",
       " ['Rock'],\n",
       " ['Rock'],\n",
       " ['Rock'],\n",
       " ['Rock'],\n",
       " ['Rock'],\n",
       " ['Rock'],\n",
       " ['Rock'],\n",
       " ['Rock'],\n",
       " ['Rock'],\n",
       " ['Rock'],\n",
       " ['Rock'],\n",
       " ['Rock'],\n",
       " ['Folk'],\n",
       " ['Folk'],\n",
       " ['Folk'],\n",
       " ['Rock'],\n",
       " ['Rock'],\n",
       " ['Rock'],\n",
       " ['Rock'],\n",
       " ['Folk'],\n",
       " ['Folk'],\n",
       " ['Folk'],\n",
       " ['Folk'],\n",
       " ['Experimental'],\n",
       " ['Rock'],\n",
       " ['Rock'],\n",
       " ['Rock'],\n",
       " ['Rock'],\n",
       " ['Jazz'],\n",
       " ['Jazz'],\n",
       " ['Jazz'],\n",
       " ['Jazz'],\n",
       " ['Jazz'],\n",
       " ['Rock'],\n",
       " ['Jazz'],\n",
       " ['Experimental'],\n",
       " ['Experimental'],\n",
       " ['Folk'],\n",
       " ['Pop'],\n",
       " ['Punk', 'Rock'],\n",
       " ['Folk'],\n",
       " ['Folk'],\n",
       " ['Folk'],\n",
       " ['Folk'],\n",
       " ['Electronic'],\n",
       " ['Folk'],\n",
       " ['Folk'],\n",
       " ['Folk'],\n",
       " ['Folk'],\n",
       " ['Folk'],\n",
       " ['Indie-Rock', 'Rock'],\n",
       " ['Spoken'],\n",
       " ['Spoken'],\n",
       " ['Spoken'],\n",
       " ['Electronic'],\n",
       " ['Electronic'],\n",
       " ['Electronic'],\n",
       " ['Electronic'],\n",
       " ['Electronic'],\n",
       " ['Country'],\n",
       " ['Country'],\n",
       " ['Country'],\n",
       " ['Country'],\n",
       " ['Country'],\n",
       " ['Country'],\n",
       " ['Country'],\n",
       " ['Punk', 'Rock'],\n",
       " ['Punk', 'Rock'],\n",
       " ['Punk', 'Rock'],\n",
       " ['Punk', 'Rock'],\n",
       " ['Punk', 'Rock'],\n",
       " ['Punk', 'Rock'],\n",
       " ['Punk', 'Rock'],\n",
       " ['Punk', 'Rock'],\n",
       " ['Punk', 'Rock'],\n",
       " ['Punk', 'Rock'],\n",
       " ['Punk', 'Rock'],\n",
       " ['Rock'],\n",
       " ['Rock'],\n",
       " ['Rock'],\n",
       " ['Rock'],\n",
       " ['Rock'],\n",
       " ['Rock'],\n",
       " ['Rock'],\n",
       " ['Rock'],\n",
       " ['Punk', 'Rock'],\n",
       " ['Punk', 'Rock'],\n",
       " ['Punk', 'Rock'],\n",
       " ['Punk', 'Rock'],\n",
       " ['Punk', 'Rock'],\n",
       " ['Rock'],\n",
       " ['Rock'],\n",
       " ['Rock'],\n",
       " ['Rock'],\n",
       " ['Rock'],\n",
       " ['Rock'],\n",
       " ['Rock'],\n",
       " ['Rock'],\n",
       " ['Rock'],\n",
       " ['Pop'],\n",
       " ['Pop'],\n",
       " ['Pop'],\n",
       " ['Pop'],\n",
       " ['Pop'],\n",
       " ['Pop'],\n",
       " ['Pop'],\n",
       " ['Rock'],\n",
       " ['Rock'],\n",
       " ['Electronic'],\n",
       " ['Electronic'],\n",
       " ['Electronic'],\n",
       " ['Electronic'],\n",
       " ['Electronic'],\n",
       " ['Electronic'],\n",
       " ['Electronic'],\n",
       " ['Electronic'],\n",
       " ['Electronic'],\n",
       " ['Electronic'],\n",
       " ['Electronic'],\n",
       " ['Electronic'],\n",
       " ['Electronic'],\n",
       " ['Electronic'],\n",
       " ['Electronic'],\n",
       " ['Electronic'],\n",
       " ['Rock', 'Garage'],\n",
       " ['Rock', 'Garage'],\n",
       " ['Rock', 'Garage'],\n",
       " ['Rock', 'Garage'],\n",
       " ['Rock', 'Garage'],\n",
       " ['Rock', 'Garage'],\n",
       " ['Rock', 'Garage'],\n",
       " ['Folk'],\n",
       " ['Indie-Rock', 'Rock'],\n",
       " ['Indie-Rock', 'Rock'],\n",
       " ['Indie-Rock', 'Rock'],\n",
       " ['Indie-Rock', 'Rock'],\n",
       " ['Punk', 'Rock'],\n",
       " ['Punk', 'Rock'],\n",
       " ['Punk', 'Rock'],\n",
       " ['Punk', 'Rock'],\n",
       " ['Punk', 'Rock'],\n",
       " ['Punk', 'Rock'],\n",
       " ['Punk', 'Rock'],\n",
       " ['Punk', 'Rock'],\n",
       " ['Rock'],\n",
       " ['Rock'],\n",
       " ['Rock'],\n",
       " ['Rock'],\n",
       " ['Folk'],\n",
       " ['Folk'],\n",
       " ['Rock'],\n",
       " ['Rock'],\n",
       " ['Rock'],\n",
       " ['Rock'],\n",
       " ['Rock'],\n",
       " ['Rock'],\n",
       " ['Rock'],\n",
       " ['Rock'],\n",
       " ['Rock'],\n",
       " ['Rock'],\n",
       " ['Rock'],\n",
       " ['Rock'],\n",
       " ['International'],\n",
       " ['International'],\n",
       " ['International'],\n",
       " ['International'],\n",
       " ['International'],\n",
       " ['Rock'],\n",
       " ['Folk'],\n",
       " ['Rock'],\n",
       " ['Rock'],\n",
       " ['Rock'],\n",
       " ['Rock'],\n",
       " ['Rock'],\n",
       " ['Rock'],\n",
       " ['Blues'],\n",
       " ['Punk', 'Rock'],\n",
       " ['Punk', 'Rock'],\n",
       " ['Punk', 'Rock'],\n",
       " ['Punk', 'Rock'],\n",
       " ['Punk', 'Rock'],\n",
       " ['Punk', 'Rock'],\n",
       " ['Punk', 'Rock'],\n",
       " ['Punk', 'Rock'],\n",
       " ['Folk'],\n",
       " ['International'],\n",
       " ['International'],\n",
       " ['Folk'],\n",
       " ['Folk'],\n",
       " ['Folk'],\n",
       " ['Folk'],\n",
       " ['Folk'],\n",
       " ['Folk'],\n",
       " ['Folk'],\n",
       " ['Folk'],\n",
       " ['Folk'],\n",
       " ['Folk'],\n",
       " ['Folk'],\n",
       " ['Folk'],\n",
       " ['Folk'],\n",
       " ['Indie-Rock', 'Rock'],\n",
       " ['Indie-Rock', 'Rock'],\n",
       " ['Indie-Rock', 'Rock'],\n",
       " ['Indie-Rock', 'Rock'],\n",
       " ['Indie-Rock', 'Rock'],\n",
       " ['Indie-Rock', 'Rock'],\n",
       " ['Indie-Rock', 'Rock'],\n",
       " ['Indie-Rock', 'Rock'],\n",
       " ['Rock', 'Garage'],\n",
       " ['Rock', 'Garage'],\n",
       " ['Rock', 'Garage'],\n",
       " ['Rock', 'Garage'],\n",
       " ['Rock', 'Garage'],\n",
       " ['Rock', 'Garage'],\n",
       " ['Rock', 'Garage'],\n",
       " ['Rock', 'Garage'],\n",
       " ['Rock', 'Garage'],\n",
       " ['Rock', 'Garage'],\n",
       " ['Rock', 'Garage'],\n",
       " ['Rock', 'Garage'],\n",
       " ['Rock', 'Garage'],\n",
       " ['Rock', 'Garage'],\n",
       " ['Rock', 'Garage'],\n",
       " ['Rock', 'Garage'],\n",
       " ['Rock', 'Garage'],\n",
       " ['Rock', 'Garage'],\n",
       " ['Rock', 'Garage'],\n",
       " ['Rock', 'Garage'],\n",
       " ['Rock', 'Garage'],\n",
       " ['Rock', 'Garage'],\n",
       " ['Rock', 'Garage'],\n",
       " ['Rock', 'Garage'],\n",
       " ['Rock', 'Garage'],\n",
       " ['Rock', 'Garage'],\n",
       " ['Rock', 'Garage'],\n",
       " ['Rock', 'Garage'],\n",
       " ['Rock'],\n",
       " ['Folk'],\n",
       " ['Folk'],\n",
       " ['Folk'],\n",
       " ['Punk', 'Rock'],\n",
       " ['Punk', 'Rock'],\n",
       " ['Punk', 'Rock'],\n",
       " ['Punk', 'Rock'],\n",
       " ['Punk', 'Rock'],\n",
       " ['Punk', 'Rock'],\n",
       " ['Punk', 'Rock'],\n",
       " ['Punk', 'Rock'],\n",
       " ['Punk', 'Rock'],\n",
       " ['Punk', 'Rock'],\n",
       " ['Folk'],\n",
       " ['Punk', 'Rock'],\n",
       " ['Punk', 'Rock'],\n",
       " ['Punk', 'Rock'],\n",
       " ['Punk', 'Rock'],\n",
       " ['Punk', 'Rock'],\n",
       " ['Folk'],\n",
       " ['Folk'],\n",
       " ['Folk'],\n",
       " ['Folk'],\n",
       " ['International'],\n",
       " ['International'],\n",
       " ['International'],\n",
       " ['International'],\n",
       " ['International'],\n",
       " ['International'],\n",
       " ['International'],\n",
       " ['International'],\n",
       " ['International'],\n",
       " ['International'],\n",
       " ['International'],\n",
       " ['Rock'],\n",
       " ['International'],\n",
       " ['International'],\n",
       " ['International'],\n",
       " ['International'],\n",
       " ['International'],\n",
       " ['International'],\n",
       " ['International'],\n",
       " ['International'],\n",
       " ['International'],\n",
       " ['International'],\n",
       " ['International'],\n",
       " ['International'],\n",
       " ['International'],\n",
       " ['Rock'],\n",
       " ['Rock'],\n",
       " ['Rock'],\n",
       " ['Rock'],\n",
       " ['Rock'],\n",
       " ['Rock'],\n",
       " ['Rock'],\n",
       " ['Rock'],\n",
       " ['Punk', 'Rock'],\n",
       " ['Punk', 'Rock'],\n",
       " ['Punk', 'Rock'],\n",
       " ['Rock'],\n",
       " ['Rock'],\n",
       " ['Rock'],\n",
       " ['Rock'],\n",
       " ['Rock'],\n",
       " ['Punk', 'Rock'],\n",
       " ['Punk', 'Rock'],\n",
       " ['Punk', 'Rock'],\n",
       " ['Punk', 'Rock'],\n",
       " ['Punk', 'Rock'],\n",
       " ['Rock'],\n",
       " ['Rock'],\n",
       " ['Rock'],\n",
       " ['Rock'],\n",
       " ['Rock'],\n",
       " ['Rock'],\n",
       " ['Rock'],\n",
       " ['Indie-Rock', 'Rock'],\n",
       " ['Indie-Rock', 'Rock'],\n",
       " ['Indie-Rock', 'Rock'],\n",
       " ['Indie-Rock', 'Rock'],\n",
       " ['Indie-Rock', 'Rock'],\n",
       " ['Indie-Rock', 'Rock'],\n",
       " ['International'],\n",
       " ['International'],\n",
       " ['International'],\n",
       " ['International'],\n",
       " ['International'],\n",
       " ['International'],\n",
       " ['Punk', 'Rock'],\n",
       " ['Punk', 'Rock'],\n",
       " ['Punk', 'Rock'],\n",
       " ['Punk', 'Rock'],\n",
       " ['Rock'],\n",
       " ['Rock'],\n",
       " ['Rock', 'Garage'],\n",
       " ['Rock', 'Garage'],\n",
       " ['Rock', 'Garage'],\n",
       " ['Rock', 'Garage'],\n",
       " ['Rock', 'Garage'],\n",
       " ['Rock', 'Garage'],\n",
       " ['Rock', 'Garage'],\n",
       " ['Rock', 'Garage'],\n",
       " ['Rock', 'Garage'],\n",
       " ['Rock', 'Garage'],\n",
       " ['Rock', 'Garage'],\n",
       " ['Rock'],\n",
       " ['Rock'],\n",
       " ['Rock'],\n",
       " ['Rock'],\n",
       " ['Rock'],\n",
       " ['Rock'],\n",
       " ['Rock'],\n",
       " ['Punk', 'Rock', 'Garage'],\n",
       " ['Punk', 'Rock', 'Garage'],\n",
       " ['Punk', 'Rock', 'Garage'],\n",
       " ['Rock'],\n",
       " ['Rock'],\n",
       " ['Rock'],\n",
       " ['Rock'],\n",
       " ['Rock'],\n",
       " ['Rock'],\n",
       " ['Rock'],\n",
       " ['Punk', 'Rock'],\n",
       " ['Rock'],\n",
       " ['Folk'],\n",
       " ['Folk'],\n",
       " ['Folk'],\n",
       " ['Folk'],\n",
       " ['Punk', 'Rock'],\n",
       " ['Punk', 'Rock'],\n",
       " ['Punk', 'Rock'],\n",
       " ['Punk', 'Rock'],\n",
       " ['Punk', 'Rock'],\n",
       " ['Punk', 'Rock'],\n",
       " ['Punk', 'Rock'],\n",
       " ['Rock'],\n",
       " ['Rock'],\n",
       " ['Rock'],\n",
       " ['International'],\n",
       " ['International'],\n",
       " ['International'],\n",
       " ['International'],\n",
       " ['International'],\n",
       " ['Electronic'],\n",
       " ['Electronic'],\n",
       " ['Electronic'],\n",
       " ['Electronic'],\n",
       " ['Blues'],\n",
       " ['Blues'],\n",
       " ['Blues'],\n",
       " ['Blues'],\n",
       " ['Blues'],\n",
       " ['Hip-Hop'],\n",
       " ['Hip-Hop'],\n",
       " ['Hip-Hop'],\n",
       " ['Hip-Hop'],\n",
       " ['Hip-Hop'],\n",
       " ['Hip-Hop'],\n",
       " ['Hip-Hop'],\n",
       " ['Electronic'],\n",
       " ['Electronic'],\n",
       " ['Electronic'],\n",
       " ['Electronic'],\n",
       " ['Electronic'],\n",
       " ['Electronic'],\n",
       " ['Electronic'],\n",
       " ['Electronic'],\n",
       " ['Jazz'],\n",
       " ['Jazz'],\n",
       " ['Jazz'],\n",
       " ['Electronic'],\n",
       " ['Electronic'],\n",
       " ['Rock'],\n",
       " ['Rock'],\n",
       " ['Country'],\n",
       " ['Country'],\n",
       " ['Country'],\n",
       " ['Country'],\n",
       " ['Country'],\n",
       " ['Country'],\n",
       " ['Country'],\n",
       " ['Country'],\n",
       " ['Country'],\n",
       " ['Country'],\n",
       " ['Country'],\n",
       " ['Country'],\n",
       " ['Country'],\n",
       " ['Country'],\n",
       " ['Rock'],\n",
       " ['Experimental'],\n",
       " ['Experimental'],\n",
       " ['Experimental'],\n",
       " ['Experimental'],\n",
       " ['Rock'],\n",
       " ['Indie-Rock', 'Rock'],\n",
       " ['Indie-Rock', 'Rock'],\n",
       " ['Indie-Rock', 'Rock'],\n",
       " ['Rock'],\n",
       " ['Indie-Rock', 'Rock'],\n",
       " ['Rock'],\n",
       " ['Rock'],\n",
       " ['Indie-Rock', 'Rock'],\n",
       " ['Rock'],\n",
       " ['Indie-Rock', 'Rock'],\n",
       " ['Indie-Rock', 'Rock'],\n",
       " ['Rock'],\n",
       " ['Rock'],\n",
       " ['Rock'],\n",
       " ['Rock'],\n",
       " ['Rock'],\n",
       " ['Rock'],\n",
       " ['Rock'],\n",
       " ['Rock'],\n",
       " ['Rock'],\n",
       " ['Rock'],\n",
       " ['Rock'],\n",
       " ['Rock'],\n",
       " ['Rock'],\n",
       " ['Rock'],\n",
       " ['Rock'],\n",
       " ['Rock'],\n",
       " ['Rock'],\n",
       " ['Rock'],\n",
       " ['Rock'],\n",
       " ['Rock'],\n",
       " ['Rock'],\n",
       " ['Rock'],\n",
       " ['Rock'],\n",
       " ['Rock'],\n",
       " ['Rock'],\n",
       " ['Rock'],\n",
       " ['Rock'],\n",
       " ['International'],\n",
       " ['International'],\n",
       " ['International'],\n",
       " ['Classical'],\n",
       " ['Classical'],\n",
       " ['Punk', 'Rock', 'Garage'],\n",
       " ['Punk', 'Rock', 'Garage'],\n",
       " ['Punk', 'Rock', 'Garage'],\n",
       " ['Punk', 'Rock', 'Garage'],\n",
       " ['Punk', 'Rock', 'Garage'],\n",
       " ['Punk', 'Rock', 'Garage'],\n",
       " ['Old-Time / Historic'],\n",
       " ['Old-Time / Historic'],\n",
       " ['Old-Time / Historic'],\n",
       " ['Old-Time / Historic'],\n",
       " ['Old-Time / Historic'],\n",
       " ['Old-Time / Historic'],\n",
       " ['Old-Time / Historic'],\n",
       " ['Old-Time / Historic'],\n",
       " ['Old-Time / Historic'],\n",
       " ['Old-Time / Historic'],\n",
       " ['Old-Time / Historic'],\n",
       " ['Old-Time / Historic'],\n",
       " ['Old-Time / Historic'],\n",
       " ['Old-Time / Historic'],\n",
       " ['Old-Time / Historic'],\n",
       " ['Old-Time / Historic'],\n",
       " ['Old-Time / Historic'],\n",
       " ['Old-Time / Historic'],\n",
       " ['Old-Time / Historic'],\n",
       " ['Old-Time / Historic'],\n",
       " ['Old-Time / Historic'],\n",
       " ['Old-Time / Historic'],\n",
       " ['Old-Time / Historic'],\n",
       " ['Old-Time / Historic'],\n",
       " ['Old-Time / Historic'],\n",
       " ['Rock'],\n",
       " ['Indie-Rock', 'Rock'],\n",
       " ['Rock'],\n",
       " ['Jazz'],\n",
       " ['Jazz'],\n",
       " ['Jazz'],\n",
       " ['Jazz'],\n",
       " ['Folk'],\n",
       " ['Folk'],\n",
       " ['Indie-Rock', 'Rock'],\n",
       " ['Indie-Rock', 'Rock'],\n",
       " ['Indie-Rock', 'Rock'],\n",
       " ['Indie-Rock', 'Rock'],\n",
       " ['Indie-Rock', 'Rock'],\n",
       " ['Indie-Rock', 'Rock'],\n",
       " ['Folk'],\n",
       " ['Folk'],\n",
       " ['Folk'],\n",
       " ['Folk'],\n",
       " ['Rock'],\n",
       " ['Rock'],\n",
       " ['Folk'],\n",
       " ['Folk'],\n",
       " ['Folk'],\n",
       " ['Pop'],\n",
       " ['Pop'],\n",
       " ['Pop'],\n",
       " ['Rock'],\n",
       " ['Rock'],\n",
       " ['Rock'],\n",
       " ['Rock'],\n",
       " ['Rock'],\n",
       " ['Rock'],\n",
       " ['Rock'],\n",
       " ['Rock'],\n",
       " ['Punk', 'Rock'],\n",
       " ['Punk', 'Rock'],\n",
       " ['Punk', 'Rock'],\n",
       " ['Punk', 'Rock'],\n",
       " ['Punk', 'Rock'],\n",
       " ['Punk', 'Rock'],\n",
       " ['Punk', 'Rock'],\n",
       " ['Punk', 'Rock'],\n",
       " ['Punk', 'Rock'],\n",
       " ['Punk', 'Rock'],\n",
       " ['Punk', 'Rock'],\n",
       " ['Hip-Hop'],\n",
       " ['Hip-Hop'],\n",
       " ['Hip-Hop'],\n",
       " ['Hip-Hop'],\n",
       " ['Hip-Hop'],\n",
       " ['Hip-Hop'],\n",
       " ['Rock'],\n",
       " ['Rock'],\n",
       " ['Rock'],\n",
       " ['Rock'],\n",
       " ['Rock'],\n",
       " ['Rock'],\n",
       " ['Rock'],\n",
       " ['Rock'],\n",
       " ['Electronic'],\n",
       " ['Electronic'],\n",
       " ['Electronic'],\n",
       " ['Electronic'],\n",
       " ['Electronic'],\n",
       " ['Electronic'],\n",
       " ['Electronic'],\n",
       " ['Electronic'],\n",
       " ['Electronic'],\n",
       " ['Electronic'],\n",
       " ['Electronic'],\n",
       " ['Electronic'],\n",
       " ['Electronic'],\n",
       " ['Electronic'],\n",
       " ['Electronic'],\n",
       " ['Folk'],\n",
       " ['Folk'],\n",
       " ['Folk'],\n",
       " ['Folk'],\n",
       " ['Folk'],\n",
       " ['Folk'],\n",
       " ['Rock'],\n",
       " ['Electronic'],\n",
       " ['Rock'],\n",
       " ['Rock'],\n",
       " ['Experimental'],\n",
       " ['Experimental'],\n",
       " ['Experimental'],\n",
       " ['Experimental'],\n",
       " ['Experimental'],\n",
       " ['Rock'],\n",
       " ['Rock'],\n",
       " ['Rock'],\n",
       " ['Rock'],\n",
       " ['Rock'],\n",
       " ['Rock'],\n",
       " ['Rock'],\n",
       " ['Folk'],\n",
       " ['Folk'],\n",
       " ['Folk'],\n",
       " ['Folk'],\n",
       " ['Punk', 'Rock'],\n",
       " ['Punk', 'Rock'],\n",
       " ['Punk', 'Rock'],\n",
       " ['International'],\n",
       " ['International'],\n",
       " ['International'],\n",
       " ['International'],\n",
       " ['International'],\n",
       " ['International'],\n",
       " ['International'],\n",
       " ['International'],\n",
       " ['International'],\n",
       " ['International'],\n",
       " ['International'],\n",
       " ...]"
      ]
     },
     "execution_count": 19,
     "metadata": {},
     "output_type": "execute_result"
    }
   ],
   "source": [
    "genres_all_titles = []\n",
    "for track_id, genres_all in tracks['genres_all'].items():\n",
    "    genres_titles = []\n",
    "    for genre_id in genres_all:\n",
    "        genre_title = genres.loc[genre_id, 'title']\n",
    "        genres_titles.append(genre_title)\n",
    "    if not genres_titles:\n",
    "        genre_top = tracks.loc[track_id, 'genre_top']\n",
    "        genres_titles = [genre_top]\n",
    "    genres_all_titles.append(genres_titles)\n",
    "genres_all_titles"
   ]
  },
  {
   "cell_type": "code",
   "execution_count": 20,
   "metadata": {},
   "outputs": [
    {
     "data": {
      "text/html": [
       "<div>\n",
       "<style scoped>\n",
       "    .dataframe tbody tr th:only-of-type {\n",
       "        vertical-align: middle;\n",
       "    }\n",
       "\n",
       "    .dataframe tbody tr th {\n",
       "        vertical-align: top;\n",
       "    }\n",
       "\n",
       "    .dataframe thead th {\n",
       "        text-align: right;\n",
       "    }\n",
       "</style>\n",
       "<table border=\"1\" class=\"dataframe\">\n",
       "  <thead>\n",
       "    <tr style=\"text-align: right;\">\n",
       "      <th></th>\n",
       "      <th>split</th>\n",
       "      <th>subset</th>\n",
       "      <th>genre_top</th>\n",
       "      <th>genres_all</th>\n",
       "      <th>genres_all_titles</th>\n",
       "    </tr>\n",
       "    <tr>\n",
       "      <th>track_id</th>\n",
       "      <th></th>\n",
       "      <th></th>\n",
       "      <th></th>\n",
       "      <th></th>\n",
       "      <th></th>\n",
       "    </tr>\n",
       "  </thead>\n",
       "  <tbody>\n",
       "    <tr>\n",
       "      <th>2</th>\n",
       "      <td>training</td>\n",
       "      <td>small</td>\n",
       "      <td>Hip-Hop</td>\n",
       "      <td>[21]</td>\n",
       "      <td>[Hip-Hop]</td>\n",
       "    </tr>\n",
       "    <tr>\n",
       "      <th>3</th>\n",
       "      <td>training</td>\n",
       "      <td>medium</td>\n",
       "      <td>Hip-Hop</td>\n",
       "      <td>[21]</td>\n",
       "      <td>[Hip-Hop]</td>\n",
       "    </tr>\n",
       "    <tr>\n",
       "      <th>5</th>\n",
       "      <td>training</td>\n",
       "      <td>small</td>\n",
       "      <td>Hip-Hop</td>\n",
       "      <td>[21]</td>\n",
       "      <td>[Hip-Hop]</td>\n",
       "    </tr>\n",
       "    <tr>\n",
       "      <th>10</th>\n",
       "      <td>training</td>\n",
       "      <td>small</td>\n",
       "      <td>Pop</td>\n",
       "      <td>[10]</td>\n",
       "      <td>[Pop]</td>\n",
       "    </tr>\n",
       "    <tr>\n",
       "      <th>134</th>\n",
       "      <td>training</td>\n",
       "      <td>medium</td>\n",
       "      <td>Hip-Hop</td>\n",
       "      <td>[21]</td>\n",
       "      <td>[Hip-Hop]</td>\n",
       "    </tr>\n",
       "    <tr>\n",
       "      <th>136</th>\n",
       "      <td>training</td>\n",
       "      <td>medium</td>\n",
       "      <td>Rock</td>\n",
       "      <td>[12]</td>\n",
       "      <td>[Rock]</td>\n",
       "    </tr>\n",
       "    <tr>\n",
       "      <th>139</th>\n",
       "      <td>training</td>\n",
       "      <td>medium</td>\n",
       "      <td>Folk</td>\n",
       "      <td>[17]</td>\n",
       "      <td>[Folk]</td>\n",
       "    </tr>\n",
       "    <tr>\n",
       "      <th>140</th>\n",
       "      <td>training</td>\n",
       "      <td>small</td>\n",
       "      <td>Folk</td>\n",
       "      <td>[17]</td>\n",
       "      <td>[Folk]</td>\n",
       "    </tr>\n",
       "    <tr>\n",
       "      <th>141</th>\n",
       "      <td>training</td>\n",
       "      <td>small</td>\n",
       "      <td>Folk</td>\n",
       "      <td>[17]</td>\n",
       "      <td>[Folk]</td>\n",
       "    </tr>\n",
       "    <tr>\n",
       "      <th>148</th>\n",
       "      <td>validation</td>\n",
       "      <td>small</td>\n",
       "      <td>Experimental</td>\n",
       "      <td>[38]</td>\n",
       "      <td>[Experimental]</td>\n",
       "    </tr>\n",
       "    <tr>\n",
       "      <th>181</th>\n",
       "      <td>test</td>\n",
       "      <td>medium</td>\n",
       "      <td>Rock</td>\n",
       "      <td>[12]</td>\n",
       "      <td>[Rock]</td>\n",
       "    </tr>\n",
       "    <tr>\n",
       "      <th>182</th>\n",
       "      <td>test</td>\n",
       "      <td>small</td>\n",
       "      <td>Rock</td>\n",
       "      <td>[12]</td>\n",
       "      <td>[Rock]</td>\n",
       "    </tr>\n",
       "    <tr>\n",
       "      <th>190</th>\n",
       "      <td>training</td>\n",
       "      <td>small</td>\n",
       "      <td>Folk</td>\n",
       "      <td>[17]</td>\n",
       "      <td>[Folk]</td>\n",
       "    </tr>\n",
       "    <tr>\n",
       "      <th>193</th>\n",
       "      <td>training</td>\n",
       "      <td>small</td>\n",
       "      <td>Folk</td>\n",
       "      <td>[17]</td>\n",
       "      <td>[Folk]</td>\n",
       "    </tr>\n",
       "    <tr>\n",
       "      <th>194</th>\n",
       "      <td>training</td>\n",
       "      <td>small</td>\n",
       "      <td>Folk</td>\n",
       "      <td>[17]</td>\n",
       "      <td>[Folk]</td>\n",
       "    </tr>\n",
       "  </tbody>\n",
       "</table>\n",
       "</div>"
      ],
      "text/plain": [
       "               split  subset     genre_top genres_all genres_all_titles\n",
       "track_id                                                               \n",
       "2           training   small       Hip-Hop       [21]         [Hip-Hop]\n",
       "3           training  medium       Hip-Hop       [21]         [Hip-Hop]\n",
       "5           training   small       Hip-Hop       [21]         [Hip-Hop]\n",
       "10          training   small           Pop       [10]             [Pop]\n",
       "134         training  medium       Hip-Hop       [21]         [Hip-Hop]\n",
       "136         training  medium          Rock       [12]            [Rock]\n",
       "139         training  medium          Folk       [17]            [Folk]\n",
       "140         training   small          Folk       [17]            [Folk]\n",
       "141         training   small          Folk       [17]            [Folk]\n",
       "148       validation   small  Experimental       [38]    [Experimental]\n",
       "181             test  medium          Rock       [12]            [Rock]\n",
       "182             test   small          Rock       [12]            [Rock]\n",
       "190         training   small          Folk       [17]            [Folk]\n",
       "193         training   small          Folk       [17]            [Folk]\n",
       "194         training   small          Folk       [17]            [Folk]"
      ]
     },
     "execution_count": 20,
     "metadata": {},
     "output_type": "execute_result"
    }
   ],
   "source": [
    "tracks['genres_all_titles'] = genres_all_titles\n",
    "tracks.head(15)"
   ]
  },
  {
   "cell_type": "code",
   "execution_count": 21,
   "metadata": {},
   "outputs": [],
   "source": [
    "tracks_new_genres = tracks.copy()"
   ]
  },
  {
   "cell_type": "code",
   "execution_count": 22,
   "metadata": {},
   "outputs": [],
   "source": [
    "for track_id, (split, subset, genre_top, genres_all, genres_all_titles) in tracks.iterrows():\n",
    "    low_occ_genres = {}\n",
    "    for genre_id in genres_all:\n",
    "        if genre_id not in genres_with_most_occurrences: continue\n",
    "        low_occ_genres[genre_id] = genres_with_most_occurrences[genre_id]\n",
    "    if not low_occ_genres: continue\n",
    "    low_occ_genres_sorted = sorted(low_occ_genres.items(), key=lambda x: x[1])\n",
    "    new_genre_id = low_occ_genres_sorted[0][0]\n",
    "    tracks_new_genres.loc[track_id, 'genre_top'] = genres.loc[new_genre_id, 'title']"
   ]
  },
  {
   "cell_type": "code",
   "execution_count": 23,
   "metadata": {},
   "outputs": [
    {
     "data": {
      "text/html": [
       "<div>\n",
       "<style scoped>\n",
       "    .dataframe tbody tr th:only-of-type {\n",
       "        vertical-align: middle;\n",
       "    }\n",
       "\n",
       "    .dataframe tbody tr th {\n",
       "        vertical-align: top;\n",
       "    }\n",
       "\n",
       "    .dataframe thead th {\n",
       "        text-align: right;\n",
       "    }\n",
       "</style>\n",
       "<table border=\"1\" class=\"dataframe\">\n",
       "  <thead>\n",
       "    <tr style=\"text-align: right;\">\n",
       "      <th></th>\n",
       "      <th>split</th>\n",
       "      <th>subset</th>\n",
       "      <th>genre_top</th>\n",
       "      <th>genres_all</th>\n",
       "      <th>genres_all_titles</th>\n",
       "    </tr>\n",
       "    <tr>\n",
       "      <th>track_id</th>\n",
       "      <th></th>\n",
       "      <th></th>\n",
       "      <th></th>\n",
       "      <th></th>\n",
       "      <th></th>\n",
       "    </tr>\n",
       "  </thead>\n",
       "  <tbody>\n",
       "    <tr>\n",
       "      <th>154232</th>\n",
       "      <td>test</td>\n",
       "      <td>medium</td>\n",
       "      <td>Punk</td>\n",
       "      <td>[25, 12]</td>\n",
       "      <td>[Punk, Rock]</td>\n",
       "    </tr>\n",
       "    <tr>\n",
       "      <th>69782</th>\n",
       "      <td>training</td>\n",
       "      <td>medium</td>\n",
       "      <td>Indie-Rock</td>\n",
       "      <td>[66, 12]</td>\n",
       "      <td>[Indie-Rock, Rock]</td>\n",
       "    </tr>\n",
       "    <tr>\n",
       "      <th>72288</th>\n",
       "      <td>training</td>\n",
       "      <td>small</td>\n",
       "      <td>Punk</td>\n",
       "      <td>[25, 12]</td>\n",
       "      <td>[Punk, Rock]</td>\n",
       "    </tr>\n",
       "    <tr>\n",
       "      <th>50830</th>\n",
       "      <td>training</td>\n",
       "      <td>medium</td>\n",
       "      <td>Punk</td>\n",
       "      <td>[25, 12]</td>\n",
       "      <td>[Punk, Rock]</td>\n",
       "    </tr>\n",
       "    <tr>\n",
       "      <th>133486</th>\n",
       "      <td>training</td>\n",
       "      <td>medium</td>\n",
       "      <td>Punk</td>\n",
       "      <td>[25, 12]</td>\n",
       "      <td>[Punk, Rock]</td>\n",
       "    </tr>\n",
       "    <tr>\n",
       "      <th>10883</th>\n",
       "      <td>test</td>\n",
       "      <td>medium</td>\n",
       "      <td>Punk</td>\n",
       "      <td>[25, 12]</td>\n",
       "      <td>[Punk, Rock]</td>\n",
       "    </tr>\n",
       "    <tr>\n",
       "      <th>137578</th>\n",
       "      <td>training</td>\n",
       "      <td>medium</td>\n",
       "      <td>Punk</td>\n",
       "      <td>[25, 12]</td>\n",
       "      <td>[Punk, Rock]</td>\n",
       "    </tr>\n",
       "    <tr>\n",
       "      <th>19267</th>\n",
       "      <td>training</td>\n",
       "      <td>medium</td>\n",
       "      <td>Chip Music</td>\n",
       "      <td>[297, 15]</td>\n",
       "      <td>[Chip Music, Electronic]</td>\n",
       "    </tr>\n",
       "    <tr>\n",
       "      <th>132169</th>\n",
       "      <td>test</td>\n",
       "      <td>medium</td>\n",
       "      <td>Punk</td>\n",
       "      <td>[25, 12]</td>\n",
       "      <td>[Punk, Rock]</td>\n",
       "    </tr>\n",
       "    <tr>\n",
       "      <th>131166</th>\n",
       "      <td>training</td>\n",
       "      <td>small</td>\n",
       "      <td>Garage</td>\n",
       "      <td>[25, 12, 85]</td>\n",
       "      <td>[Punk, Rock, Garage]</td>\n",
       "    </tr>\n",
       "    <tr>\n",
       "      <th>92521</th>\n",
       "      <td>training</td>\n",
       "      <td>medium</td>\n",
       "      <td>Indie-Rock</td>\n",
       "      <td>[66, 12]</td>\n",
       "      <td>[Indie-Rock, Rock]</td>\n",
       "    </tr>\n",
       "    <tr>\n",
       "      <th>64905</th>\n",
       "      <td>test</td>\n",
       "      <td>medium</td>\n",
       "      <td>Indie-Rock</td>\n",
       "      <td>[66, 12, 85]</td>\n",
       "      <td>[Indie-Rock, Rock, Garage]</td>\n",
       "    </tr>\n",
       "    <tr>\n",
       "      <th>87174</th>\n",
       "      <td>training</td>\n",
       "      <td>medium</td>\n",
       "      <td>Punk</td>\n",
       "      <td>[25, 12]</td>\n",
       "      <td>[Punk, Rock]</td>\n",
       "    </tr>\n",
       "    <tr>\n",
       "      <th>93058</th>\n",
       "      <td>training</td>\n",
       "      <td>medium</td>\n",
       "      <td>Garage</td>\n",
       "      <td>[25, 12, 85]</td>\n",
       "      <td>[Punk, Rock, Garage]</td>\n",
       "    </tr>\n",
       "    <tr>\n",
       "      <th>149669</th>\n",
       "      <td>training</td>\n",
       "      <td>medium</td>\n",
       "      <td>Punk</td>\n",
       "      <td>[25, 12]</td>\n",
       "      <td>[Punk, Rock]</td>\n",
       "    </tr>\n",
       "  </tbody>\n",
       "</table>\n",
       "</div>"
      ],
      "text/plain": [
       "             split  subset   genre_top    genres_all  \\\n",
       "track_id                                               \n",
       "154232        test  medium        Punk      [25, 12]   \n",
       "69782     training  medium  Indie-Rock      [66, 12]   \n",
       "72288     training   small        Punk      [25, 12]   \n",
       "50830     training  medium        Punk      [25, 12]   \n",
       "133486    training  medium        Punk      [25, 12]   \n",
       "10883         test  medium        Punk      [25, 12]   \n",
       "137578    training  medium        Punk      [25, 12]   \n",
       "19267     training  medium  Chip Music     [297, 15]   \n",
       "132169        test  medium        Punk      [25, 12]   \n",
       "131166    training   small      Garage  [25, 12, 85]   \n",
       "92521     training  medium  Indie-Rock      [66, 12]   \n",
       "64905         test  medium  Indie-Rock  [66, 12, 85]   \n",
       "87174     training  medium        Punk      [25, 12]   \n",
       "93058     training  medium      Garage  [25, 12, 85]   \n",
       "149669    training  medium        Punk      [25, 12]   \n",
       "\n",
       "                   genres_all_titles  \n",
       "track_id                              \n",
       "154232                  [Punk, Rock]  \n",
       "69782             [Indie-Rock, Rock]  \n",
       "72288                   [Punk, Rock]  \n",
       "50830                   [Punk, Rock]  \n",
       "133486                  [Punk, Rock]  \n",
       "10883                   [Punk, Rock]  \n",
       "137578                  [Punk, Rock]  \n",
       "19267       [Chip Music, Electronic]  \n",
       "132169                  [Punk, Rock]  \n",
       "131166          [Punk, Rock, Garage]  \n",
       "92521             [Indie-Rock, Rock]  \n",
       "64905     [Indie-Rock, Rock, Garage]  \n",
       "87174                   [Punk, Rock]  \n",
       "93058           [Punk, Rock, Garage]  \n",
       "149669                  [Punk, Rock]  "
      ]
     },
     "execution_count": 23,
     "metadata": {},
     "output_type": "execute_result"
    }
   ],
   "source": [
    "# show rows where tracks_new_genres has more than 1 value in 'genres_all' columns\n",
    "tracks_new_genres[tracks_new_genres['genres_all'].apply(len) > 1].sample(15)"
   ]
  },
  {
   "cell_type": "code",
   "execution_count": 24,
   "metadata": {},
   "outputs": [
    {
     "name": "stdout",
     "output_type": "stream",
     "text": [
      "20 values left\n"
     ]
    },
    {
     "data": {
      "application/vnd.plotly.v1+json": {
       "config": {
        "plotlyServerURL": "https://plot.ly"
       },
       "data": [
        {
         "domain": {
          "x": [
           0,
           1
          ],
          "y": [
           0,
           1
          ]
         },
         "hoverinfo": "label+percent",
         "hovertemplate": "label=%{label}<br>value=%{value}<extra></extra>",
         "labels": [
          "Electronic",
          "Rock",
          "Experimental",
          "Hip-Hop",
          "Punk",
          "Folk",
          "Instrumental",
          "Indie-Rock",
          "Garage",
          "Pop",
          "Chip Music",
          "International",
          "Classical",
          "Old-Time / Historic",
          "Jazz",
          "Country",
          "Soul-RnB",
          "Spoken",
          "Blues",
          "Easy Listening"
         ],
         "legendgroup": "",
         "name": "",
         "showlegend": true,
         "textinfo": "percent",
         "type": "pie",
         "values": [
          5285,
          2343,
          2251,
          2201,
          2199,
          1519,
          1350,
          1293,
          1268,
          1186,
          1029,
          1018,
          619,
          510,
          384,
          178,
          154,
          118,
          74,
          21
         ]
        }
       ],
       "layout": {
        "legend": {
         "tracegroupgap": 0
        },
        "margin": {
         "t": 60
        },
        "template": {
         "data": {
          "bar": [
           {
            "error_x": {
             "color": "#2a3f5f"
            },
            "error_y": {
             "color": "#2a3f5f"
            },
            "marker": {
             "line": {
              "color": "#E5ECF6",
              "width": 0.5
             },
             "pattern": {
              "fillmode": "overlay",
              "size": 10,
              "solidity": 0.2
             }
            },
            "type": "bar"
           }
          ],
          "barpolar": [
           {
            "marker": {
             "line": {
              "color": "#E5ECF6",
              "width": 0.5
             },
             "pattern": {
              "fillmode": "overlay",
              "size": 10,
              "solidity": 0.2
             }
            },
            "type": "barpolar"
           }
          ],
          "carpet": [
           {
            "aaxis": {
             "endlinecolor": "#2a3f5f",
             "gridcolor": "white",
             "linecolor": "white",
             "minorgridcolor": "white",
             "startlinecolor": "#2a3f5f"
            },
            "baxis": {
             "endlinecolor": "#2a3f5f",
             "gridcolor": "white",
             "linecolor": "white",
             "minorgridcolor": "white",
             "startlinecolor": "#2a3f5f"
            },
            "type": "carpet"
           }
          ],
          "choropleth": [
           {
            "colorbar": {
             "outlinewidth": 0,
             "ticks": ""
            },
            "type": "choropleth"
           }
          ],
          "contour": [
           {
            "colorbar": {
             "outlinewidth": 0,
             "ticks": ""
            },
            "colorscale": [
             [
              0,
              "#0d0887"
             ],
             [
              0.1111111111111111,
              "#46039f"
             ],
             [
              0.2222222222222222,
              "#7201a8"
             ],
             [
              0.3333333333333333,
              "#9c179e"
             ],
             [
              0.4444444444444444,
              "#bd3786"
             ],
             [
              0.5555555555555556,
              "#d8576b"
             ],
             [
              0.6666666666666666,
              "#ed7953"
             ],
             [
              0.7777777777777778,
              "#fb9f3a"
             ],
             [
              0.8888888888888888,
              "#fdca26"
             ],
             [
              1,
              "#f0f921"
             ]
            ],
            "type": "contour"
           }
          ],
          "contourcarpet": [
           {
            "colorbar": {
             "outlinewidth": 0,
             "ticks": ""
            },
            "type": "contourcarpet"
           }
          ],
          "heatmap": [
           {
            "colorbar": {
             "outlinewidth": 0,
             "ticks": ""
            },
            "colorscale": [
             [
              0,
              "#0d0887"
             ],
             [
              0.1111111111111111,
              "#46039f"
             ],
             [
              0.2222222222222222,
              "#7201a8"
             ],
             [
              0.3333333333333333,
              "#9c179e"
             ],
             [
              0.4444444444444444,
              "#bd3786"
             ],
             [
              0.5555555555555556,
              "#d8576b"
             ],
             [
              0.6666666666666666,
              "#ed7953"
             ],
             [
              0.7777777777777778,
              "#fb9f3a"
             ],
             [
              0.8888888888888888,
              "#fdca26"
             ],
             [
              1,
              "#f0f921"
             ]
            ],
            "type": "heatmap"
           }
          ],
          "heatmapgl": [
           {
            "colorbar": {
             "outlinewidth": 0,
             "ticks": ""
            },
            "colorscale": [
             [
              0,
              "#0d0887"
             ],
             [
              0.1111111111111111,
              "#46039f"
             ],
             [
              0.2222222222222222,
              "#7201a8"
             ],
             [
              0.3333333333333333,
              "#9c179e"
             ],
             [
              0.4444444444444444,
              "#bd3786"
             ],
             [
              0.5555555555555556,
              "#d8576b"
             ],
             [
              0.6666666666666666,
              "#ed7953"
             ],
             [
              0.7777777777777778,
              "#fb9f3a"
             ],
             [
              0.8888888888888888,
              "#fdca26"
             ],
             [
              1,
              "#f0f921"
             ]
            ],
            "type": "heatmapgl"
           }
          ],
          "histogram": [
           {
            "marker": {
             "pattern": {
              "fillmode": "overlay",
              "size": 10,
              "solidity": 0.2
             }
            },
            "type": "histogram"
           }
          ],
          "histogram2d": [
           {
            "colorbar": {
             "outlinewidth": 0,
             "ticks": ""
            },
            "colorscale": [
             [
              0,
              "#0d0887"
             ],
             [
              0.1111111111111111,
              "#46039f"
             ],
             [
              0.2222222222222222,
              "#7201a8"
             ],
             [
              0.3333333333333333,
              "#9c179e"
             ],
             [
              0.4444444444444444,
              "#bd3786"
             ],
             [
              0.5555555555555556,
              "#d8576b"
             ],
             [
              0.6666666666666666,
              "#ed7953"
             ],
             [
              0.7777777777777778,
              "#fb9f3a"
             ],
             [
              0.8888888888888888,
              "#fdca26"
             ],
             [
              1,
              "#f0f921"
             ]
            ],
            "type": "histogram2d"
           }
          ],
          "histogram2dcontour": [
           {
            "colorbar": {
             "outlinewidth": 0,
             "ticks": ""
            },
            "colorscale": [
             [
              0,
              "#0d0887"
             ],
             [
              0.1111111111111111,
              "#46039f"
             ],
             [
              0.2222222222222222,
              "#7201a8"
             ],
             [
              0.3333333333333333,
              "#9c179e"
             ],
             [
              0.4444444444444444,
              "#bd3786"
             ],
             [
              0.5555555555555556,
              "#d8576b"
             ],
             [
              0.6666666666666666,
              "#ed7953"
             ],
             [
              0.7777777777777778,
              "#fb9f3a"
             ],
             [
              0.8888888888888888,
              "#fdca26"
             ],
             [
              1,
              "#f0f921"
             ]
            ],
            "type": "histogram2dcontour"
           }
          ],
          "mesh3d": [
           {
            "colorbar": {
             "outlinewidth": 0,
             "ticks": ""
            },
            "type": "mesh3d"
           }
          ],
          "parcoords": [
           {
            "line": {
             "colorbar": {
              "outlinewidth": 0,
              "ticks": ""
             }
            },
            "type": "parcoords"
           }
          ],
          "pie": [
           {
            "automargin": true,
            "type": "pie"
           }
          ],
          "scatter": [
           {
            "fillpattern": {
             "fillmode": "overlay",
             "size": 10,
             "solidity": 0.2
            },
            "type": "scatter"
           }
          ],
          "scatter3d": [
           {
            "line": {
             "colorbar": {
              "outlinewidth": 0,
              "ticks": ""
             }
            },
            "marker": {
             "colorbar": {
              "outlinewidth": 0,
              "ticks": ""
             }
            },
            "type": "scatter3d"
           }
          ],
          "scattercarpet": [
           {
            "marker": {
             "colorbar": {
              "outlinewidth": 0,
              "ticks": ""
             }
            },
            "type": "scattercarpet"
           }
          ],
          "scattergeo": [
           {
            "marker": {
             "colorbar": {
              "outlinewidth": 0,
              "ticks": ""
             }
            },
            "type": "scattergeo"
           }
          ],
          "scattergl": [
           {
            "marker": {
             "colorbar": {
              "outlinewidth": 0,
              "ticks": ""
             }
            },
            "type": "scattergl"
           }
          ],
          "scattermapbox": [
           {
            "marker": {
             "colorbar": {
              "outlinewidth": 0,
              "ticks": ""
             }
            },
            "type": "scattermapbox"
           }
          ],
          "scatterpolar": [
           {
            "marker": {
             "colorbar": {
              "outlinewidth": 0,
              "ticks": ""
             }
            },
            "type": "scatterpolar"
           }
          ],
          "scatterpolargl": [
           {
            "marker": {
             "colorbar": {
              "outlinewidth": 0,
              "ticks": ""
             }
            },
            "type": "scatterpolargl"
           }
          ],
          "scatterternary": [
           {
            "marker": {
             "colorbar": {
              "outlinewidth": 0,
              "ticks": ""
             }
            },
            "type": "scatterternary"
           }
          ],
          "surface": [
           {
            "colorbar": {
             "outlinewidth": 0,
             "ticks": ""
            },
            "colorscale": [
             [
              0,
              "#0d0887"
             ],
             [
              0.1111111111111111,
              "#46039f"
             ],
             [
              0.2222222222222222,
              "#7201a8"
             ],
             [
              0.3333333333333333,
              "#9c179e"
             ],
             [
              0.4444444444444444,
              "#bd3786"
             ],
             [
              0.5555555555555556,
              "#d8576b"
             ],
             [
              0.6666666666666666,
              "#ed7953"
             ],
             [
              0.7777777777777778,
              "#fb9f3a"
             ],
             [
              0.8888888888888888,
              "#fdca26"
             ],
             [
              1,
              "#f0f921"
             ]
            ],
            "type": "surface"
           }
          ],
          "table": [
           {
            "cells": {
             "fill": {
              "color": "#EBF0F8"
             },
             "line": {
              "color": "white"
             }
            },
            "header": {
             "fill": {
              "color": "#C8D4E3"
             },
             "line": {
              "color": "white"
             }
            },
            "type": "table"
           }
          ]
         },
         "layout": {
          "annotationdefaults": {
           "arrowcolor": "#2a3f5f",
           "arrowhead": 0,
           "arrowwidth": 1
          },
          "autotypenumbers": "strict",
          "coloraxis": {
           "colorbar": {
            "outlinewidth": 0,
            "ticks": ""
           }
          },
          "colorscale": {
           "diverging": [
            [
             0,
             "#8e0152"
            ],
            [
             0.1,
             "#c51b7d"
            ],
            [
             0.2,
             "#de77ae"
            ],
            [
             0.3,
             "#f1b6da"
            ],
            [
             0.4,
             "#fde0ef"
            ],
            [
             0.5,
             "#f7f7f7"
            ],
            [
             0.6,
             "#e6f5d0"
            ],
            [
             0.7,
             "#b8e186"
            ],
            [
             0.8,
             "#7fbc41"
            ],
            [
             0.9,
             "#4d9221"
            ],
            [
             1,
             "#276419"
            ]
           ],
           "sequential": [
            [
             0,
             "#0d0887"
            ],
            [
             0.1111111111111111,
             "#46039f"
            ],
            [
             0.2222222222222222,
             "#7201a8"
            ],
            [
             0.3333333333333333,
             "#9c179e"
            ],
            [
             0.4444444444444444,
             "#bd3786"
            ],
            [
             0.5555555555555556,
             "#d8576b"
            ],
            [
             0.6666666666666666,
             "#ed7953"
            ],
            [
             0.7777777777777778,
             "#fb9f3a"
            ],
            [
             0.8888888888888888,
             "#fdca26"
            ],
            [
             1,
             "#f0f921"
            ]
           ],
           "sequentialminus": [
            [
             0,
             "#0d0887"
            ],
            [
             0.1111111111111111,
             "#46039f"
            ],
            [
             0.2222222222222222,
             "#7201a8"
            ],
            [
             0.3333333333333333,
             "#9c179e"
            ],
            [
             0.4444444444444444,
             "#bd3786"
            ],
            [
             0.5555555555555556,
             "#d8576b"
            ],
            [
             0.6666666666666666,
             "#ed7953"
            ],
            [
             0.7777777777777778,
             "#fb9f3a"
            ],
            [
             0.8888888888888888,
             "#fdca26"
            ],
            [
             1,
             "#f0f921"
            ]
           ]
          },
          "colorway": [
           "#636efa",
           "#EF553B",
           "#00cc96",
           "#ab63fa",
           "#FFA15A",
           "#19d3f3",
           "#FF6692",
           "#B6E880",
           "#FF97FF",
           "#FECB52"
          ],
          "font": {
           "color": "#2a3f5f"
          },
          "geo": {
           "bgcolor": "white",
           "lakecolor": "white",
           "landcolor": "#E5ECF6",
           "showlakes": true,
           "showland": true,
           "subunitcolor": "white"
          },
          "hoverlabel": {
           "align": "left"
          },
          "hovermode": "closest",
          "mapbox": {
           "style": "light"
          },
          "paper_bgcolor": "white",
          "plot_bgcolor": "#E5ECF6",
          "polar": {
           "angularaxis": {
            "gridcolor": "white",
            "linecolor": "white",
            "ticks": ""
           },
           "bgcolor": "#E5ECF6",
           "radialaxis": {
            "gridcolor": "white",
            "linecolor": "white",
            "ticks": ""
           }
          },
          "scene": {
           "xaxis": {
            "backgroundcolor": "#E5ECF6",
            "gridcolor": "white",
            "gridwidth": 2,
            "linecolor": "white",
            "showbackground": true,
            "ticks": "",
            "zerolinecolor": "white"
           },
           "yaxis": {
            "backgroundcolor": "#E5ECF6",
            "gridcolor": "white",
            "gridwidth": 2,
            "linecolor": "white",
            "showbackground": true,
            "ticks": "",
            "zerolinecolor": "white"
           },
           "zaxis": {
            "backgroundcolor": "#E5ECF6",
            "gridcolor": "white",
            "gridwidth": 2,
            "linecolor": "white",
            "showbackground": true,
            "ticks": "",
            "zerolinecolor": "white"
           }
          },
          "shapedefaults": {
           "line": {
            "color": "#2a3f5f"
           }
          },
          "ternary": {
           "aaxis": {
            "gridcolor": "white",
            "linecolor": "white",
            "ticks": ""
           },
           "baxis": {
            "gridcolor": "white",
            "linecolor": "white",
            "ticks": ""
           },
           "bgcolor": "#E5ECF6",
           "caxis": {
            "gridcolor": "white",
            "linecolor": "white",
            "ticks": ""
           }
          },
          "title": {
           "x": 0.05
          },
          "xaxis": {
           "automargin": true,
           "gridcolor": "white",
           "linecolor": "white",
           "ticks": "",
           "title": {
            "standoff": 15
           },
           "zerolinecolor": "white",
           "zerolinewidth": 2
          },
          "yaxis": {
           "automargin": true,
           "gridcolor": "white",
           "linecolor": "white",
           "ticks": "",
           "title": {
            "standoff": 15
           },
           "zerolinecolor": "white",
           "zerolinewidth": 2
          }
         }
        }
       }
      }
     },
     "metadata": {},
     "output_type": "display_data"
    }
   ],
   "source": [
    "filtering_utils.draw_pie(tracks_new_genres, 'genre_top')"
   ]
  },
  {
   "cell_type": "code",
   "execution_count": 25,
   "metadata": {},
   "outputs": [],
   "source": [
    "min_genre_occurrences = 1000\n",
    "tracks_ids_with_min_genre_occurrences = []\n",
    "\n",
    "tracks_new_genres_value_counts = tracks_new_genres['genre_top'].value_counts()\n",
    "\n",
    "for track_id, genre_top in tracks_new_genres['genre_top'].items():\n",
    "    genre_occurrence = tracks_new_genres_value_counts[genre_top]\n",
    "    if genre_occurrence >= min_genre_occurrences:\n",
    "        tracks_ids_with_min_genre_occurrences.append(track_id)"
   ]
  },
  {
   "cell_type": "code",
   "execution_count": 26,
   "metadata": {},
   "outputs": [
    {
     "data": {
      "text/plain": [
       "((25000, 5), (22942, 5))"
      ]
     },
     "execution_count": 26,
     "metadata": {},
     "output_type": "execute_result"
    }
   ],
   "source": [
    "tracks_new_genres_filtered = tracks_new_genres.loc[tracks_ids_with_min_genre_occurrences]\n",
    "tracks_new_genres.shape, tracks_new_genres_filtered.shape"
   ]
  },
  {
   "cell_type": "code",
   "execution_count": 27,
   "metadata": {},
   "outputs": [
    {
     "name": "stdout",
     "output_type": "stream",
     "text": [
      "12 values left\n"
     ]
    },
    {
     "data": {
      "application/vnd.plotly.v1+json": {
       "config": {
        "plotlyServerURL": "https://plot.ly"
       },
       "data": [
        {
         "domain": {
          "x": [
           0,
           1
          ],
          "y": [
           0,
           1
          ]
         },
         "hoverinfo": "label+percent",
         "hovertemplate": "label=%{label}<br>value=%{value}<extra></extra>",
         "labels": [
          "Electronic",
          "Rock",
          "Experimental",
          "Hip-Hop",
          "Punk",
          "Folk",
          "Instrumental",
          "Indie-Rock",
          "Garage",
          "Pop",
          "Chip Music",
          "International"
         ],
         "legendgroup": "",
         "name": "",
         "showlegend": true,
         "textinfo": "percent",
         "type": "pie",
         "values": [
          5285,
          2343,
          2251,
          2201,
          2199,
          1519,
          1350,
          1293,
          1268,
          1186,
          1029,
          1018
         ]
        }
       ],
       "layout": {
        "legend": {
         "tracegroupgap": 0
        },
        "margin": {
         "t": 60
        },
        "template": {
         "data": {
          "bar": [
           {
            "error_x": {
             "color": "#2a3f5f"
            },
            "error_y": {
             "color": "#2a3f5f"
            },
            "marker": {
             "line": {
              "color": "#E5ECF6",
              "width": 0.5
             },
             "pattern": {
              "fillmode": "overlay",
              "size": 10,
              "solidity": 0.2
             }
            },
            "type": "bar"
           }
          ],
          "barpolar": [
           {
            "marker": {
             "line": {
              "color": "#E5ECF6",
              "width": 0.5
             },
             "pattern": {
              "fillmode": "overlay",
              "size": 10,
              "solidity": 0.2
             }
            },
            "type": "barpolar"
           }
          ],
          "carpet": [
           {
            "aaxis": {
             "endlinecolor": "#2a3f5f",
             "gridcolor": "white",
             "linecolor": "white",
             "minorgridcolor": "white",
             "startlinecolor": "#2a3f5f"
            },
            "baxis": {
             "endlinecolor": "#2a3f5f",
             "gridcolor": "white",
             "linecolor": "white",
             "minorgridcolor": "white",
             "startlinecolor": "#2a3f5f"
            },
            "type": "carpet"
           }
          ],
          "choropleth": [
           {
            "colorbar": {
             "outlinewidth": 0,
             "ticks": ""
            },
            "type": "choropleth"
           }
          ],
          "contour": [
           {
            "colorbar": {
             "outlinewidth": 0,
             "ticks": ""
            },
            "colorscale": [
             [
              0,
              "#0d0887"
             ],
             [
              0.1111111111111111,
              "#46039f"
             ],
             [
              0.2222222222222222,
              "#7201a8"
             ],
             [
              0.3333333333333333,
              "#9c179e"
             ],
             [
              0.4444444444444444,
              "#bd3786"
             ],
             [
              0.5555555555555556,
              "#d8576b"
             ],
             [
              0.6666666666666666,
              "#ed7953"
             ],
             [
              0.7777777777777778,
              "#fb9f3a"
             ],
             [
              0.8888888888888888,
              "#fdca26"
             ],
             [
              1,
              "#f0f921"
             ]
            ],
            "type": "contour"
           }
          ],
          "contourcarpet": [
           {
            "colorbar": {
             "outlinewidth": 0,
             "ticks": ""
            },
            "type": "contourcarpet"
           }
          ],
          "heatmap": [
           {
            "colorbar": {
             "outlinewidth": 0,
             "ticks": ""
            },
            "colorscale": [
             [
              0,
              "#0d0887"
             ],
             [
              0.1111111111111111,
              "#46039f"
             ],
             [
              0.2222222222222222,
              "#7201a8"
             ],
             [
              0.3333333333333333,
              "#9c179e"
             ],
             [
              0.4444444444444444,
              "#bd3786"
             ],
             [
              0.5555555555555556,
              "#d8576b"
             ],
             [
              0.6666666666666666,
              "#ed7953"
             ],
             [
              0.7777777777777778,
              "#fb9f3a"
             ],
             [
              0.8888888888888888,
              "#fdca26"
             ],
             [
              1,
              "#f0f921"
             ]
            ],
            "type": "heatmap"
           }
          ],
          "heatmapgl": [
           {
            "colorbar": {
             "outlinewidth": 0,
             "ticks": ""
            },
            "colorscale": [
             [
              0,
              "#0d0887"
             ],
             [
              0.1111111111111111,
              "#46039f"
             ],
             [
              0.2222222222222222,
              "#7201a8"
             ],
             [
              0.3333333333333333,
              "#9c179e"
             ],
             [
              0.4444444444444444,
              "#bd3786"
             ],
             [
              0.5555555555555556,
              "#d8576b"
             ],
             [
              0.6666666666666666,
              "#ed7953"
             ],
             [
              0.7777777777777778,
              "#fb9f3a"
             ],
             [
              0.8888888888888888,
              "#fdca26"
             ],
             [
              1,
              "#f0f921"
             ]
            ],
            "type": "heatmapgl"
           }
          ],
          "histogram": [
           {
            "marker": {
             "pattern": {
              "fillmode": "overlay",
              "size": 10,
              "solidity": 0.2
             }
            },
            "type": "histogram"
           }
          ],
          "histogram2d": [
           {
            "colorbar": {
             "outlinewidth": 0,
             "ticks": ""
            },
            "colorscale": [
             [
              0,
              "#0d0887"
             ],
             [
              0.1111111111111111,
              "#46039f"
             ],
             [
              0.2222222222222222,
              "#7201a8"
             ],
             [
              0.3333333333333333,
              "#9c179e"
             ],
             [
              0.4444444444444444,
              "#bd3786"
             ],
             [
              0.5555555555555556,
              "#d8576b"
             ],
             [
              0.6666666666666666,
              "#ed7953"
             ],
             [
              0.7777777777777778,
              "#fb9f3a"
             ],
             [
              0.8888888888888888,
              "#fdca26"
             ],
             [
              1,
              "#f0f921"
             ]
            ],
            "type": "histogram2d"
           }
          ],
          "histogram2dcontour": [
           {
            "colorbar": {
             "outlinewidth": 0,
             "ticks": ""
            },
            "colorscale": [
             [
              0,
              "#0d0887"
             ],
             [
              0.1111111111111111,
              "#46039f"
             ],
             [
              0.2222222222222222,
              "#7201a8"
             ],
             [
              0.3333333333333333,
              "#9c179e"
             ],
             [
              0.4444444444444444,
              "#bd3786"
             ],
             [
              0.5555555555555556,
              "#d8576b"
             ],
             [
              0.6666666666666666,
              "#ed7953"
             ],
             [
              0.7777777777777778,
              "#fb9f3a"
             ],
             [
              0.8888888888888888,
              "#fdca26"
             ],
             [
              1,
              "#f0f921"
             ]
            ],
            "type": "histogram2dcontour"
           }
          ],
          "mesh3d": [
           {
            "colorbar": {
             "outlinewidth": 0,
             "ticks": ""
            },
            "type": "mesh3d"
           }
          ],
          "parcoords": [
           {
            "line": {
             "colorbar": {
              "outlinewidth": 0,
              "ticks": ""
             }
            },
            "type": "parcoords"
           }
          ],
          "pie": [
           {
            "automargin": true,
            "type": "pie"
           }
          ],
          "scatter": [
           {
            "fillpattern": {
             "fillmode": "overlay",
             "size": 10,
             "solidity": 0.2
            },
            "type": "scatter"
           }
          ],
          "scatter3d": [
           {
            "line": {
             "colorbar": {
              "outlinewidth": 0,
              "ticks": ""
             }
            },
            "marker": {
             "colorbar": {
              "outlinewidth": 0,
              "ticks": ""
             }
            },
            "type": "scatter3d"
           }
          ],
          "scattercarpet": [
           {
            "marker": {
             "colorbar": {
              "outlinewidth": 0,
              "ticks": ""
             }
            },
            "type": "scattercarpet"
           }
          ],
          "scattergeo": [
           {
            "marker": {
             "colorbar": {
              "outlinewidth": 0,
              "ticks": ""
             }
            },
            "type": "scattergeo"
           }
          ],
          "scattergl": [
           {
            "marker": {
             "colorbar": {
              "outlinewidth": 0,
              "ticks": ""
             }
            },
            "type": "scattergl"
           }
          ],
          "scattermapbox": [
           {
            "marker": {
             "colorbar": {
              "outlinewidth": 0,
              "ticks": ""
             }
            },
            "type": "scattermapbox"
           }
          ],
          "scatterpolar": [
           {
            "marker": {
             "colorbar": {
              "outlinewidth": 0,
              "ticks": ""
             }
            },
            "type": "scatterpolar"
           }
          ],
          "scatterpolargl": [
           {
            "marker": {
             "colorbar": {
              "outlinewidth": 0,
              "ticks": ""
             }
            },
            "type": "scatterpolargl"
           }
          ],
          "scatterternary": [
           {
            "marker": {
             "colorbar": {
              "outlinewidth": 0,
              "ticks": ""
             }
            },
            "type": "scatterternary"
           }
          ],
          "surface": [
           {
            "colorbar": {
             "outlinewidth": 0,
             "ticks": ""
            },
            "colorscale": [
             [
              0,
              "#0d0887"
             ],
             [
              0.1111111111111111,
              "#46039f"
             ],
             [
              0.2222222222222222,
              "#7201a8"
             ],
             [
              0.3333333333333333,
              "#9c179e"
             ],
             [
              0.4444444444444444,
              "#bd3786"
             ],
             [
              0.5555555555555556,
              "#d8576b"
             ],
             [
              0.6666666666666666,
              "#ed7953"
             ],
             [
              0.7777777777777778,
              "#fb9f3a"
             ],
             [
              0.8888888888888888,
              "#fdca26"
             ],
             [
              1,
              "#f0f921"
             ]
            ],
            "type": "surface"
           }
          ],
          "table": [
           {
            "cells": {
             "fill": {
              "color": "#EBF0F8"
             },
             "line": {
              "color": "white"
             }
            },
            "header": {
             "fill": {
              "color": "#C8D4E3"
             },
             "line": {
              "color": "white"
             }
            },
            "type": "table"
           }
          ]
         },
         "layout": {
          "annotationdefaults": {
           "arrowcolor": "#2a3f5f",
           "arrowhead": 0,
           "arrowwidth": 1
          },
          "autotypenumbers": "strict",
          "coloraxis": {
           "colorbar": {
            "outlinewidth": 0,
            "ticks": ""
           }
          },
          "colorscale": {
           "diverging": [
            [
             0,
             "#8e0152"
            ],
            [
             0.1,
             "#c51b7d"
            ],
            [
             0.2,
             "#de77ae"
            ],
            [
             0.3,
             "#f1b6da"
            ],
            [
             0.4,
             "#fde0ef"
            ],
            [
             0.5,
             "#f7f7f7"
            ],
            [
             0.6,
             "#e6f5d0"
            ],
            [
             0.7,
             "#b8e186"
            ],
            [
             0.8,
             "#7fbc41"
            ],
            [
             0.9,
             "#4d9221"
            ],
            [
             1,
             "#276419"
            ]
           ],
           "sequential": [
            [
             0,
             "#0d0887"
            ],
            [
             0.1111111111111111,
             "#46039f"
            ],
            [
             0.2222222222222222,
             "#7201a8"
            ],
            [
             0.3333333333333333,
             "#9c179e"
            ],
            [
             0.4444444444444444,
             "#bd3786"
            ],
            [
             0.5555555555555556,
             "#d8576b"
            ],
            [
             0.6666666666666666,
             "#ed7953"
            ],
            [
             0.7777777777777778,
             "#fb9f3a"
            ],
            [
             0.8888888888888888,
             "#fdca26"
            ],
            [
             1,
             "#f0f921"
            ]
           ],
           "sequentialminus": [
            [
             0,
             "#0d0887"
            ],
            [
             0.1111111111111111,
             "#46039f"
            ],
            [
             0.2222222222222222,
             "#7201a8"
            ],
            [
             0.3333333333333333,
             "#9c179e"
            ],
            [
             0.4444444444444444,
             "#bd3786"
            ],
            [
             0.5555555555555556,
             "#d8576b"
            ],
            [
             0.6666666666666666,
             "#ed7953"
            ],
            [
             0.7777777777777778,
             "#fb9f3a"
            ],
            [
             0.8888888888888888,
             "#fdca26"
            ],
            [
             1,
             "#f0f921"
            ]
           ]
          },
          "colorway": [
           "#636efa",
           "#EF553B",
           "#00cc96",
           "#ab63fa",
           "#FFA15A",
           "#19d3f3",
           "#FF6692",
           "#B6E880",
           "#FF97FF",
           "#FECB52"
          ],
          "font": {
           "color": "#2a3f5f"
          },
          "geo": {
           "bgcolor": "white",
           "lakecolor": "white",
           "landcolor": "#E5ECF6",
           "showlakes": true,
           "showland": true,
           "subunitcolor": "white"
          },
          "hoverlabel": {
           "align": "left"
          },
          "hovermode": "closest",
          "mapbox": {
           "style": "light"
          },
          "paper_bgcolor": "white",
          "plot_bgcolor": "#E5ECF6",
          "polar": {
           "angularaxis": {
            "gridcolor": "white",
            "linecolor": "white",
            "ticks": ""
           },
           "bgcolor": "#E5ECF6",
           "radialaxis": {
            "gridcolor": "white",
            "linecolor": "white",
            "ticks": ""
           }
          },
          "scene": {
           "xaxis": {
            "backgroundcolor": "#E5ECF6",
            "gridcolor": "white",
            "gridwidth": 2,
            "linecolor": "white",
            "showbackground": true,
            "ticks": "",
            "zerolinecolor": "white"
           },
           "yaxis": {
            "backgroundcolor": "#E5ECF6",
            "gridcolor": "white",
            "gridwidth": 2,
            "linecolor": "white",
            "showbackground": true,
            "ticks": "",
            "zerolinecolor": "white"
           },
           "zaxis": {
            "backgroundcolor": "#E5ECF6",
            "gridcolor": "white",
            "gridwidth": 2,
            "linecolor": "white",
            "showbackground": true,
            "ticks": "",
            "zerolinecolor": "white"
           }
          },
          "shapedefaults": {
           "line": {
            "color": "#2a3f5f"
           }
          },
          "ternary": {
           "aaxis": {
            "gridcolor": "white",
            "linecolor": "white",
            "ticks": ""
           },
           "baxis": {
            "gridcolor": "white",
            "linecolor": "white",
            "ticks": ""
           },
           "bgcolor": "#E5ECF6",
           "caxis": {
            "gridcolor": "white",
            "linecolor": "white",
            "ticks": ""
           }
          },
          "title": {
           "x": 0.05
          },
          "xaxis": {
           "automargin": true,
           "gridcolor": "white",
           "linecolor": "white",
           "ticks": "",
           "title": {
            "standoff": 15
           },
           "zerolinecolor": "white",
           "zerolinewidth": 2
          },
          "yaxis": {
           "automargin": true,
           "gridcolor": "white",
           "linecolor": "white",
           "ticks": "",
           "title": {
            "standoff": 15
           },
           "zerolinecolor": "white",
           "zerolinewidth": 2
          }
         }
        }
       }
      }
     },
     "metadata": {},
     "output_type": "display_data"
    }
   ],
   "source": [
    "filtering_utils.draw_pie(tracks_new_genres_filtered, 'genre_top')"
   ]
  },
  {
   "cell_type": "code",
   "execution_count": 28,
   "metadata": {},
   "outputs": [
    {
     "data": {
      "text/html": [
       "<div>\n",
       "<style scoped>\n",
       "    .dataframe tbody tr th:only-of-type {\n",
       "        vertical-align: middle;\n",
       "    }\n",
       "\n",
       "    .dataframe tbody tr th {\n",
       "        vertical-align: top;\n",
       "    }\n",
       "\n",
       "    .dataframe thead th {\n",
       "        text-align: right;\n",
       "    }\n",
       "</style>\n",
       "<table border=\"1\" class=\"dataframe\">\n",
       "  <thead>\n",
       "    <tr style=\"text-align: right;\">\n",
       "      <th></th>\n",
       "      <th>genre</th>\n",
       "    </tr>\n",
       "    <tr>\n",
       "      <th>track_id</th>\n",
       "      <th></th>\n",
       "    </tr>\n",
       "  </thead>\n",
       "  <tbody>\n",
       "    <tr>\n",
       "      <th>111213</th>\n",
       "      <td>Rock</td>\n",
       "    </tr>\n",
       "  </tbody>\n",
       "</table>\n",
       "</div>"
      ],
      "text/plain": [
       "         genre\n",
       "track_id      \n",
       "111213    Rock"
      ]
     },
     "execution_count": 28,
     "metadata": {},
     "output_type": "execute_result"
    }
   ],
   "source": [
    "tracks_new_genres_filtered.rename({'genre_top': 'genre'}, axis=1, inplace=True)\n",
    "tracks_new_genres_filtered.drop(['genres_all', 'split', 'subset', 'genres_all_titles'], axis=1, inplace=True)\n",
    "tracks_new_genres_filtered.sample()"
   ]
  },
  {
   "cell_type": "code",
   "execution_count": 29,
   "metadata": {},
   "outputs": [],
   "source": [
    "tracks = tracks_new_genres_filtered"
   ]
  },
  {
   "cell_type": "code",
   "execution_count": 30,
   "metadata": {},
   "outputs": [
    {
     "name": "stdout",
     "output_type": "stream",
     "text": [
      "12 values left\n"
     ]
    },
    {
     "data": {
      "application/vnd.plotly.v1+json": {
       "config": {
        "plotlyServerURL": "https://plot.ly"
       },
       "data": [
        {
         "domain": {
          "x": [
           0,
           1
          ],
          "y": [
           0,
           1
          ]
         },
         "hoverinfo": "label+percent",
         "hovertemplate": "label=%{label}<br>value=%{value}<extra></extra>",
         "labels": [
          "Electronic",
          "Rock",
          "Experimental",
          "Hip-Hop",
          "Punk",
          "Folk",
          "Instrumental",
          "Indie-Rock",
          "Garage",
          "Pop",
          "Chip Music",
          "International"
         ],
         "legendgroup": "",
         "name": "",
         "showlegend": true,
         "textinfo": "percent",
         "type": "pie",
         "values": [
          5285,
          2343,
          2251,
          2201,
          2199,
          1519,
          1350,
          1293,
          1268,
          1186,
          1029,
          1018
         ]
        }
       ],
       "layout": {
        "legend": {
         "tracegroupgap": 0
        },
        "margin": {
         "t": 60
        },
        "template": {
         "data": {
          "bar": [
           {
            "error_x": {
             "color": "#2a3f5f"
            },
            "error_y": {
             "color": "#2a3f5f"
            },
            "marker": {
             "line": {
              "color": "#E5ECF6",
              "width": 0.5
             },
             "pattern": {
              "fillmode": "overlay",
              "size": 10,
              "solidity": 0.2
             }
            },
            "type": "bar"
           }
          ],
          "barpolar": [
           {
            "marker": {
             "line": {
              "color": "#E5ECF6",
              "width": 0.5
             },
             "pattern": {
              "fillmode": "overlay",
              "size": 10,
              "solidity": 0.2
             }
            },
            "type": "barpolar"
           }
          ],
          "carpet": [
           {
            "aaxis": {
             "endlinecolor": "#2a3f5f",
             "gridcolor": "white",
             "linecolor": "white",
             "minorgridcolor": "white",
             "startlinecolor": "#2a3f5f"
            },
            "baxis": {
             "endlinecolor": "#2a3f5f",
             "gridcolor": "white",
             "linecolor": "white",
             "minorgridcolor": "white",
             "startlinecolor": "#2a3f5f"
            },
            "type": "carpet"
           }
          ],
          "choropleth": [
           {
            "colorbar": {
             "outlinewidth": 0,
             "ticks": ""
            },
            "type": "choropleth"
           }
          ],
          "contour": [
           {
            "colorbar": {
             "outlinewidth": 0,
             "ticks": ""
            },
            "colorscale": [
             [
              0,
              "#0d0887"
             ],
             [
              0.1111111111111111,
              "#46039f"
             ],
             [
              0.2222222222222222,
              "#7201a8"
             ],
             [
              0.3333333333333333,
              "#9c179e"
             ],
             [
              0.4444444444444444,
              "#bd3786"
             ],
             [
              0.5555555555555556,
              "#d8576b"
             ],
             [
              0.6666666666666666,
              "#ed7953"
             ],
             [
              0.7777777777777778,
              "#fb9f3a"
             ],
             [
              0.8888888888888888,
              "#fdca26"
             ],
             [
              1,
              "#f0f921"
             ]
            ],
            "type": "contour"
           }
          ],
          "contourcarpet": [
           {
            "colorbar": {
             "outlinewidth": 0,
             "ticks": ""
            },
            "type": "contourcarpet"
           }
          ],
          "heatmap": [
           {
            "colorbar": {
             "outlinewidth": 0,
             "ticks": ""
            },
            "colorscale": [
             [
              0,
              "#0d0887"
             ],
             [
              0.1111111111111111,
              "#46039f"
             ],
             [
              0.2222222222222222,
              "#7201a8"
             ],
             [
              0.3333333333333333,
              "#9c179e"
             ],
             [
              0.4444444444444444,
              "#bd3786"
             ],
             [
              0.5555555555555556,
              "#d8576b"
             ],
             [
              0.6666666666666666,
              "#ed7953"
             ],
             [
              0.7777777777777778,
              "#fb9f3a"
             ],
             [
              0.8888888888888888,
              "#fdca26"
             ],
             [
              1,
              "#f0f921"
             ]
            ],
            "type": "heatmap"
           }
          ],
          "heatmapgl": [
           {
            "colorbar": {
             "outlinewidth": 0,
             "ticks": ""
            },
            "colorscale": [
             [
              0,
              "#0d0887"
             ],
             [
              0.1111111111111111,
              "#46039f"
             ],
             [
              0.2222222222222222,
              "#7201a8"
             ],
             [
              0.3333333333333333,
              "#9c179e"
             ],
             [
              0.4444444444444444,
              "#bd3786"
             ],
             [
              0.5555555555555556,
              "#d8576b"
             ],
             [
              0.6666666666666666,
              "#ed7953"
             ],
             [
              0.7777777777777778,
              "#fb9f3a"
             ],
             [
              0.8888888888888888,
              "#fdca26"
             ],
             [
              1,
              "#f0f921"
             ]
            ],
            "type": "heatmapgl"
           }
          ],
          "histogram": [
           {
            "marker": {
             "pattern": {
              "fillmode": "overlay",
              "size": 10,
              "solidity": 0.2
             }
            },
            "type": "histogram"
           }
          ],
          "histogram2d": [
           {
            "colorbar": {
             "outlinewidth": 0,
             "ticks": ""
            },
            "colorscale": [
             [
              0,
              "#0d0887"
             ],
             [
              0.1111111111111111,
              "#46039f"
             ],
             [
              0.2222222222222222,
              "#7201a8"
             ],
             [
              0.3333333333333333,
              "#9c179e"
             ],
             [
              0.4444444444444444,
              "#bd3786"
             ],
             [
              0.5555555555555556,
              "#d8576b"
             ],
             [
              0.6666666666666666,
              "#ed7953"
             ],
             [
              0.7777777777777778,
              "#fb9f3a"
             ],
             [
              0.8888888888888888,
              "#fdca26"
             ],
             [
              1,
              "#f0f921"
             ]
            ],
            "type": "histogram2d"
           }
          ],
          "histogram2dcontour": [
           {
            "colorbar": {
             "outlinewidth": 0,
             "ticks": ""
            },
            "colorscale": [
             [
              0,
              "#0d0887"
             ],
             [
              0.1111111111111111,
              "#46039f"
             ],
             [
              0.2222222222222222,
              "#7201a8"
             ],
             [
              0.3333333333333333,
              "#9c179e"
             ],
             [
              0.4444444444444444,
              "#bd3786"
             ],
             [
              0.5555555555555556,
              "#d8576b"
             ],
             [
              0.6666666666666666,
              "#ed7953"
             ],
             [
              0.7777777777777778,
              "#fb9f3a"
             ],
             [
              0.8888888888888888,
              "#fdca26"
             ],
             [
              1,
              "#f0f921"
             ]
            ],
            "type": "histogram2dcontour"
           }
          ],
          "mesh3d": [
           {
            "colorbar": {
             "outlinewidth": 0,
             "ticks": ""
            },
            "type": "mesh3d"
           }
          ],
          "parcoords": [
           {
            "line": {
             "colorbar": {
              "outlinewidth": 0,
              "ticks": ""
             }
            },
            "type": "parcoords"
           }
          ],
          "pie": [
           {
            "automargin": true,
            "type": "pie"
           }
          ],
          "scatter": [
           {
            "fillpattern": {
             "fillmode": "overlay",
             "size": 10,
             "solidity": 0.2
            },
            "type": "scatter"
           }
          ],
          "scatter3d": [
           {
            "line": {
             "colorbar": {
              "outlinewidth": 0,
              "ticks": ""
             }
            },
            "marker": {
             "colorbar": {
              "outlinewidth": 0,
              "ticks": ""
             }
            },
            "type": "scatter3d"
           }
          ],
          "scattercarpet": [
           {
            "marker": {
             "colorbar": {
              "outlinewidth": 0,
              "ticks": ""
             }
            },
            "type": "scattercarpet"
           }
          ],
          "scattergeo": [
           {
            "marker": {
             "colorbar": {
              "outlinewidth": 0,
              "ticks": ""
             }
            },
            "type": "scattergeo"
           }
          ],
          "scattergl": [
           {
            "marker": {
             "colorbar": {
              "outlinewidth": 0,
              "ticks": ""
             }
            },
            "type": "scattergl"
           }
          ],
          "scattermapbox": [
           {
            "marker": {
             "colorbar": {
              "outlinewidth": 0,
              "ticks": ""
             }
            },
            "type": "scattermapbox"
           }
          ],
          "scatterpolar": [
           {
            "marker": {
             "colorbar": {
              "outlinewidth": 0,
              "ticks": ""
             }
            },
            "type": "scatterpolar"
           }
          ],
          "scatterpolargl": [
           {
            "marker": {
             "colorbar": {
              "outlinewidth": 0,
              "ticks": ""
             }
            },
            "type": "scatterpolargl"
           }
          ],
          "scatterternary": [
           {
            "marker": {
             "colorbar": {
              "outlinewidth": 0,
              "ticks": ""
             }
            },
            "type": "scatterternary"
           }
          ],
          "surface": [
           {
            "colorbar": {
             "outlinewidth": 0,
             "ticks": ""
            },
            "colorscale": [
             [
              0,
              "#0d0887"
             ],
             [
              0.1111111111111111,
              "#46039f"
             ],
             [
              0.2222222222222222,
              "#7201a8"
             ],
             [
              0.3333333333333333,
              "#9c179e"
             ],
             [
              0.4444444444444444,
              "#bd3786"
             ],
             [
              0.5555555555555556,
              "#d8576b"
             ],
             [
              0.6666666666666666,
              "#ed7953"
             ],
             [
              0.7777777777777778,
              "#fb9f3a"
             ],
             [
              0.8888888888888888,
              "#fdca26"
             ],
             [
              1,
              "#f0f921"
             ]
            ],
            "type": "surface"
           }
          ],
          "table": [
           {
            "cells": {
             "fill": {
              "color": "#EBF0F8"
             },
             "line": {
              "color": "white"
             }
            },
            "header": {
             "fill": {
              "color": "#C8D4E3"
             },
             "line": {
              "color": "white"
             }
            },
            "type": "table"
           }
          ]
         },
         "layout": {
          "annotationdefaults": {
           "arrowcolor": "#2a3f5f",
           "arrowhead": 0,
           "arrowwidth": 1
          },
          "autotypenumbers": "strict",
          "coloraxis": {
           "colorbar": {
            "outlinewidth": 0,
            "ticks": ""
           }
          },
          "colorscale": {
           "diverging": [
            [
             0,
             "#8e0152"
            ],
            [
             0.1,
             "#c51b7d"
            ],
            [
             0.2,
             "#de77ae"
            ],
            [
             0.3,
             "#f1b6da"
            ],
            [
             0.4,
             "#fde0ef"
            ],
            [
             0.5,
             "#f7f7f7"
            ],
            [
             0.6,
             "#e6f5d0"
            ],
            [
             0.7,
             "#b8e186"
            ],
            [
             0.8,
             "#7fbc41"
            ],
            [
             0.9,
             "#4d9221"
            ],
            [
             1,
             "#276419"
            ]
           ],
           "sequential": [
            [
             0,
             "#0d0887"
            ],
            [
             0.1111111111111111,
             "#46039f"
            ],
            [
             0.2222222222222222,
             "#7201a8"
            ],
            [
             0.3333333333333333,
             "#9c179e"
            ],
            [
             0.4444444444444444,
             "#bd3786"
            ],
            [
             0.5555555555555556,
             "#d8576b"
            ],
            [
             0.6666666666666666,
             "#ed7953"
            ],
            [
             0.7777777777777778,
             "#fb9f3a"
            ],
            [
             0.8888888888888888,
             "#fdca26"
            ],
            [
             1,
             "#f0f921"
            ]
           ],
           "sequentialminus": [
            [
             0,
             "#0d0887"
            ],
            [
             0.1111111111111111,
             "#46039f"
            ],
            [
             0.2222222222222222,
             "#7201a8"
            ],
            [
             0.3333333333333333,
             "#9c179e"
            ],
            [
             0.4444444444444444,
             "#bd3786"
            ],
            [
             0.5555555555555556,
             "#d8576b"
            ],
            [
             0.6666666666666666,
             "#ed7953"
            ],
            [
             0.7777777777777778,
             "#fb9f3a"
            ],
            [
             0.8888888888888888,
             "#fdca26"
            ],
            [
             1,
             "#f0f921"
            ]
           ]
          },
          "colorway": [
           "#636efa",
           "#EF553B",
           "#00cc96",
           "#ab63fa",
           "#FFA15A",
           "#19d3f3",
           "#FF6692",
           "#B6E880",
           "#FF97FF",
           "#FECB52"
          ],
          "font": {
           "color": "#2a3f5f"
          },
          "geo": {
           "bgcolor": "white",
           "lakecolor": "white",
           "landcolor": "#E5ECF6",
           "showlakes": true,
           "showland": true,
           "subunitcolor": "white"
          },
          "hoverlabel": {
           "align": "left"
          },
          "hovermode": "closest",
          "mapbox": {
           "style": "light"
          },
          "paper_bgcolor": "white",
          "plot_bgcolor": "#E5ECF6",
          "polar": {
           "angularaxis": {
            "gridcolor": "white",
            "linecolor": "white",
            "ticks": ""
           },
           "bgcolor": "#E5ECF6",
           "radialaxis": {
            "gridcolor": "white",
            "linecolor": "white",
            "ticks": ""
           }
          },
          "scene": {
           "xaxis": {
            "backgroundcolor": "#E5ECF6",
            "gridcolor": "white",
            "gridwidth": 2,
            "linecolor": "white",
            "showbackground": true,
            "ticks": "",
            "zerolinecolor": "white"
           },
           "yaxis": {
            "backgroundcolor": "#E5ECF6",
            "gridcolor": "white",
            "gridwidth": 2,
            "linecolor": "white",
            "showbackground": true,
            "ticks": "",
            "zerolinecolor": "white"
           },
           "zaxis": {
            "backgroundcolor": "#E5ECF6",
            "gridcolor": "white",
            "gridwidth": 2,
            "linecolor": "white",
            "showbackground": true,
            "ticks": "",
            "zerolinecolor": "white"
           }
          },
          "shapedefaults": {
           "line": {
            "color": "#2a3f5f"
           }
          },
          "ternary": {
           "aaxis": {
            "gridcolor": "white",
            "linecolor": "white",
            "ticks": ""
           },
           "baxis": {
            "gridcolor": "white",
            "linecolor": "white",
            "ticks": ""
           },
           "bgcolor": "#E5ECF6",
           "caxis": {
            "gridcolor": "white",
            "linecolor": "white",
            "ticks": ""
           }
          },
          "title": {
           "x": 0.05
          },
          "xaxis": {
           "automargin": true,
           "gridcolor": "white",
           "linecolor": "white",
           "ticks": "",
           "title": {
            "standoff": 15
           },
           "zerolinecolor": "white",
           "zerolinewidth": 2
          },
          "yaxis": {
           "automargin": true,
           "gridcolor": "white",
           "linecolor": "white",
           "ticks": "",
           "title": {
            "standoff": 15
           },
           "zerolinecolor": "white",
           "zerolinewidth": 2
          }
         }
        }
       }
      }
     },
     "metadata": {},
     "output_type": "display_data"
    }
   ],
   "source": [
    "filtering_utils.draw_pie(tracks, 'genre')"
   ]
  },
  {
   "cell_type": "code",
   "execution_count": 31,
   "metadata": {},
   "outputs": [],
   "source": [
    "\"\"\"\n",
    "maybe without experimental:\n",
    "    'Avant-Garde', 'Novelty', 'Sound Effects', 'Audio Collage',\n",
    "    'Field Recordings', 'Noise', 'Experimental', 'Electroacoustic',\n",
    "    'Drone', 'Unclassifiable', 'Sound Poetry', 'Sound Collage',\n",
    "    'Musique Concrete', 'Improv', 'Kid-Friendly', 'Minimalism',\n",
    "    'Sound Art', 'Holiday', 'Christmas'\n",
    "\"\"\"\n",
    "tracks.to_csv(os.path.join(filtering_utils.DS_PATH, 'tracks_filtered.csv'))"
   ]
  },
  {
   "cell_type": "code",
   "execution_count": 32,
   "metadata": {},
   "outputs": [
    {
     "data": {
      "text/plain": [
       "349160"
      ]
     },
     "execution_count": 32,
     "metadata": {},
     "output_type": "execute_result"
    }
   ],
   "source": [
    "genres['#tracks'].sum()\n",
    "# more tracks for genres than tracks in tracks.csv"
   ]
  },
  {
   "cell_type": "code",
   "execution_count": 33,
   "metadata": {},
   "outputs": [
    {
     "data": {
      "text/html": [
       "<div>\n",
       "<style scoped>\n",
       "    .dataframe tbody tr th:only-of-type {\n",
       "        vertical-align: middle;\n",
       "    }\n",
       "\n",
       "    .dataframe tbody tr th {\n",
       "        vertical-align: top;\n",
       "    }\n",
       "\n",
       "    .dataframe thead th {\n",
       "        text-align: right;\n",
       "    }\n",
       "</style>\n",
       "<table border=\"1\" class=\"dataframe\">\n",
       "  <thead>\n",
       "    <tr style=\"text-align: right;\">\n",
       "      <th></th>\n",
       "      <th>Chip Music</th>\n",
       "      <th>Electronic</th>\n",
       "      <th>Experimental</th>\n",
       "      <th>Folk</th>\n",
       "      <th>Garage</th>\n",
       "      <th>Hip-Hop</th>\n",
       "      <th>Indie-Rock</th>\n",
       "      <th>Instrumental</th>\n",
       "      <th>International</th>\n",
       "      <th>Pop</th>\n",
       "      <th>Punk</th>\n",
       "      <th>Rock</th>\n",
       "    </tr>\n",
       "    <tr>\n",
       "      <th>track_id</th>\n",
       "      <th></th>\n",
       "      <th></th>\n",
       "      <th></th>\n",
       "      <th></th>\n",
       "      <th></th>\n",
       "      <th></th>\n",
       "      <th></th>\n",
       "      <th></th>\n",
       "      <th></th>\n",
       "      <th></th>\n",
       "      <th></th>\n",
       "      <th></th>\n",
       "    </tr>\n",
       "  </thead>\n",
       "  <tbody>\n",
       "    <tr>\n",
       "      <th>2</th>\n",
       "      <td>0</td>\n",
       "      <td>0</td>\n",
       "      <td>0</td>\n",
       "      <td>0</td>\n",
       "      <td>0</td>\n",
       "      <td>1</td>\n",
       "      <td>0</td>\n",
       "      <td>0</td>\n",
       "      <td>0</td>\n",
       "      <td>0</td>\n",
       "      <td>0</td>\n",
       "      <td>0</td>\n",
       "    </tr>\n",
       "    <tr>\n",
       "      <th>3</th>\n",
       "      <td>0</td>\n",
       "      <td>0</td>\n",
       "      <td>0</td>\n",
       "      <td>0</td>\n",
       "      <td>0</td>\n",
       "      <td>1</td>\n",
       "      <td>0</td>\n",
       "      <td>0</td>\n",
       "      <td>0</td>\n",
       "      <td>0</td>\n",
       "      <td>0</td>\n",
       "      <td>0</td>\n",
       "    </tr>\n",
       "    <tr>\n",
       "      <th>5</th>\n",
       "      <td>0</td>\n",
       "      <td>0</td>\n",
       "      <td>0</td>\n",
       "      <td>0</td>\n",
       "      <td>0</td>\n",
       "      <td>1</td>\n",
       "      <td>0</td>\n",
       "      <td>0</td>\n",
       "      <td>0</td>\n",
       "      <td>0</td>\n",
       "      <td>0</td>\n",
       "      <td>0</td>\n",
       "    </tr>\n",
       "    <tr>\n",
       "      <th>10</th>\n",
       "      <td>0</td>\n",
       "      <td>0</td>\n",
       "      <td>0</td>\n",
       "      <td>0</td>\n",
       "      <td>0</td>\n",
       "      <td>0</td>\n",
       "      <td>0</td>\n",
       "      <td>0</td>\n",
       "      <td>0</td>\n",
       "      <td>1</td>\n",
       "      <td>0</td>\n",
       "      <td>0</td>\n",
       "    </tr>\n",
       "    <tr>\n",
       "      <th>134</th>\n",
       "      <td>0</td>\n",
       "      <td>0</td>\n",
       "      <td>0</td>\n",
       "      <td>0</td>\n",
       "      <td>0</td>\n",
       "      <td>1</td>\n",
       "      <td>0</td>\n",
       "      <td>0</td>\n",
       "      <td>0</td>\n",
       "      <td>0</td>\n",
       "      <td>0</td>\n",
       "      <td>0</td>\n",
       "    </tr>\n",
       "  </tbody>\n",
       "</table>\n",
       "</div>"
      ],
      "text/plain": [
       "          Chip Music  Electronic  Experimental  Folk  Garage  Hip-Hop  \\\n",
       "track_id                                                                \n",
       "2                  0           0             0     0       0        1   \n",
       "3                  0           0             0     0       0        1   \n",
       "5                  0           0             0     0       0        1   \n",
       "10                 0           0             0     0       0        0   \n",
       "134                0           0             0     0       0        1   \n",
       "\n",
       "          Indie-Rock  Instrumental  International  Pop  Punk  Rock  \n",
       "track_id                                                            \n",
       "2                  0             0              0    0     0     0  \n",
       "3                  0             0              0    0     0     0  \n",
       "5                  0             0              0    0     0     0  \n",
       "10                 0             0              0    1     0     0  \n",
       "134                0             0              0    0     0     0  "
      ]
     },
     "execution_count": 33,
     "metadata": {},
     "output_type": "execute_result"
    }
   ],
   "source": [
    "genre_dummies = pd.get_dummies(tracks['genre'])\n",
    "genre_dummies.head()"
   ]
  },
  {
   "cell_type": "code",
   "execution_count": 34,
   "metadata": {},
   "outputs": [
    {
     "data": {
      "text/html": [
       "<div>\n",
       "<style scoped>\n",
       "    .dataframe tbody tr th:only-of-type {\n",
       "        vertical-align: middle;\n",
       "    }\n",
       "\n",
       "    .dataframe tbody tr th {\n",
       "        vertical-align: top;\n",
       "    }\n",
       "\n",
       "    .dataframe thead th {\n",
       "        text-align: right;\n",
       "    }\n",
       "</style>\n",
       "<table border=\"1\" class=\"dataframe\">\n",
       "  <thead>\n",
       "    <tr style=\"text-align: right;\">\n",
       "      <th></th>\n",
       "      <th>Chip Music</th>\n",
       "      <th>Electronic</th>\n",
       "      <th>Experimental</th>\n",
       "      <th>Folk</th>\n",
       "      <th>Garage</th>\n",
       "      <th>Hip-Hop</th>\n",
       "      <th>Indie-Rock</th>\n",
       "      <th>Instrumental</th>\n",
       "      <th>International</th>\n",
       "      <th>Pop</th>\n",
       "      <th>Punk</th>\n",
       "      <th>Rock</th>\n",
       "    </tr>\n",
       "    <tr>\n",
       "      <th>track_id</th>\n",
       "      <th></th>\n",
       "      <th></th>\n",
       "      <th></th>\n",
       "      <th></th>\n",
       "      <th></th>\n",
       "      <th></th>\n",
       "      <th></th>\n",
       "      <th></th>\n",
       "      <th></th>\n",
       "      <th></th>\n",
       "      <th></th>\n",
       "      <th></th>\n",
       "    </tr>\n",
       "  </thead>\n",
       "  <tbody>\n",
       "    <tr>\n",
       "      <th>103790</th>\n",
       "      <td>0</td>\n",
       "      <td>0</td>\n",
       "      <td>0</td>\n",
       "      <td>0</td>\n",
       "      <td>0</td>\n",
       "      <td>1</td>\n",
       "      <td>0</td>\n",
       "      <td>0</td>\n",
       "      <td>0</td>\n",
       "      <td>0</td>\n",
       "      <td>0</td>\n",
       "      <td>0</td>\n",
       "    </tr>\n",
       "  </tbody>\n",
       "</table>\n",
       "</div>"
      ],
      "text/plain": [
       "          Chip Music  Electronic  Experimental  Folk  Garage  Hip-Hop  \\\n",
       "track_id                                                                \n",
       "103790             0           0             0     0       0        1   \n",
       "\n",
       "          Indie-Rock  Instrumental  International  Pop  Punk  Rock  \n",
       "track_id                                                            \n",
       "103790             0             0              0    0     0     0  "
      ]
     },
     "execution_count": 34,
     "metadata": {},
     "output_type": "execute_result"
    }
   ],
   "source": [
    "tracks_genre_dummies = pd.merge(\n",
    "    tracks.drop('genre', axis=1), genre_dummies,\n",
    "    right_index=True, left_index=True)\n",
    "tracks_genre_dummies.sample()"
   ]
  },
  {
   "cell_type": "code",
   "execution_count": 35,
   "metadata": {},
   "outputs": [
    {
     "name": "stdout",
     "output_type": "stream",
     "text": [
      "(22942, 12)\n"
     ]
    },
    {
     "data": {
      "text/plain": [
       "(22942, 12)"
      ]
     },
     "execution_count": 35,
     "metadata": {},
     "output_type": "execute_result"
    }
   ],
   "source": [
    "print(tracks_genre_dummies.shape)\n",
    "tracks_genre_dummies = tracks_genre_dummies[(tracks_genre_dummies.T != 0).any()]\n",
    "tracks_genre_dummies.shape"
   ]
  },
  {
   "cell_type": "code",
   "execution_count": 36,
   "metadata": {},
   "outputs": [],
   "source": [
    "tracks_genre_dummies.to_csv(os.path.join(filtering_utils.DS_PATH, 'tracks_filtered_dummies.csv'))"
   ]
  },
  {
   "cell_type": "code",
   "execution_count": null,
   "metadata": {},
   "outputs": [],
   "source": []
  }
 ],
 "metadata": {
  "kernelspec": {
   "display_name": "kafka-ml",
   "language": "python",
   "name": "python3"
  },
  "language_info": {
   "codemirror_mode": {
    "name": "ipython",
    "version": 3
   },
   "file_extension": ".py",
   "mimetype": "text/x-python",
   "name": "python",
   "nbconvert_exporter": "python",
   "pygments_lexer": "ipython3",
   "version": "3.10.6"
  },
  "orig_nbformat": 4
 },
 "nbformat": 4,
 "nbformat_minor": 2
}
