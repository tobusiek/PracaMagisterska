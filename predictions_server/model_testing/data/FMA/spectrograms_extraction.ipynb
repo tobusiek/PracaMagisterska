{
 "cells": [
  {
   "cell_type": "code",
   "execution_count": 1,
   "metadata": {},
   "outputs": [],
   "source": [
    "import os\n",
    "\n",
    "import numpy as np\n",
    "import pandas as pd\n",
    "\n",
    "from utils import DS_PATH\n",
    "\n",
    "%matplotlib inline\n",
    "\n",
    "pd.options.display.max_rows = None\n",
    "pd.options.display.max_columns = None\n",
    "pd.options.display.max_colwidth = None"
   ]
  },
  {
   "cell_type": "code",
   "execution_count": 2,
   "metadata": {},
   "outputs": [
    {
     "data": {
      "text/html": [
       "<div>\n",
       "<style scoped>\n",
       "    .dataframe tbody tr th:only-of-type {\n",
       "        vertical-align: middle;\n",
       "    }\n",
       "\n",
       "    .dataframe tbody tr th {\n",
       "        vertical-align: top;\n",
       "    }\n",
       "\n",
       "    .dataframe thead th {\n",
       "        text-align: right;\n",
       "    }\n",
       "</style>\n",
       "<table border=\"1\" class=\"dataframe\">\n",
       "  <thead>\n",
       "    <tr style=\"text-align: right;\">\n",
       "      <th></th>\n",
       "      <th>track_id</th>\n",
       "      <th>split</th>\n",
       "      <th>genre</th>\n",
       "    </tr>\n",
       "  </thead>\n",
       "  <tbody>\n",
       "    <tr>\n",
       "      <th>0</th>\n",
       "      <td>2</td>\n",
       "      <td>training</td>\n",
       "      <td>Hip-Hop</td>\n",
       "    </tr>\n",
       "    <tr>\n",
       "      <th>1</th>\n",
       "      <td>5</td>\n",
       "      <td>training</td>\n",
       "      <td>Hip-Hop</td>\n",
       "    </tr>\n",
       "    <tr>\n",
       "      <th>2</th>\n",
       "      <td>10</td>\n",
       "      <td>training</td>\n",
       "      <td>Pop</td>\n",
       "    </tr>\n",
       "    <tr>\n",
       "      <th>3</th>\n",
       "      <td>140</td>\n",
       "      <td>training</td>\n",
       "      <td>Folk</td>\n",
       "    </tr>\n",
       "    <tr>\n",
       "      <th>4</th>\n",
       "      <td>141</td>\n",
       "      <td>training</td>\n",
       "      <td>Folk</td>\n",
       "    </tr>\n",
       "    <tr>\n",
       "      <th>5</th>\n",
       "      <td>148</td>\n",
       "      <td>validation</td>\n",
       "      <td>Experimental</td>\n",
       "    </tr>\n",
       "    <tr>\n",
       "      <th>6</th>\n",
       "      <td>182</td>\n",
       "      <td>test</td>\n",
       "      <td>Rock</td>\n",
       "    </tr>\n",
       "    <tr>\n",
       "      <th>7</th>\n",
       "      <td>190</td>\n",
       "      <td>training</td>\n",
       "      <td>Folk</td>\n",
       "    </tr>\n",
       "    <tr>\n",
       "      <th>8</th>\n",
       "      <td>193</td>\n",
       "      <td>training</td>\n",
       "      <td>Folk</td>\n",
       "    </tr>\n",
       "    <tr>\n",
       "      <th>9</th>\n",
       "      <td>194</td>\n",
       "      <td>training</td>\n",
       "      <td>Folk</td>\n",
       "    </tr>\n",
       "  </tbody>\n",
       "</table>\n",
       "</div>"
      ],
      "text/plain": [
       "   track_id       split         genre\n",
       "0         2    training       Hip-Hop\n",
       "1         5    training       Hip-Hop\n",
       "2        10    training           Pop\n",
       "3       140    training          Folk\n",
       "4       141    training          Folk\n",
       "5       148  validation  Experimental\n",
       "6       182        test          Rock\n",
       "7       190    training          Folk\n",
       "8       193    training          Folk\n",
       "9       194    training          Folk"
      ]
     },
     "execution_count": 2,
     "metadata": {},
     "output_type": "execute_result"
    }
   ],
   "source": [
    "TRACKS_PATH = os.path.join(DS_PATH, 'tracks_filtered_small.csv')\n",
    "tracks = pd.read_csv(TRACKS_PATH)\n",
    "tracks.head(10)"
   ]
  },
  {
   "cell_type": "code",
   "execution_count": 3,
   "metadata": {},
   "outputs": [
    {
     "data": {
      "text/plain": [
       "[255,\n",
       " 704,\n",
       " 2,\n",
       " 5,\n",
       " 10,\n",
       " 140,\n",
       " 141,\n",
       " 148,\n",
       " 182,\n",
       " 190,\n",
       " 193,\n",
       " 194,\n",
       " 197,\n",
       " 200,\n",
       " 203,\n",
       " 204,\n",
       " 207,\n",
       " 210,\n",
       " 211,\n",
       " 212,\n",
       " 213,\n",
       " 256,\n",
       " 368,\n",
       " 424,\n",
       " 459,\n",
       " 534,\n",
       " 540,\n",
       " 546,\n",
       " 574,\n",
       " 602,\n",
       " 615,\n",
       " 620,\n",
       " 621,\n",
       " 625,\n",
       " 666,\n",
       " 667,\n",
       " 676,\n",
       " 690,\n",
       " 694,\n",
       " 695,\n",
       " 705,\n",
       " 706,\n",
       " 707,\n",
       " 708,\n",
       " 709,\n",
       " 714,\n",
       " 715,\n",
       " 716,\n",
       " 718,\n",
       " 777,\n",
       " 814,\n",
       " 821,\n",
       " 822,\n",
       " 825,\n",
       " 853,\n",
       " 890,\n",
       " 892,\n",
       " 897,\n",
       " 993,\n",
       " 995,\n",
       " 997,\n",
       " 998,\n",
       " 1278,\n",
       " 1686,\n",
       " 1039,\n",
       " 1040,\n",
       " 1066,\n",
       " 1069,\n",
       " 1073,\n",
       " 1075,\n",
       " 1082,\n",
       " 1083,\n",
       " 1087,\n",
       " 1102,\n",
       " 1193,\n",
       " 1195,\n",
       " 1196,\n",
       " 1197,\n",
       " 1249,\n",
       " 1259,\n",
       " 1270,\n",
       " 1276,\n",
       " 1277,\n",
       " 1417,\n",
       " 1427,\n",
       " 1443,\n",
       " 1482,\n",
       " 1510,\n",
       " 1544,\n",
       " 1642,\n",
       " 1644,\n",
       " 1649,\n",
       " 1661,\n",
       " 1663,\n",
       " 1666,\n",
       " 1673,\n",
       " 1680,\n",
       " 1681,\n",
       " 1682,\n",
       " 1683,\n",
       " 1684,\n",
       " 1685,\n",
       " 1687,\n",
       " 1688,\n",
       " 1689,\n",
       " 1701,\n",
       " 1702,\n",
       " 1703,\n",
       " 1704,\n",
       " 1706,\n",
       " 1720,\n",
       " 1732,\n",
       " 1733,\n",
       " 1735,\n",
       " 1736,\n",
       " 1883,\n",
       " 1891,\n",
       " 1893,\n",
       " 1924,\n",
       " 1925,\n",
       " 1929,\n",
       " 1930,\n",
       " 2012,\n",
       " 2096,\n",
       " 2097,\n",
       " 2099,\n",
       " 3707,\n",
       " 3263,\n",
       " 3264,\n",
       " 3265,\n",
       " 3266,\n",
       " 3270,\n",
       " 3271,\n",
       " 3272,\n",
       " 3273,\n",
       " 3274,\n",
       " 3492,\n",
       " 3532,\n",
       " 3533,\n",
       " 3534,\n",
       " 3535,\n",
       " 3537,\n",
       " 3538,\n",
       " 3573,\n",
       " 3598,\n",
       " 3624,\n",
       " 3708,\n",
       " 3720,\n",
       " 3721,\n",
       " 3722,\n",
       " 3724,\n",
       " 3725,\n",
       " 3761,\n",
       " 3762,\n",
       " 3763,\n",
       " 3765,\n",
       " 3766,\n",
       " 3775,\n",
       " 3776,\n",
       " 3777,\n",
       " 3778,\n",
       " 3779,\n",
       " 3832,\n",
       " 3833,\n",
       " 3840,\n",
       " 3880,\n",
       " 3895,\n",
       " 3896,\n",
       " 3904,\n",
       " 3905,\n",
       " 3906,\n",
       " 3908,\n",
       " 3909,\n",
       " 3910,\n",
       " 3911,\n",
       " 3912,\n",
       " 3913,\n",
       " 3920,\n",
       " 3921,\n",
       " 3950,\n",
       " 4091,\n",
       " 4450,\n",
       " 4013,\n",
       " 4017,\n",
       " 4022,\n",
       " 4037,\n",
       " 4066,\n",
       " 4067,\n",
       " 4068,\n",
       " 4069,\n",
       " 4070,\n",
       " 4071,\n",
       " 4072,\n",
       " 4073,\n",
       " 4074,\n",
       " 4075,\n",
       " 4076,\n",
       " 4077,\n",
       " 4078,\n",
       " 4079,\n",
       " 4080,\n",
       " 4092,\n",
       " 4093,\n",
       " 4094,\n",
       " 4095,\n",
       " 4096,\n",
       " 4097,\n",
       " 4098,\n",
       " 4099,\n",
       " 4100,\n",
       " 4101,\n",
       " 4102,\n",
       " 4103,\n",
       " 4108,\n",
       " 4232,\n",
       " 4233,\n",
       " 4234,\n",
       " 4235,\n",
       " 4236,\n",
       " 4239,\n",
       " 4507,\n",
       " 4508,\n",
       " 4509,\n",
       " 4510,\n",
       " 4511,\n",
       " 4519,\n",
       " 4520,\n",
       " 4521,\n",
       " 4522,\n",
       " 4682,\n",
       " 4684,\n",
       " 4685,\n",
       " 4688,\n",
       " 4777,\n",
       " 4778,\n",
       " 4779,\n",
       " 4780,\n",
       " 4781,\n",
       " 4782,\n",
       " 4784,\n",
       " 4785,\n",
       " 4786,\n",
       " 4787,\n",
       " 4788,\n",
       " 4799,\n",
       " 4835,\n",
       " 4836,\n",
       " 4838,\n",
       " 4846,\n",
       " 4848,\n",
       " 4849,\n",
       " 5006,\n",
       " 5156,\n",
       " 5157,\n",
       " 5158,\n",
       " 5159,\n",
       " 5169,\n",
       " 5170,\n",
       " 5171,\n",
       " 5191,\n",
       " 5264,\n",
       " 5268,\n",
       " 5376,\n",
       " 5381,\n",
       " 5521,\n",
       " 5879,\n",
       " 5936,\n",
       " 5940,\n",
       " 6380,\n",
       " 6463,\n",
       " 6329,\n",
       " 6330,\n",
       " 6331,\n",
       " 6332,\n",
       " 6333,\n",
       " 6342,\n",
       " 6354,\n",
       " 6357,\n",
       " 6358,\n",
       " 6360,\n",
       " 6363,\n",
       " 6366,\n",
       " 6367,\n",
       " 6368,\n",
       " 6370,\n",
       " 6372,\n",
       " 6373,\n",
       " 6376,\n",
       " 6379,\n",
       " 6381,\n",
       " 6382,\n",
       " 6383,\n",
       " 6385,\n",
       " 6387,\n",
       " 6389,\n",
       " 6390,\n",
       " 6393,\n",
       " 6394,\n",
       " 6396,\n",
       " 6406,\n",
       " 6407,\n",
       " 6439,\n",
       " 6440,\n",
       " 6442,\n",
       " 6443,\n",
       " 6448,\n",
       " 6459,\n",
       " 6461,\n",
       " 6467,\n",
       " 6469,\n",
       " 6517,\n",
       " 6519,\n",
       " 6603,\n",
       " 6605,\n",
       " 6606,\n",
       " 6607,\n",
       " 6608,\n",
       " 6609,\n",
       " 6610,\n",
       " 6611,\n",
       " 6674,\n",
       " 6675,\n",
       " 6677,\n",
       " 6679,\n",
       " 6680,\n",
       " 6684,\n",
       " 6762,\n",
       " 6776,\n",
       " 6778,\n",
       " 6779,\n",
       " 6782,\n",
       " 6783,\n",
       " 6788,\n",
       " 6802,\n",
       " 6803,\n",
       " 6854,\n",
       " 6855,\n",
       " 6856,\n",
       " 6857,\n",
       " 7011,\n",
       " 7373,\n",
       " 7374,\n",
       " 7375,\n",
       " 7376,\n",
       " 7377,\n",
       " 7378,\n",
       " 7379,\n",
       " 7381,\n",
       " 7383,\n",
       " 7385,\n",
       " 7386,\n",
       " 7388,\n",
       " 7391,\n",
       " 7393,\n",
       " 7481,\n",
       " 7482,\n",
       " 7483,\n",
       " 7487,\n",
       " 7488,\n",
       " 7489,\n",
       " 7490,\n",
       " 7491,\n",
       " 7492,\n",
       " 7495,\n",
       " 7526,\n",
       " 7527,\n",
       " 7528,\n",
       " 7529,\n",
       " 7548,\n",
       " 7554,\n",
       " 7709,\n",
       " 7710,\n",
       " 7711,\n",
       " 7712,\n",
       " 7713,\n",
       " 7872,\n",
       " 8056,\n",
       " 8208,\n",
       " 8256,\n",
       " 8259,\n",
       " 8261,\n",
       " 8345,\n",
       " 8357,\n",
       " 8363,\n",
       " 8372,\n",
       " 8416,\n",
       " 9152,\n",
       " 9155,\n",
       " 9307,\n",
       " 9476,\n",
       " 9477,\n",
       " 9491,\n",
       " 9505,\n",
       " 9511,\n",
       " 9512,\n",
       " 9513,\n",
       " 9550,\n",
       " 9553,\n",
       " 9555,\n",
       " 9557,\n",
       " 9559,\n",
       " 9560,\n",
       " 9678,\n",
       " 9721,\n",
       " 9846,\n",
       " 9887,\n",
       " 9888,\n",
       " 9918,\n",
       " 9962,\n",
       " 10440,\n",
       " 10672,\n",
       " 10186,\n",
       " 10192,\n",
       " 10250,\n",
       " 10374,\n",
       " 10375,\n",
       " 10376,\n",
       " 10377,\n",
       " 10381,\n",
       " 10382,\n",
       " 10383,\n",
       " 10384,\n",
       " 10385,\n",
       " 10386,\n",
       " 10387,\n",
       " 10388,\n",
       " 10389,\n",
       " 10435,\n",
       " 10438,\n",
       " 10439,\n",
       " 10441,\n",
       " 10442,\n",
       " 10443,\n",
       " 10444,\n",
       " 10447,\n",
       " 10458,\n",
       " 10480,\n",
       " 10481,\n",
       " 10485,\n",
       " 10521,\n",
       " 10527,\n",
       " 10535,\n",
       " 10541,\n",
       " 10575,\n",
       " 10577,\n",
       " 10668,\n",
       " 10669,\n",
       " 10670,\n",
       " 10671,\n",
       " 10673,\n",
       " 10674,\n",
       " 10675,\n",
       " 10676,\n",
       " 10677,\n",
       " 10678,\n",
       " 10679,\n",
       " 10682,\n",
       " 10684,\n",
       " 10693,\n",
       " 10694,\n",
       " 10695,\n",
       " 10696,\n",
       " 10697,\n",
       " 10698,\n",
       " 10699,\n",
       " 10805,\n",
       " 10806,\n",
       " 10807,\n",
       " 10808,\n",
       " 10809,\n",
       " 10810,\n",
       " 10983,\n",
       " 10992,\n",
       " 10993,\n",
       " 11333,\n",
       " 11765,\n",
       " 11785,\n",
       " 11019,\n",
       " 11020,\n",
       " 11059,\n",
       " 11198,\n",
       " 11199,\n",
       " 11200,\n",
       " 11204,\n",
       " 11206,\n",
       " 11234,\n",
       " 11237,\n",
       " 11239,\n",
       " 11242,\n",
       " 11261,\n",
       " 11262,\n",
       " 11264,\n",
       " 11268,\n",
       " 11298,\n",
       " 11299,\n",
       " 11306,\n",
       " 11334,\n",
       " 11503,\n",
       " 11504,\n",
       " 11505,\n",
       " 11508,\n",
       " 11544,\n",
       " 11638,\n",
       " 11671,\n",
       " 11672,\n",
       " 11673,\n",
       " 11674,\n",
       " 11675,\n",
       " 11677,\n",
       " 11679,\n",
       " 11681,\n",
       " 11682,\n",
       " 11683,\n",
       " 11763,\n",
       " 11764,\n",
       " 11766,\n",
       " 11767,\n",
       " 11768,\n",
       " 11769,\n",
       " 11770,\n",
       " 11771,\n",
       " 11772,\n",
       " 11773,\n",
       " 11774,\n",
       " 11775,\n",
       " 11776,\n",
       " 11777,\n",
       " 11778,\n",
       " 11779,\n",
       " 11780,\n",
       " 11781,\n",
       " 11782,\n",
       " 11783,\n",
       " 11784,\n",
       " 11786,\n",
       " 11787,\n",
       " 11788,\n",
       " 11789,\n",
       " 11790,\n",
       " 11791,\n",
       " 11792,\n",
       " 11793,\n",
       " 11794,\n",
       " 11795,\n",
       " 11803,\n",
       " 11818,\n",
       " 11839,\n",
       " 11861,\n",
       " 11862,\n",
       " 11867,\n",
       " 11868,\n",
       " 11916,\n",
       " 11917,\n",
       " 11918,\n",
       " 11919,\n",
       " 11920,\n",
       " 11921,\n",
       " 11922,\n",
       " 11933,\n",
       " 11937,\n",
       " 11942,\n",
       " 11946,\n",
       " 11947,\n",
       " 11951,\n",
       " 12146,\n",
       " 12482,\n",
       " 12045,\n",
       " 12046,\n",
       " 12047,\n",
       " 12048,\n",
       " 12049,\n",
       " 12050,\n",
       " 12051,\n",
       " 12052,\n",
       " 12053,\n",
       " 12058,\n",
       " 12059,\n",
       " 12060,\n",
       " 12061,\n",
       " 12062,\n",
       " 12064,\n",
       " 12065,\n",
       " 12066,\n",
       " 12067,\n",
       " 12109,\n",
       " 12147,\n",
       " 12173,\n",
       " 12174,\n",
       " 12179,\n",
       " 12188,\n",
       " 12189,\n",
       " 12346,\n",
       " 12348,\n",
       " 12349,\n",
       " 12350,\n",
       " 12351,\n",
       " 12352,\n",
       " 12353,\n",
       " 12355,\n",
       " 12376,\n",
       " 12387,\n",
       " 12390,\n",
       " 12394,\n",
       " 12481,\n",
       " 12484,\n",
       " 12485,\n",
       " 12486,\n",
       " 12487,\n",
       " 12488,\n",
       " 12489,\n",
       " 12490,\n",
       " 12508,\n",
       " 12513,\n",
       " 12514,\n",
       " 12518,\n",
       " 12521,\n",
       " 12526,\n",
       " 12527,\n",
       " 12530,\n",
       " 12531,\n",
       " 12532,\n",
       " 12537,\n",
       " 12551,\n",
       " 12552,\n",
       " 12654,\n",
       " 12690,\n",
       " 12691,\n",
       " 12692,\n",
       " 12737,\n",
       " 12985,\n",
       " 12986,\n",
       " 13571,\n",
       " 13191,\n",
       " 13197,\n",
       " 13199,\n",
       " 13201,\n",
       " 13218,\n",
       " 13220,\n",
       " 13325,\n",
       " 13328,\n",
       " 13362,\n",
       " 13378,\n",
       " 13474,\n",
       " 13537,\n",
       " 13538,\n",
       " 13539,\n",
       " 13540,\n",
       " 13556,\n",
       " 13561,\n",
       " 13562,\n",
       " 13566,\n",
       " 13578,\n",
       " 13591,\n",
       " 13596,\n",
       " 13666,\n",
       " 13668,\n",
       " 13670,\n",
       " 13706,\n",
       " 13707,\n",
       " 13708,\n",
       " 13709,\n",
       " 13710,\n",
       " 13711,\n",
       " 13735,\n",
       " 13747,\n",
       " 13748,\n",
       " 13749,\n",
       " 13767,\n",
       " 13768,\n",
       " 13804,\n",
       " 13927,\n",
       " 13928,\n",
       " 13929,\n",
       " 13930,\n",
       " 14569,\n",
       " 14604,\n",
       " 14063,\n",
       " 14208,\n",
       " 14315,\n",
       " 14316,\n",
       " 14317,\n",
       " 14318,\n",
       " 14319,\n",
       " 14320,\n",
       " 14344,\n",
       " 14358,\n",
       " 14363,\n",
       " 14365,\n",
       " 14386,\n",
       " 14391,\n",
       " 14538,\n",
       " 14539,\n",
       " 14541,\n",
       " 14542,\n",
       " 14568,\n",
       " 14570,\n",
       " 14571,\n",
       " 14572,\n",
       " 14576,\n",
       " 14577,\n",
       " 14578,\n",
       " 14579,\n",
       " 14580,\n",
       " 14581,\n",
       " 14583,\n",
       " 14584,\n",
       " 14585,\n",
       " 14586,\n",
       " 14588,\n",
       " 14589,\n",
       " 14590,\n",
       " 14601,\n",
       " 14602,\n",
       " 14603,\n",
       " 14653,\n",
       " 14661,\n",
       " 14663,\n",
       " 14684,\n",
       " 14690,\n",
       " 14693,\n",
       " 14733,\n",
       " 14734,\n",
       " 14735,\n",
       " 14736,\n",
       " 14737,\n",
       " 14738,\n",
       " 14739,\n",
       " 14740,\n",
       " 14741,\n",
       " 14742,\n",
       " 14743,\n",
       " 14744,\n",
       " 14745,\n",
       " 14809,\n",
       " 14869,\n",
       " 15094,\n",
       " 15210,\n",
       " 15464,\n",
       " 15469,\n",
       " 15471,\n",
       " 15475,\n",
       " 15476,\n",
       " 15487,\n",
       " 15488,\n",
       " 15540,\n",
       " 15541,\n",
       " 15542,\n",
       " 15543,\n",
       " 15625,\n",
       " 15769,\n",
       " 15770,\n",
       " 15771,\n",
       " 15772,\n",
       " 15773,\n",
       " 15880,\n",
       " 16095,\n",
       " 16155,\n",
       " 16158,\n",
       " 16162,\n",
       " 16163,\n",
       " 16334,\n",
       " 16337,\n",
       " 16338,\n",
       " 16339,\n",
       " 16340,\n",
       " 16354,\n",
       " 16743,\n",
       " 16744,\n",
       " 16745,\n",
       " 16747,\n",
       " 16819,\n",
       " 16820,\n",
       " 16821,\n",
       " 16822,\n",
       " 16878,\n",
       " 16879,\n",
       " 16880,\n",
       " 16895,\n",
       " 16994,\n",
       " 16995,\n",
       " 16997,\n",
       " 17132,\n",
       " 17344,\n",
       " 17345,\n",
       " 17462,\n",
       " 17491,\n",
       " 17496,\n",
       " 17499,\n",
       " 17500,\n",
       " 17573,\n",
       " 17588,\n",
       " 17605,\n",
       " 17606,\n",
       " 17607,\n",
       " 17608,\n",
       " 17609,\n",
       " 17610,\n",
       " 17611,\n",
       " 17631,\n",
       " 17632,\n",
       " 17633,\n",
       " 17634,\n",
       " 17635,\n",
       " 17636,\n",
       " 17637,\n",
       " 17644,\n",
       " 17735,\n",
       " 17782,\n",
       " 17884,\n",
       " 17906,\n",
       " 18031,\n",
       " 18032,\n",
       " 18033,\n",
       " 18034,\n",
       " 18037,\n",
       " 18038,\n",
       " 18039,\n",
       " 18043,\n",
       " 18044,\n",
       " 18112,\n",
       " 18124,\n",
       " 18144,\n",
       " 18145,\n",
       " 18146,\n",
       " 18159,\n",
       " 18197,\n",
       " 18350,\n",
       " 18607,\n",
       " 18611,\n",
       " 18876,\n",
       " 18877,\n",
       " 18887,\n",
       " 19073,\n",
       " 19074,\n",
       " 19179,\n",
       " 19184,\n",
       " 19187,\n",
       " 19192,\n",
       " 19412,\n",
       " 19413,\n",
       " 19415,\n",
       " 19416,\n",
       " 19417,\n",
       " 19418,\n",
       " 19420,\n",
       " 19422,\n",
       " 19423,\n",
       " 19425,\n",
       " 19438,\n",
       " 19439,\n",
       " 19441,\n",
       " 19442,\n",
       " 19459,\n",
       " 19673,\n",
       " 19674,\n",
       " 19685,\n",
       " 19689,\n",
       " 19707,\n",
       " 19708,\n",
       " 19729,\n",
       " 19758,\n",
       " 19759,\n",
       " 19760,\n",
       " 19889,\n",
       " 19890,\n",
       " 19891,\n",
       " 20050,\n",
       " 20296,\n",
       " 20361,\n",
       " 20362,\n",
       " 20364,\n",
       " 20365,\n",
       " 20366,\n",
       " 20369,\n",
       " 20372,\n",
       " 20373,\n",
       " 20374,\n",
       " 20375,\n",
       " 20376,\n",
       " 20424,\n",
       " 20432,\n",
       " 20469,\n",
       " 20667,\n",
       " 20704,\n",
       " 20818,\n",
       " 21058,\n",
       " 21085,\n",
       " 21087,\n",
       " 21167,\n",
       " 21228,\n",
       " 21231,\n",
       " 21232,\n",
       " 21400,\n",
       " 21401,\n",
       " 21402,\n",
       " 21403,\n",
       " 21404,\n",
       " 21409,\n",
       " 21422,\n",
       " 21565,\n",
       " 21587,\n",
       " 21657,\n",
       " 21672,\n",
       " 21676,\n",
       " 21677,\n",
       " 21707,\n",
       " 21774,\n",
       " 21842,\n",
       " 21859,\n",
       " 21860,\n",
       " 21891,\n",
       " 21895,\n",
       " 21995,\n",
       " 21996,\n",
       " 21997,\n",
       " 21998,\n",
       " 21999,\n",
       " 23010,\n",
       " 23013,\n",
       " 23014,\n",
       " 23015,\n",
       " 23016,\n",
       " 23037,\n",
       " 23039,\n",
       " 23041,\n",
       " 23063,\n",
       " 23155,\n",
       " 23156,\n",
       " 23172,\n",
       " 23329,\n",
       " 23353,\n",
       " 23355,\n",
       " 23371,\n",
       " 23372,\n",
       " 23505,\n",
       " 23862,\n",
       " 24425,\n",
       " 24216,\n",
       " 24217,\n",
       " 24218,\n",
       " 24362,\n",
       " 24363,\n",
       " 24364,\n",
       " 24365,\n",
       " 24366,\n",
       " 24367,\n",
       " 24368,\n",
       " 24369,\n",
       " 24370,\n",
       " 24371,\n",
       " 24418,\n",
       " 24420,\n",
       " 24421,\n",
       " 24422,\n",
       " 24423,\n",
       " 24424,\n",
       " 24426,\n",
       " 24427,\n",
       " 24428,\n",
       " 24429,\n",
       " 24430,\n",
       " 24431,\n",
       " 24432,\n",
       " 24512,\n",
       " 24515,\n",
       " 24521,\n",
       " 24524,\n",
       " 24698,\n",
       " 24699,\n",
       " 24700,\n",
       " 24701,\n",
       " 24702,\n",
       " 24717,\n",
       " 24720,\n",
       " 24739,\n",
       " 24741,\n",
       " 24742,\n",
       " 24745,\n",
       " 24746,\n",
       " 24747,\n",
       " 24748,\n",
       " 24749,\n",
       " 24842,\n",
       " 24898,\n",
       " 24899,\n",
       " 24901,\n",
       " 24912,\n",
       " 24915,\n",
       " 24917,\n",
       " 24963,\n",
       " 24975,\n",
       " 24983,\n",
       " 25028,\n",
       " 25029,\n",
       " 25030,\n",
       " 25031,\n",
       " 25032,\n",
       " 25033,\n",
       " 25055,\n",
       " 25063,\n",
       " ...]"
      ]
     },
     "execution_count": 3,
     "metadata": {},
     "output_type": "execute_result"
    }
   ],
   "source": [
    "AUDIO_PATH = os.path.join(os.getcwd(), 'fma_small')\n",
    "\n",
    "viable_tracks_ids = []\n",
    "for dir_el in os.listdir(AUDIO_PATH):\n",
    "    if dir_el in ('checksums', 'README.txt'): continue\n",
    "    for track_filename in os.listdir(os.path.join(AUDIO_PATH, dir_el)):\n",
    "        while track_filename.startswith('0'):\n",
    "            track_filename = track_filename[1:]\n",
    "        viable_tracks_ids.append(int(track_filename.removesuffix('.mp3')))\n",
    "viable_tracks_ids"
   ]
  },
  {
   "cell_type": "code",
   "execution_count": 4,
   "metadata": {},
   "outputs": [],
   "source": [
    "tracks.set_index('track_id', inplace=True)"
   ]
  },
  {
   "cell_type": "code",
   "execution_count": 5,
   "metadata": {},
   "outputs": [
    {
     "name": "stdout",
     "output_type": "stream",
     "text": [
      "(8000, 2)\n"
     ]
    },
    {
     "data": {
      "text/plain": [
       "(8000, 2)"
      ]
     },
     "execution_count": 5,
     "metadata": {},
     "output_type": "execute_result"
    }
   ],
   "source": [
    "assert set(viable_tracks_ids).intersection(tracks.index) == set(tracks.index).intersection(viable_tracks_ids)\n",
    "viable_tracks_ids = list(set(viable_tracks_ids).intersection(tracks.index))\n",
    "print(tracks.shape)\n",
    "tracks = tracks.loc[viable_tracks_ids]\n",
    "tracks.shape"
   ]
  },
  {
   "cell_type": "code",
   "execution_count": 6,
   "metadata": {},
   "outputs": [
    {
     "data": {
      "text/html": [
       "<div>\n",
       "<style scoped>\n",
       "    .dataframe tbody tr th:only-of-type {\n",
       "        vertical-align: middle;\n",
       "    }\n",
       "\n",
       "    .dataframe tbody tr th {\n",
       "        vertical-align: top;\n",
       "    }\n",
       "\n",
       "    .dataframe thead th {\n",
       "        text-align: right;\n",
       "    }\n",
       "</style>\n",
       "<table border=\"1\" class=\"dataframe\">\n",
       "  <thead>\n",
       "    <tr style=\"text-align: right;\">\n",
       "      <th></th>\n",
       "      <th>split</th>\n",
       "      <th>genre</th>\n",
       "    </tr>\n",
       "    <tr>\n",
       "      <th>track_id</th>\n",
       "      <th></th>\n",
       "      <th></th>\n",
       "    </tr>\n",
       "  </thead>\n",
       "  <tbody>\n",
       "    <tr>\n",
       "      <th>2</th>\n",
       "      <td>training</td>\n",
       "      <td>Hip-Hop</td>\n",
       "    </tr>\n",
       "    <tr>\n",
       "      <th>5</th>\n",
       "      <td>training</td>\n",
       "      <td>Hip-Hop</td>\n",
       "    </tr>\n",
       "    <tr>\n",
       "      <th>10</th>\n",
       "      <td>training</td>\n",
       "      <td>Pop</td>\n",
       "    </tr>\n",
       "    <tr>\n",
       "      <th>32800</th>\n",
       "      <td>training</td>\n",
       "      <td>Folk</td>\n",
       "    </tr>\n",
       "    <tr>\n",
       "      <th>98339</th>\n",
       "      <td>training</td>\n",
       "      <td>International</td>\n",
       "    </tr>\n",
       "    <tr>\n",
       "      <th>98346</th>\n",
       "      <td>test</td>\n",
       "      <td>International</td>\n",
       "    </tr>\n",
       "    <tr>\n",
       "      <th>98348</th>\n",
       "      <td>test</td>\n",
       "      <td>International</td>\n",
       "    </tr>\n",
       "    <tr>\n",
       "      <th>98349</th>\n",
       "      <td>test</td>\n",
       "      <td>International</td>\n",
       "    </tr>\n",
       "    <tr>\n",
       "      <th>65619</th>\n",
       "      <td>training</td>\n",
       "      <td>Rock</td>\n",
       "    </tr>\n",
       "    <tr>\n",
       "      <th>131166</th>\n",
       "      <td>training</td>\n",
       "      <td>Rock</td>\n",
       "    </tr>\n",
       "  </tbody>\n",
       "</table>\n",
       "</div>"
      ],
      "text/plain": [
       "             split          genre\n",
       "track_id                         \n",
       "2         training        Hip-Hop\n",
       "5         training        Hip-Hop\n",
       "10        training            Pop\n",
       "32800     training           Folk\n",
       "98339     training  International\n",
       "98346         test  International\n",
       "98348         test  International\n",
       "98349         test  International\n",
       "65619     training           Rock\n",
       "131166    training           Rock"
      ]
     },
     "execution_count": 6,
     "metadata": {},
     "output_type": "execute_result"
    }
   ],
   "source": [
    "tracks.head(10)"
   ]
  },
  {
   "cell_type": "code",
   "execution_count": 7,
   "metadata": {},
   "outputs": [],
   "source": [
    "assert all(idx in viable_tracks_ids for idx in tracks.index)"
   ]
  },
  {
   "cell_type": "code",
   "execution_count": 8,
   "metadata": {},
   "outputs": [
    {
     "data": {
      "text/html": [
       "<div>\n",
       "<style scoped>\n",
       "    .dataframe tbody tr th:only-of-type {\n",
       "        vertical-align: middle;\n",
       "    }\n",
       "\n",
       "    .dataframe tbody tr th {\n",
       "        vertical-align: top;\n",
       "    }\n",
       "\n",
       "    .dataframe thead th {\n",
       "        text-align: right;\n",
       "    }\n",
       "</style>\n",
       "<table border=\"1\" class=\"dataframe\">\n",
       "  <thead>\n",
       "    <tr style=\"text-align: right;\">\n",
       "      <th></th>\n",
       "      <th>track_id</th>\n",
       "      <th>split</th>\n",
       "      <th>genre</th>\n",
       "    </tr>\n",
       "  </thead>\n",
       "  <tbody>\n",
       "    <tr>\n",
       "      <th>0</th>\n",
       "      <td>2</td>\n",
       "      <td>training</td>\n",
       "      <td>Hip-Hop</td>\n",
       "    </tr>\n",
       "  </tbody>\n",
       "</table>\n",
       "</div>"
      ],
      "text/plain": [
       "   track_id     split    genre\n",
       "0         2  training  Hip-Hop"
      ]
     },
     "execution_count": 8,
     "metadata": {},
     "output_type": "execute_result"
    }
   ],
   "source": [
    "tracks.reset_index(inplace=True)\n",
    "tracks.head(1)"
   ]
  },
  {
   "cell_type": "code",
   "execution_count": 9,
   "metadata": {},
   "outputs": [
    {
     "data": {
      "text/plain": [
       "671     6\n",
       "954     2\n",
       "905     5\n",
       "5060    2\n",
       "4120    3\n",
       "Name: genre, dtype: int64"
      ]
     },
     "execution_count": 9,
     "metadata": {},
     "output_type": "execute_result"
    }
   ],
   "source": [
    "from sklearn.preprocessing import LabelEncoder\n",
    "\n",
    "encoder = LabelEncoder()\n",
    "encoder.fit(np.unique(tracks['genre']))\n",
    "tracks['genre'] = encoder.transform(tracks['genre'])\n",
    "tracks['genre'].sample(5)"
   ]
  },
  {
   "cell_type": "code",
   "execution_count": 10,
   "metadata": {},
   "outputs": [
    {
     "data": {
      "text/plain": [
       "array(['Hip-Hop', 'Hip-Hop', 'Pop', 'Folk', 'International'], dtype=object)"
      ]
     },
     "execution_count": 10,
     "metadata": {},
     "output_type": "execute_result"
    }
   ],
   "source": [
    "encoder.inverse_transform(tracks['genre'][:5])"
   ]
  },
  {
   "cell_type": "code",
   "execution_count": 11,
   "metadata": {},
   "outputs": [],
   "source": [
    "SPLIT_DURATION = 3.0\n",
    "REPOPULATE = True"
   ]
  },
  {
   "cell_type": "code",
   "execution_count": 12,
   "metadata": {},
   "outputs": [],
   "source": [
    "import multiprocessing as mp\n",
    "from tqdm.notebook import tqdm\n",
    "from spectrograms import load_audio_file, generate_track_melspectrograms, pickle_spectrograms_set\n",
    "tqdm.pandas()\n",
    "\n",
    "\n",
    "def create_spectrograms_for_set(set_tracks_ids: pd.Index, split_duration: float = SPLIT_DURATION, max_shape: tuple[int, int] = (0, 0)) -> tuple[np.ndarray, np.ndarray]:\n",
    "    X = []\n",
    "    y = []\n",
    "    set_tracks = tracks.loc[set_tracks_ids, 'track_id']\n",
    "    \n",
    "    with mp.Pool(os.cpu_count() - 1) as pool:\n",
    "        for idx, track_id in tqdm(set_tracks.items(), total=len(set_tracks)):\n",
    "            audio, sampling_rate = load_audio_file(track_id)\n",
    "            if not isinstance(audio, np.ndarray):\n",
    "                print(f'{track_id=} cannot be loaded')\n",
    "                continue\n",
    "            \n",
    "            track_spectrograms = pool.apply(generate_track_melspectrograms, args=(audio, sampling_rate, split_duration,))\n",
    "\n",
    "            if not isinstance(track_spectrograms, np.ndarray): continue\n",
    "            \n",
    "            for track_spectrogram in track_spectrograms:\n",
    "                if track_spectrogram.shape > max_shape:\n",
    "                    max_shape = track_spectrogram.shape\n",
    "                X.append(track_spectrogram)\n",
    "            \n",
    "            track_genre = tracks.loc[idx, 'genre']\n",
    "            for _ in range(len(track_spectrograms)):\n",
    "                y.append(track_genre)\n",
    "        \n",
    "        for idx, track_spectrogram in enumerate(X):\n",
    "            if track_spectrogram.shape == max_shape: continue\n",
    "            X[idx] = np.resize(track_spectrogram, max_shape)\n",
    "            \n",
    "    return np.array(X, dtype=np.float16), np.array(y, dtype=np.int8), max_shape"
   ]
  },
  {
   "cell_type": "code",
   "execution_count": 13,
   "metadata": {},
   "outputs": [
    {
     "data": {
      "application/vnd.jupyter.widget-view+json": {
       "model_id": "0538b98fac924d3d81583103880f24b4",
       "version_major": 2,
       "version_minor": 0
      },
      "text/plain": [
       "  0%|          | 0/8000 [00:00<?, ?it/s]"
      ]
     },
     "metadata": {},
     "output_type": "display_data"
    },
    {
     "name": "stderr",
     "output_type": "stream",
     "text": [
      "Note: Illegal Audio-MPEG-Header 0x00000000 at offset 33361.\n",
      "Note: Trying to resync...\n",
      "Note: Skipped 1024 bytes in input.\n",
      "[src/libmpg123/parse.c:wetwork():1365] error: Giving up resync after 1024 bytes - your stream is not nice... (maybe increasing resync limit could help).\n",
      "/mnt/WD-shared/PJATK/PracaMagisterska/predictions_server/model_testing/data/FMA/spectrograms.py:26: UserWarning: PySoundFile failed. Trying audioread instead.\n",
      "  return librosa.load(file_path, sr=SAMPLING_RATE, mono=True)\n",
      "Note: Illegal Audio-MPEG-Header 0x00000000 at offset 22401.\n",
      "Note: Trying to resync...\n",
      "Note: Skipped 1024 bytes in input.\n",
      "[src/libmpg123/parse.c:wetwork():1365] error: Giving up resync after 1024 bytes - your stream is not nice... (maybe increasing resync limit could help).\n",
      "/mnt/WD-shared/PJATK/PracaMagisterska/predictions_server/model_testing/data/FMA/spectrograms.py:26: UserWarning: PySoundFile failed. Trying audioread instead.\n",
      "  return librosa.load(file_path, sr=SAMPLING_RATE, mono=True)\n",
      "[src/libmpg123/layer3.c:INT123_do_layer3():1801] error: dequantization failed!\n",
      "Note: Illegal Audio-MPEG-Header 0x00000000 at offset 63168.\n",
      "Note: Trying to resync...\n",
      "Note: Skipped 1024 bytes in input.\n",
      "[src/libmpg123/parse.c:wetwork():1365] error: Giving up resync after 1024 bytes - your stream is not nice... (maybe increasing resync limit could help).\n",
      "/mnt/WD-shared/PJATK/PracaMagisterska/predictions_server/model_testing/data/FMA/spectrograms.py:26: UserWarning: PySoundFile failed. Trying audioread instead.\n",
      "  return librosa.load(file_path, sr=SAMPLING_RATE, mono=True)\n",
      "[src/libmpg123/parse.c:do_readahead():1099] warning: Cannot read next header, a one-frame stream? Duh...\n",
      "/mnt/WD-shared/PJATK/PracaMagisterska/predictions_server/model_testing/data/FMA/spectrograms.py:26: UserWarning: PySoundFile failed. Trying audioread instead.\n",
      "  return librosa.load(file_path, sr=SAMPLING_RATE, mono=True)\n"
     ]
    },
    {
     "name": "stdout",
     "output_type": "stream",
     "text": [
      "track_id=99134 cannot be loaded\n"
     ]
    },
    {
     "name": "stderr",
     "output_type": "stream",
     "text": [
      "[src/libmpg123/parse.c:do_readahead():1099] warning: Cannot read next header, a one-frame stream? Duh...\n",
      "/mnt/WD-shared/PJATK/PracaMagisterska/predictions_server/model_testing/data/FMA/spectrograms.py:26: UserWarning: PySoundFile failed. Trying audioread instead.\n",
      "  return librosa.load(file_path, sr=SAMPLING_RATE, mono=True)\n"
     ]
    },
    {
     "name": "stdout",
     "output_type": "stream",
     "text": [
      "track_id=133297 cannot be loaded\n"
     ]
    },
    {
     "name": "stderr",
     "output_type": "stream",
     "text": [
      "[src/libmpg123/parse.c:do_readahead():1099] warning: Cannot read next header, a one-frame stream? Duh...\n",
      "/mnt/WD-shared/PJATK/PracaMagisterska/predictions_server/model_testing/data/FMA/spectrograms.py:26: UserWarning: PySoundFile failed. Trying audioread instead.\n",
      "  return librosa.load(file_path, sr=SAMPLING_RATE, mono=True)\n"
     ]
    },
    {
     "name": "stdout",
     "output_type": "stream",
     "text": [
      "track_id=108925 cannot be loaded\n"
     ]
    },
    {
     "name": "stderr",
     "output_type": "stream",
     "text": [
      "[src/libmpg123/layer3.c:INT123_do_layer3():1841] error: dequantization failed!\n",
      "[src/libmpg123/layer3.c:INT123_do_layer3():1801] error: dequantization failed!\n",
      "[src/libmpg123/layer3.c:INT123_do_layer3():1771] error: part2_3_length (3360) too large for available bit count (3240)\n",
      "[src/libmpg123/layer3.c:INT123_do_layer3():1771] error: part2_3_length (3328) too large for available bit count (3240)\n",
      "[src/libmpg123/layer3.c:INT123_do_layer3():1801] error: dequantization failed!\n"
     ]
    },
    {
     "data": {
      "text/plain": [
       "((75252, 128, 130), (75252,))"
      ]
     },
     "execution_count": 13,
     "metadata": {},
     "output_type": "execute_result"
    }
   ],
   "source": [
    "X, y, max_shape = create_spectrograms_for_set(tracks.index)\n",
    "X.shape, y.shape"
   ]
  },
  {
   "cell_type": "code",
   "execution_count": 14,
   "metadata": {},
   "outputs": [
    {
     "data": {
      "text/html": [
       "<div>\n",
       "<style scoped>\n",
       "    .dataframe tbody tr th:only-of-type {\n",
       "        vertical-align: middle;\n",
       "    }\n",
       "\n",
       "    .dataframe tbody tr th {\n",
       "        vertical-align: top;\n",
       "    }\n",
       "\n",
       "    .dataframe thead th {\n",
       "        text-align: right;\n",
       "    }\n",
       "</style>\n",
       "<table border=\"1\" class=\"dataframe\">\n",
       "  <thead>\n",
       "    <tr style=\"text-align: right;\">\n",
       "      <th></th>\n",
       "      <th>track_id</th>\n",
       "      <th>split</th>\n",
       "      <th>genre</th>\n",
       "    </tr>\n",
       "  </thead>\n",
       "  <tbody>\n",
       "    <tr>\n",
       "      <th>0</th>\n",
       "      <td>2</td>\n",
       "      <td>training</td>\n",
       "      <td>3</td>\n",
       "    </tr>\n",
       "    <tr>\n",
       "      <th>1</th>\n",
       "      <td>5</td>\n",
       "      <td>training</td>\n",
       "      <td>3</td>\n",
       "    </tr>\n",
       "    <tr>\n",
       "      <th>2</th>\n",
       "      <td>10</td>\n",
       "      <td>training</td>\n",
       "      <td>6</td>\n",
       "    </tr>\n",
       "    <tr>\n",
       "      <th>3</th>\n",
       "      <td>32800</td>\n",
       "      <td>training</td>\n",
       "      <td>2</td>\n",
       "    </tr>\n",
       "    <tr>\n",
       "      <th>4</th>\n",
       "      <td>98339</td>\n",
       "      <td>training</td>\n",
       "      <td>5</td>\n",
       "    </tr>\n",
       "  </tbody>\n",
       "</table>\n",
       "</div>"
      ],
      "text/plain": [
       "   track_id     split  genre\n",
       "0         2  training      3\n",
       "1         5  training      3\n",
       "2        10  training      6\n",
       "3     32800  training      2\n",
       "4     98339  training      5"
      ]
     },
     "execution_count": 14,
     "metadata": {},
     "output_type": "execute_result"
    }
   ],
   "source": [
    "tracks[:5]"
   ]
  },
  {
   "cell_type": "code",
   "execution_count": 15,
   "metadata": {},
   "outputs": [
    {
     "data": {
      "text/plain": [
       "array(['Hip-Hop', 'Hip-Hop', 'Pop', 'Folk', 'International'], dtype=object)"
      ]
     },
     "execution_count": 15,
     "metadata": {},
     "output_type": "execute_result"
    }
   ],
   "source": [
    "encoder.inverse_transform(tracks['genre'][:5])"
   ]
  },
  {
   "cell_type": "code",
   "execution_count": 16,
   "metadata": {},
   "outputs": [
    {
     "data": {
      "text/plain": [
       "array([3, 3, 6, ..., 5, 5, 5], dtype=int8)"
      ]
     },
     "execution_count": 16,
     "metadata": {},
     "output_type": "execute_result"
    }
   ],
   "source": [
    "y[::10]"
   ]
  },
  {
   "cell_type": "code",
   "execution_count": 17,
   "metadata": {},
   "outputs": [
    {
     "data": {
      "text/plain": [
       "array(['Hip-Hop', 'Hip-Hop', 'Hip-Hop', 'Hip-Hop', 'Hip-Hop', 'Hip-Hop',\n",
       "       'Hip-Hop', 'Hip-Hop', 'Hip-Hop', 'Hip-Hop', 'Hip-Hop', 'Hip-Hop',\n",
       "       'Hip-Hop', 'Hip-Hop', 'Hip-Hop', 'Hip-Hop', 'Hip-Hop', 'Hip-Hop',\n",
       "       'Hip-Hop', 'Pop', 'Pop', 'Pop', 'Pop', 'Pop', 'Pop', 'Pop', 'Pop',\n",
       "       'Pop', 'Folk', 'Folk', 'Folk', 'Folk', 'Folk', 'Folk', 'Folk',\n",
       "       'Folk', 'Folk', 'Folk', 'International', 'International',\n",
       "       'International', 'International', 'International', 'International',\n",
       "       'International', 'International', 'International', 'International',\n",
       "       'International', 'International'], dtype=object)"
      ]
     },
     "execution_count": 17,
     "metadata": {},
     "output_type": "execute_result"
    }
   ],
   "source": [
    "encoder.inverse_transform(y[:50])"
   ]
  },
  {
   "cell_type": "code",
   "execution_count": 18,
   "metadata": {},
   "outputs": [
    {
     "data": {
      "text/plain": [
       "array(['Hip-Hop', 'Hip-Hop', 'Pop', 'Folk', 'International'], dtype=object)"
      ]
     },
     "execution_count": 18,
     "metadata": {},
     "output_type": "execute_result"
    }
   ],
   "source": [
    "y = encoder.inverse_transform(y)\n",
    "y[:50:10]"
   ]
  },
  {
   "cell_type": "code",
   "execution_count": 19,
   "metadata": {},
   "outputs": [
    {
     "data": {
      "text/plain": [
       "((52676, 128, 130),\n",
       " (52676,),\n",
       " (15125, 128, 130),\n",
       " (15125,),\n",
       " (7451, 128, 130),\n",
       " (7451,))"
      ]
     },
     "execution_count": 19,
     "metadata": {},
     "output_type": "execute_result"
    }
   ],
   "source": [
    "from sklearn.model_selection import train_test_split\n",
    "\n",
    "train_tracks, val_tracks, train_labels, val_labels = train_test_split(X, y, test_size=0.3, stratify=y)\n",
    "val_tracks, test_tracks, val_labels, test_labels = train_test_split(val_tracks, val_labels, test_size=0.33, stratify=val_labels)\n",
    "train_tracks.shape, train_labels.shape, val_tracks.shape, val_labels.shape, test_tracks.shape, test_labels.shape"
   ]
  },
  {
   "cell_type": "code",
   "execution_count": 20,
   "metadata": {},
   "outputs": [
    {
     "name": "stdout",
     "output_type": "stream",
     "text": [
      "8 values left\n"
     ]
    },
    {
     "data": {
      "application/vnd.plotly.v1+json": {
       "config": {
        "plotlyServerURL": "https://plot.ly"
       },
       "data": [
        {
         "domain": {
          "x": [
           0,
           1
          ],
          "y": [
           0,
           1
          ]
         },
         "hoverinfo": "label+percent",
         "hovertemplate": "label=%{label}<br>value=%{value}<extra></extra>",
         "labels": [
          "Pop",
          "International",
          "Folk",
          "Electronic",
          "Rock",
          "Experimental",
          "Instrumental",
          "Hip-Hop"
         ],
         "legendgroup": "",
         "name": "",
         "showlegend": true,
         "textinfo": "percent",
         "type": "pie",
         "values": [
          6604,
          6600,
          6600,
          6589,
          6588,
          6579,
          6572,
          6544
         ]
        }
       ],
       "layout": {
        "legend": {
         "tracegroupgap": 0
        },
        "margin": {
         "t": 60
        },
        "template": {
         "data": {
          "bar": [
           {
            "error_x": {
             "color": "#2a3f5f"
            },
            "error_y": {
             "color": "#2a3f5f"
            },
            "marker": {
             "line": {
              "color": "#E5ECF6",
              "width": 0.5
             },
             "pattern": {
              "fillmode": "overlay",
              "size": 10,
              "solidity": 0.2
             }
            },
            "type": "bar"
           }
          ],
          "barpolar": [
           {
            "marker": {
             "line": {
              "color": "#E5ECF6",
              "width": 0.5
             },
             "pattern": {
              "fillmode": "overlay",
              "size": 10,
              "solidity": 0.2
             }
            },
            "type": "barpolar"
           }
          ],
          "carpet": [
           {
            "aaxis": {
             "endlinecolor": "#2a3f5f",
             "gridcolor": "white",
             "linecolor": "white",
             "minorgridcolor": "white",
             "startlinecolor": "#2a3f5f"
            },
            "baxis": {
             "endlinecolor": "#2a3f5f",
             "gridcolor": "white",
             "linecolor": "white",
             "minorgridcolor": "white",
             "startlinecolor": "#2a3f5f"
            },
            "type": "carpet"
           }
          ],
          "choropleth": [
           {
            "colorbar": {
             "outlinewidth": 0,
             "ticks": ""
            },
            "type": "choropleth"
           }
          ],
          "contour": [
           {
            "colorbar": {
             "outlinewidth": 0,
             "ticks": ""
            },
            "colorscale": [
             [
              0,
              "#0d0887"
             ],
             [
              0.1111111111111111,
              "#46039f"
             ],
             [
              0.2222222222222222,
              "#7201a8"
             ],
             [
              0.3333333333333333,
              "#9c179e"
             ],
             [
              0.4444444444444444,
              "#bd3786"
             ],
             [
              0.5555555555555556,
              "#d8576b"
             ],
             [
              0.6666666666666666,
              "#ed7953"
             ],
             [
              0.7777777777777778,
              "#fb9f3a"
             ],
             [
              0.8888888888888888,
              "#fdca26"
             ],
             [
              1,
              "#f0f921"
             ]
            ],
            "type": "contour"
           }
          ],
          "contourcarpet": [
           {
            "colorbar": {
             "outlinewidth": 0,
             "ticks": ""
            },
            "type": "contourcarpet"
           }
          ],
          "heatmap": [
           {
            "colorbar": {
             "outlinewidth": 0,
             "ticks": ""
            },
            "colorscale": [
             [
              0,
              "#0d0887"
             ],
             [
              0.1111111111111111,
              "#46039f"
             ],
             [
              0.2222222222222222,
              "#7201a8"
             ],
             [
              0.3333333333333333,
              "#9c179e"
             ],
             [
              0.4444444444444444,
              "#bd3786"
             ],
             [
              0.5555555555555556,
              "#d8576b"
             ],
             [
              0.6666666666666666,
              "#ed7953"
             ],
             [
              0.7777777777777778,
              "#fb9f3a"
             ],
             [
              0.8888888888888888,
              "#fdca26"
             ],
             [
              1,
              "#f0f921"
             ]
            ],
            "type": "heatmap"
           }
          ],
          "heatmapgl": [
           {
            "colorbar": {
             "outlinewidth": 0,
             "ticks": ""
            },
            "colorscale": [
             [
              0,
              "#0d0887"
             ],
             [
              0.1111111111111111,
              "#46039f"
             ],
             [
              0.2222222222222222,
              "#7201a8"
             ],
             [
              0.3333333333333333,
              "#9c179e"
             ],
             [
              0.4444444444444444,
              "#bd3786"
             ],
             [
              0.5555555555555556,
              "#d8576b"
             ],
             [
              0.6666666666666666,
              "#ed7953"
             ],
             [
              0.7777777777777778,
              "#fb9f3a"
             ],
             [
              0.8888888888888888,
              "#fdca26"
             ],
             [
              1,
              "#f0f921"
             ]
            ],
            "type": "heatmapgl"
           }
          ],
          "histogram": [
           {
            "marker": {
             "pattern": {
              "fillmode": "overlay",
              "size": 10,
              "solidity": 0.2
             }
            },
            "type": "histogram"
           }
          ],
          "histogram2d": [
           {
            "colorbar": {
             "outlinewidth": 0,
             "ticks": ""
            },
            "colorscale": [
             [
              0,
              "#0d0887"
             ],
             [
              0.1111111111111111,
              "#46039f"
             ],
             [
              0.2222222222222222,
              "#7201a8"
             ],
             [
              0.3333333333333333,
              "#9c179e"
             ],
             [
              0.4444444444444444,
              "#bd3786"
             ],
             [
              0.5555555555555556,
              "#d8576b"
             ],
             [
              0.6666666666666666,
              "#ed7953"
             ],
             [
              0.7777777777777778,
              "#fb9f3a"
             ],
             [
              0.8888888888888888,
              "#fdca26"
             ],
             [
              1,
              "#f0f921"
             ]
            ],
            "type": "histogram2d"
           }
          ],
          "histogram2dcontour": [
           {
            "colorbar": {
             "outlinewidth": 0,
             "ticks": ""
            },
            "colorscale": [
             [
              0,
              "#0d0887"
             ],
             [
              0.1111111111111111,
              "#46039f"
             ],
             [
              0.2222222222222222,
              "#7201a8"
             ],
             [
              0.3333333333333333,
              "#9c179e"
             ],
             [
              0.4444444444444444,
              "#bd3786"
             ],
             [
              0.5555555555555556,
              "#d8576b"
             ],
             [
              0.6666666666666666,
              "#ed7953"
             ],
             [
              0.7777777777777778,
              "#fb9f3a"
             ],
             [
              0.8888888888888888,
              "#fdca26"
             ],
             [
              1,
              "#f0f921"
             ]
            ],
            "type": "histogram2dcontour"
           }
          ],
          "mesh3d": [
           {
            "colorbar": {
             "outlinewidth": 0,
             "ticks": ""
            },
            "type": "mesh3d"
           }
          ],
          "parcoords": [
           {
            "line": {
             "colorbar": {
              "outlinewidth": 0,
              "ticks": ""
             }
            },
            "type": "parcoords"
           }
          ],
          "pie": [
           {
            "automargin": true,
            "type": "pie"
           }
          ],
          "scatter": [
           {
            "fillpattern": {
             "fillmode": "overlay",
             "size": 10,
             "solidity": 0.2
            },
            "type": "scatter"
           }
          ],
          "scatter3d": [
           {
            "line": {
             "colorbar": {
              "outlinewidth": 0,
              "ticks": ""
             }
            },
            "marker": {
             "colorbar": {
              "outlinewidth": 0,
              "ticks": ""
             }
            },
            "type": "scatter3d"
           }
          ],
          "scattercarpet": [
           {
            "marker": {
             "colorbar": {
              "outlinewidth": 0,
              "ticks": ""
             }
            },
            "type": "scattercarpet"
           }
          ],
          "scattergeo": [
           {
            "marker": {
             "colorbar": {
              "outlinewidth": 0,
              "ticks": ""
             }
            },
            "type": "scattergeo"
           }
          ],
          "scattergl": [
           {
            "marker": {
             "colorbar": {
              "outlinewidth": 0,
              "ticks": ""
             }
            },
            "type": "scattergl"
           }
          ],
          "scattermapbox": [
           {
            "marker": {
             "colorbar": {
              "outlinewidth": 0,
              "ticks": ""
             }
            },
            "type": "scattermapbox"
           }
          ],
          "scatterpolar": [
           {
            "marker": {
             "colorbar": {
              "outlinewidth": 0,
              "ticks": ""
             }
            },
            "type": "scatterpolar"
           }
          ],
          "scatterpolargl": [
           {
            "marker": {
             "colorbar": {
              "outlinewidth": 0,
              "ticks": ""
             }
            },
            "type": "scatterpolargl"
           }
          ],
          "scatterternary": [
           {
            "marker": {
             "colorbar": {
              "outlinewidth": 0,
              "ticks": ""
             }
            },
            "type": "scatterternary"
           }
          ],
          "surface": [
           {
            "colorbar": {
             "outlinewidth": 0,
             "ticks": ""
            },
            "colorscale": [
             [
              0,
              "#0d0887"
             ],
             [
              0.1111111111111111,
              "#46039f"
             ],
             [
              0.2222222222222222,
              "#7201a8"
             ],
             [
              0.3333333333333333,
              "#9c179e"
             ],
             [
              0.4444444444444444,
              "#bd3786"
             ],
             [
              0.5555555555555556,
              "#d8576b"
             ],
             [
              0.6666666666666666,
              "#ed7953"
             ],
             [
              0.7777777777777778,
              "#fb9f3a"
             ],
             [
              0.8888888888888888,
              "#fdca26"
             ],
             [
              1,
              "#f0f921"
             ]
            ],
            "type": "surface"
           }
          ],
          "table": [
           {
            "cells": {
             "fill": {
              "color": "#EBF0F8"
             },
             "line": {
              "color": "white"
             }
            },
            "header": {
             "fill": {
              "color": "#C8D4E3"
             },
             "line": {
              "color": "white"
             }
            },
            "type": "table"
           }
          ]
         },
         "layout": {
          "annotationdefaults": {
           "arrowcolor": "#2a3f5f",
           "arrowhead": 0,
           "arrowwidth": 1
          },
          "autotypenumbers": "strict",
          "coloraxis": {
           "colorbar": {
            "outlinewidth": 0,
            "ticks": ""
           }
          },
          "colorscale": {
           "diverging": [
            [
             0,
             "#8e0152"
            ],
            [
             0.1,
             "#c51b7d"
            ],
            [
             0.2,
             "#de77ae"
            ],
            [
             0.3,
             "#f1b6da"
            ],
            [
             0.4,
             "#fde0ef"
            ],
            [
             0.5,
             "#f7f7f7"
            ],
            [
             0.6,
             "#e6f5d0"
            ],
            [
             0.7,
             "#b8e186"
            ],
            [
             0.8,
             "#7fbc41"
            ],
            [
             0.9,
             "#4d9221"
            ],
            [
             1,
             "#276419"
            ]
           ],
           "sequential": [
            [
             0,
             "#0d0887"
            ],
            [
             0.1111111111111111,
             "#46039f"
            ],
            [
             0.2222222222222222,
             "#7201a8"
            ],
            [
             0.3333333333333333,
             "#9c179e"
            ],
            [
             0.4444444444444444,
             "#bd3786"
            ],
            [
             0.5555555555555556,
             "#d8576b"
            ],
            [
             0.6666666666666666,
             "#ed7953"
            ],
            [
             0.7777777777777778,
             "#fb9f3a"
            ],
            [
             0.8888888888888888,
             "#fdca26"
            ],
            [
             1,
             "#f0f921"
            ]
           ],
           "sequentialminus": [
            [
             0,
             "#0d0887"
            ],
            [
             0.1111111111111111,
             "#46039f"
            ],
            [
             0.2222222222222222,
             "#7201a8"
            ],
            [
             0.3333333333333333,
             "#9c179e"
            ],
            [
             0.4444444444444444,
             "#bd3786"
            ],
            [
             0.5555555555555556,
             "#d8576b"
            ],
            [
             0.6666666666666666,
             "#ed7953"
            ],
            [
             0.7777777777777778,
             "#fb9f3a"
            ],
            [
             0.8888888888888888,
             "#fdca26"
            ],
            [
             1,
             "#f0f921"
            ]
           ]
          },
          "colorway": [
           "#636efa",
           "#EF553B",
           "#00cc96",
           "#ab63fa",
           "#FFA15A",
           "#19d3f3",
           "#FF6692",
           "#B6E880",
           "#FF97FF",
           "#FECB52"
          ],
          "font": {
           "color": "#2a3f5f"
          },
          "geo": {
           "bgcolor": "white",
           "lakecolor": "white",
           "landcolor": "#E5ECF6",
           "showlakes": true,
           "showland": true,
           "subunitcolor": "white"
          },
          "hoverlabel": {
           "align": "left"
          },
          "hovermode": "closest",
          "mapbox": {
           "style": "light"
          },
          "paper_bgcolor": "white",
          "plot_bgcolor": "#E5ECF6",
          "polar": {
           "angularaxis": {
            "gridcolor": "white",
            "linecolor": "white",
            "ticks": ""
           },
           "bgcolor": "#E5ECF6",
           "radialaxis": {
            "gridcolor": "white",
            "linecolor": "white",
            "ticks": ""
           }
          },
          "scene": {
           "xaxis": {
            "backgroundcolor": "#E5ECF6",
            "gridcolor": "white",
            "gridwidth": 2,
            "linecolor": "white",
            "showbackground": true,
            "ticks": "",
            "zerolinecolor": "white"
           },
           "yaxis": {
            "backgroundcolor": "#E5ECF6",
            "gridcolor": "white",
            "gridwidth": 2,
            "linecolor": "white",
            "showbackground": true,
            "ticks": "",
            "zerolinecolor": "white"
           },
           "zaxis": {
            "backgroundcolor": "#E5ECF6",
            "gridcolor": "white",
            "gridwidth": 2,
            "linecolor": "white",
            "showbackground": true,
            "ticks": "",
            "zerolinecolor": "white"
           }
          },
          "shapedefaults": {
           "line": {
            "color": "#2a3f5f"
           }
          },
          "ternary": {
           "aaxis": {
            "gridcolor": "white",
            "linecolor": "white",
            "ticks": ""
           },
           "baxis": {
            "gridcolor": "white",
            "linecolor": "white",
            "ticks": ""
           },
           "bgcolor": "#E5ECF6",
           "caxis": {
            "gridcolor": "white",
            "linecolor": "white",
            "ticks": ""
           }
          },
          "title": {
           "x": 0.05
          },
          "xaxis": {
           "automargin": true,
           "gridcolor": "white",
           "linecolor": "white",
           "ticks": "",
           "title": {
            "standoff": 15
           },
           "zerolinecolor": "white",
           "zerolinewidth": 2
          },
          "yaxis": {
           "automargin": true,
           "gridcolor": "white",
           "linecolor": "white",
           "ticks": "",
           "title": {
            "standoff": 15
           },
           "zerolinecolor": "white",
           "zerolinewidth": 2
          }
         }
        }
       }
      }
     },
     "metadata": {},
     "output_type": "display_data"
    },
    {
     "name": "stdout",
     "output_type": "stream",
     "text": [
      "8 values left\n"
     ]
    },
    {
     "data": {
      "application/vnd.plotly.v1+json": {
       "config": {
        "plotlyServerURL": "https://plot.ly"
       },
       "data": [
        {
         "domain": {
          "x": [
           0,
           1
          ],
          "y": [
           0,
           1
          ]
         },
         "hoverinfo": "label+percent",
         "hovertemplate": "label=%{label}<br>value=%{value}<extra></extra>",
         "labels": [
          "Pop",
          "International",
          "Folk",
          "Electronic",
          "Rock",
          "Experimental",
          "Instrumental",
          "Hip-Hop"
         ],
         "legendgroup": "",
         "name": "",
         "showlegend": true,
         "textinfo": "percent",
         "type": "pie",
         "values": [
          1897,
          1895,
          1895,
          1892,
          1891,
          1889,
          1887,
          1879
         ]
        }
       ],
       "layout": {
        "legend": {
         "tracegroupgap": 0
        },
        "margin": {
         "t": 60
        },
        "template": {
         "data": {
          "bar": [
           {
            "error_x": {
             "color": "#2a3f5f"
            },
            "error_y": {
             "color": "#2a3f5f"
            },
            "marker": {
             "line": {
              "color": "#E5ECF6",
              "width": 0.5
             },
             "pattern": {
              "fillmode": "overlay",
              "size": 10,
              "solidity": 0.2
             }
            },
            "type": "bar"
           }
          ],
          "barpolar": [
           {
            "marker": {
             "line": {
              "color": "#E5ECF6",
              "width": 0.5
             },
             "pattern": {
              "fillmode": "overlay",
              "size": 10,
              "solidity": 0.2
             }
            },
            "type": "barpolar"
           }
          ],
          "carpet": [
           {
            "aaxis": {
             "endlinecolor": "#2a3f5f",
             "gridcolor": "white",
             "linecolor": "white",
             "minorgridcolor": "white",
             "startlinecolor": "#2a3f5f"
            },
            "baxis": {
             "endlinecolor": "#2a3f5f",
             "gridcolor": "white",
             "linecolor": "white",
             "minorgridcolor": "white",
             "startlinecolor": "#2a3f5f"
            },
            "type": "carpet"
           }
          ],
          "choropleth": [
           {
            "colorbar": {
             "outlinewidth": 0,
             "ticks": ""
            },
            "type": "choropleth"
           }
          ],
          "contour": [
           {
            "colorbar": {
             "outlinewidth": 0,
             "ticks": ""
            },
            "colorscale": [
             [
              0,
              "#0d0887"
             ],
             [
              0.1111111111111111,
              "#46039f"
             ],
             [
              0.2222222222222222,
              "#7201a8"
             ],
             [
              0.3333333333333333,
              "#9c179e"
             ],
             [
              0.4444444444444444,
              "#bd3786"
             ],
             [
              0.5555555555555556,
              "#d8576b"
             ],
             [
              0.6666666666666666,
              "#ed7953"
             ],
             [
              0.7777777777777778,
              "#fb9f3a"
             ],
             [
              0.8888888888888888,
              "#fdca26"
             ],
             [
              1,
              "#f0f921"
             ]
            ],
            "type": "contour"
           }
          ],
          "contourcarpet": [
           {
            "colorbar": {
             "outlinewidth": 0,
             "ticks": ""
            },
            "type": "contourcarpet"
           }
          ],
          "heatmap": [
           {
            "colorbar": {
             "outlinewidth": 0,
             "ticks": ""
            },
            "colorscale": [
             [
              0,
              "#0d0887"
             ],
             [
              0.1111111111111111,
              "#46039f"
             ],
             [
              0.2222222222222222,
              "#7201a8"
             ],
             [
              0.3333333333333333,
              "#9c179e"
             ],
             [
              0.4444444444444444,
              "#bd3786"
             ],
             [
              0.5555555555555556,
              "#d8576b"
             ],
             [
              0.6666666666666666,
              "#ed7953"
             ],
             [
              0.7777777777777778,
              "#fb9f3a"
             ],
             [
              0.8888888888888888,
              "#fdca26"
             ],
             [
              1,
              "#f0f921"
             ]
            ],
            "type": "heatmap"
           }
          ],
          "heatmapgl": [
           {
            "colorbar": {
             "outlinewidth": 0,
             "ticks": ""
            },
            "colorscale": [
             [
              0,
              "#0d0887"
             ],
             [
              0.1111111111111111,
              "#46039f"
             ],
             [
              0.2222222222222222,
              "#7201a8"
             ],
             [
              0.3333333333333333,
              "#9c179e"
             ],
             [
              0.4444444444444444,
              "#bd3786"
             ],
             [
              0.5555555555555556,
              "#d8576b"
             ],
             [
              0.6666666666666666,
              "#ed7953"
             ],
             [
              0.7777777777777778,
              "#fb9f3a"
             ],
             [
              0.8888888888888888,
              "#fdca26"
             ],
             [
              1,
              "#f0f921"
             ]
            ],
            "type": "heatmapgl"
           }
          ],
          "histogram": [
           {
            "marker": {
             "pattern": {
              "fillmode": "overlay",
              "size": 10,
              "solidity": 0.2
             }
            },
            "type": "histogram"
           }
          ],
          "histogram2d": [
           {
            "colorbar": {
             "outlinewidth": 0,
             "ticks": ""
            },
            "colorscale": [
             [
              0,
              "#0d0887"
             ],
             [
              0.1111111111111111,
              "#46039f"
             ],
             [
              0.2222222222222222,
              "#7201a8"
             ],
             [
              0.3333333333333333,
              "#9c179e"
             ],
             [
              0.4444444444444444,
              "#bd3786"
             ],
             [
              0.5555555555555556,
              "#d8576b"
             ],
             [
              0.6666666666666666,
              "#ed7953"
             ],
             [
              0.7777777777777778,
              "#fb9f3a"
             ],
             [
              0.8888888888888888,
              "#fdca26"
             ],
             [
              1,
              "#f0f921"
             ]
            ],
            "type": "histogram2d"
           }
          ],
          "histogram2dcontour": [
           {
            "colorbar": {
             "outlinewidth": 0,
             "ticks": ""
            },
            "colorscale": [
             [
              0,
              "#0d0887"
             ],
             [
              0.1111111111111111,
              "#46039f"
             ],
             [
              0.2222222222222222,
              "#7201a8"
             ],
             [
              0.3333333333333333,
              "#9c179e"
             ],
             [
              0.4444444444444444,
              "#bd3786"
             ],
             [
              0.5555555555555556,
              "#d8576b"
             ],
             [
              0.6666666666666666,
              "#ed7953"
             ],
             [
              0.7777777777777778,
              "#fb9f3a"
             ],
             [
              0.8888888888888888,
              "#fdca26"
             ],
             [
              1,
              "#f0f921"
             ]
            ],
            "type": "histogram2dcontour"
           }
          ],
          "mesh3d": [
           {
            "colorbar": {
             "outlinewidth": 0,
             "ticks": ""
            },
            "type": "mesh3d"
           }
          ],
          "parcoords": [
           {
            "line": {
             "colorbar": {
              "outlinewidth": 0,
              "ticks": ""
             }
            },
            "type": "parcoords"
           }
          ],
          "pie": [
           {
            "automargin": true,
            "type": "pie"
           }
          ],
          "scatter": [
           {
            "fillpattern": {
             "fillmode": "overlay",
             "size": 10,
             "solidity": 0.2
            },
            "type": "scatter"
           }
          ],
          "scatter3d": [
           {
            "line": {
             "colorbar": {
              "outlinewidth": 0,
              "ticks": ""
             }
            },
            "marker": {
             "colorbar": {
              "outlinewidth": 0,
              "ticks": ""
             }
            },
            "type": "scatter3d"
           }
          ],
          "scattercarpet": [
           {
            "marker": {
             "colorbar": {
              "outlinewidth": 0,
              "ticks": ""
             }
            },
            "type": "scattercarpet"
           }
          ],
          "scattergeo": [
           {
            "marker": {
             "colorbar": {
              "outlinewidth": 0,
              "ticks": ""
             }
            },
            "type": "scattergeo"
           }
          ],
          "scattergl": [
           {
            "marker": {
             "colorbar": {
              "outlinewidth": 0,
              "ticks": ""
             }
            },
            "type": "scattergl"
           }
          ],
          "scattermapbox": [
           {
            "marker": {
             "colorbar": {
              "outlinewidth": 0,
              "ticks": ""
             }
            },
            "type": "scattermapbox"
           }
          ],
          "scatterpolar": [
           {
            "marker": {
             "colorbar": {
              "outlinewidth": 0,
              "ticks": ""
             }
            },
            "type": "scatterpolar"
           }
          ],
          "scatterpolargl": [
           {
            "marker": {
             "colorbar": {
              "outlinewidth": 0,
              "ticks": ""
             }
            },
            "type": "scatterpolargl"
           }
          ],
          "scatterternary": [
           {
            "marker": {
             "colorbar": {
              "outlinewidth": 0,
              "ticks": ""
             }
            },
            "type": "scatterternary"
           }
          ],
          "surface": [
           {
            "colorbar": {
             "outlinewidth": 0,
             "ticks": ""
            },
            "colorscale": [
             [
              0,
              "#0d0887"
             ],
             [
              0.1111111111111111,
              "#46039f"
             ],
             [
              0.2222222222222222,
              "#7201a8"
             ],
             [
              0.3333333333333333,
              "#9c179e"
             ],
             [
              0.4444444444444444,
              "#bd3786"
             ],
             [
              0.5555555555555556,
              "#d8576b"
             ],
             [
              0.6666666666666666,
              "#ed7953"
             ],
             [
              0.7777777777777778,
              "#fb9f3a"
             ],
             [
              0.8888888888888888,
              "#fdca26"
             ],
             [
              1,
              "#f0f921"
             ]
            ],
            "type": "surface"
           }
          ],
          "table": [
           {
            "cells": {
             "fill": {
              "color": "#EBF0F8"
             },
             "line": {
              "color": "white"
             }
            },
            "header": {
             "fill": {
              "color": "#C8D4E3"
             },
             "line": {
              "color": "white"
             }
            },
            "type": "table"
           }
          ]
         },
         "layout": {
          "annotationdefaults": {
           "arrowcolor": "#2a3f5f",
           "arrowhead": 0,
           "arrowwidth": 1
          },
          "autotypenumbers": "strict",
          "coloraxis": {
           "colorbar": {
            "outlinewidth": 0,
            "ticks": ""
           }
          },
          "colorscale": {
           "diverging": [
            [
             0,
             "#8e0152"
            ],
            [
             0.1,
             "#c51b7d"
            ],
            [
             0.2,
             "#de77ae"
            ],
            [
             0.3,
             "#f1b6da"
            ],
            [
             0.4,
             "#fde0ef"
            ],
            [
             0.5,
             "#f7f7f7"
            ],
            [
             0.6,
             "#e6f5d0"
            ],
            [
             0.7,
             "#b8e186"
            ],
            [
             0.8,
             "#7fbc41"
            ],
            [
             0.9,
             "#4d9221"
            ],
            [
             1,
             "#276419"
            ]
           ],
           "sequential": [
            [
             0,
             "#0d0887"
            ],
            [
             0.1111111111111111,
             "#46039f"
            ],
            [
             0.2222222222222222,
             "#7201a8"
            ],
            [
             0.3333333333333333,
             "#9c179e"
            ],
            [
             0.4444444444444444,
             "#bd3786"
            ],
            [
             0.5555555555555556,
             "#d8576b"
            ],
            [
             0.6666666666666666,
             "#ed7953"
            ],
            [
             0.7777777777777778,
             "#fb9f3a"
            ],
            [
             0.8888888888888888,
             "#fdca26"
            ],
            [
             1,
             "#f0f921"
            ]
           ],
           "sequentialminus": [
            [
             0,
             "#0d0887"
            ],
            [
             0.1111111111111111,
             "#46039f"
            ],
            [
             0.2222222222222222,
             "#7201a8"
            ],
            [
             0.3333333333333333,
             "#9c179e"
            ],
            [
             0.4444444444444444,
             "#bd3786"
            ],
            [
             0.5555555555555556,
             "#d8576b"
            ],
            [
             0.6666666666666666,
             "#ed7953"
            ],
            [
             0.7777777777777778,
             "#fb9f3a"
            ],
            [
             0.8888888888888888,
             "#fdca26"
            ],
            [
             1,
             "#f0f921"
            ]
           ]
          },
          "colorway": [
           "#636efa",
           "#EF553B",
           "#00cc96",
           "#ab63fa",
           "#FFA15A",
           "#19d3f3",
           "#FF6692",
           "#B6E880",
           "#FF97FF",
           "#FECB52"
          ],
          "font": {
           "color": "#2a3f5f"
          },
          "geo": {
           "bgcolor": "white",
           "lakecolor": "white",
           "landcolor": "#E5ECF6",
           "showlakes": true,
           "showland": true,
           "subunitcolor": "white"
          },
          "hoverlabel": {
           "align": "left"
          },
          "hovermode": "closest",
          "mapbox": {
           "style": "light"
          },
          "paper_bgcolor": "white",
          "plot_bgcolor": "#E5ECF6",
          "polar": {
           "angularaxis": {
            "gridcolor": "white",
            "linecolor": "white",
            "ticks": ""
           },
           "bgcolor": "#E5ECF6",
           "radialaxis": {
            "gridcolor": "white",
            "linecolor": "white",
            "ticks": ""
           }
          },
          "scene": {
           "xaxis": {
            "backgroundcolor": "#E5ECF6",
            "gridcolor": "white",
            "gridwidth": 2,
            "linecolor": "white",
            "showbackground": true,
            "ticks": "",
            "zerolinecolor": "white"
           },
           "yaxis": {
            "backgroundcolor": "#E5ECF6",
            "gridcolor": "white",
            "gridwidth": 2,
            "linecolor": "white",
            "showbackground": true,
            "ticks": "",
            "zerolinecolor": "white"
           },
           "zaxis": {
            "backgroundcolor": "#E5ECF6",
            "gridcolor": "white",
            "gridwidth": 2,
            "linecolor": "white",
            "showbackground": true,
            "ticks": "",
            "zerolinecolor": "white"
           }
          },
          "shapedefaults": {
           "line": {
            "color": "#2a3f5f"
           }
          },
          "ternary": {
           "aaxis": {
            "gridcolor": "white",
            "linecolor": "white",
            "ticks": ""
           },
           "baxis": {
            "gridcolor": "white",
            "linecolor": "white",
            "ticks": ""
           },
           "bgcolor": "#E5ECF6",
           "caxis": {
            "gridcolor": "white",
            "linecolor": "white",
            "ticks": ""
           }
          },
          "title": {
           "x": 0.05
          },
          "xaxis": {
           "automargin": true,
           "gridcolor": "white",
           "linecolor": "white",
           "ticks": "",
           "title": {
            "standoff": 15
           },
           "zerolinecolor": "white",
           "zerolinewidth": 2
          },
          "yaxis": {
           "automargin": true,
           "gridcolor": "white",
           "linecolor": "white",
           "ticks": "",
           "title": {
            "standoff": 15
           },
           "zerolinecolor": "white",
           "zerolinewidth": 2
          }
         }
        }
       }
      }
     },
     "metadata": {},
     "output_type": "display_data"
    },
    {
     "name": "stdout",
     "output_type": "stream",
     "text": [
      "8 values left\n"
     ]
    },
    {
     "data": {
      "application/vnd.plotly.v1+json": {
       "config": {
        "plotlyServerURL": "https://plot.ly"
       },
       "data": [
        {
         "domain": {
          "x": [
           0,
           1
          ],
          "y": [
           0,
           1
          ]
         },
         "hoverinfo": "label+percent",
         "hovertemplate": "label=%{label}<br>value=%{value}<extra></extra>",
         "labels": [
          "Pop",
          "Folk",
          "International",
          "Rock",
          "Electronic",
          "Experimental",
          "Instrumental",
          "Hip-Hop"
         ],
         "legendgroup": "",
         "name": "",
         "showlegend": true,
         "textinfo": "percent",
         "type": "pie",
         "values": [
          934,
          933,
          933,
          932,
          932,
          931,
          930,
          926
         ]
        }
       ],
       "layout": {
        "legend": {
         "tracegroupgap": 0
        },
        "margin": {
         "t": 60
        },
        "template": {
         "data": {
          "bar": [
           {
            "error_x": {
             "color": "#2a3f5f"
            },
            "error_y": {
             "color": "#2a3f5f"
            },
            "marker": {
             "line": {
              "color": "#E5ECF6",
              "width": 0.5
             },
             "pattern": {
              "fillmode": "overlay",
              "size": 10,
              "solidity": 0.2
             }
            },
            "type": "bar"
           }
          ],
          "barpolar": [
           {
            "marker": {
             "line": {
              "color": "#E5ECF6",
              "width": 0.5
             },
             "pattern": {
              "fillmode": "overlay",
              "size": 10,
              "solidity": 0.2
             }
            },
            "type": "barpolar"
           }
          ],
          "carpet": [
           {
            "aaxis": {
             "endlinecolor": "#2a3f5f",
             "gridcolor": "white",
             "linecolor": "white",
             "minorgridcolor": "white",
             "startlinecolor": "#2a3f5f"
            },
            "baxis": {
             "endlinecolor": "#2a3f5f",
             "gridcolor": "white",
             "linecolor": "white",
             "minorgridcolor": "white",
             "startlinecolor": "#2a3f5f"
            },
            "type": "carpet"
           }
          ],
          "choropleth": [
           {
            "colorbar": {
             "outlinewidth": 0,
             "ticks": ""
            },
            "type": "choropleth"
           }
          ],
          "contour": [
           {
            "colorbar": {
             "outlinewidth": 0,
             "ticks": ""
            },
            "colorscale": [
             [
              0,
              "#0d0887"
             ],
             [
              0.1111111111111111,
              "#46039f"
             ],
             [
              0.2222222222222222,
              "#7201a8"
             ],
             [
              0.3333333333333333,
              "#9c179e"
             ],
             [
              0.4444444444444444,
              "#bd3786"
             ],
             [
              0.5555555555555556,
              "#d8576b"
             ],
             [
              0.6666666666666666,
              "#ed7953"
             ],
             [
              0.7777777777777778,
              "#fb9f3a"
             ],
             [
              0.8888888888888888,
              "#fdca26"
             ],
             [
              1,
              "#f0f921"
             ]
            ],
            "type": "contour"
           }
          ],
          "contourcarpet": [
           {
            "colorbar": {
             "outlinewidth": 0,
             "ticks": ""
            },
            "type": "contourcarpet"
           }
          ],
          "heatmap": [
           {
            "colorbar": {
             "outlinewidth": 0,
             "ticks": ""
            },
            "colorscale": [
             [
              0,
              "#0d0887"
             ],
             [
              0.1111111111111111,
              "#46039f"
             ],
             [
              0.2222222222222222,
              "#7201a8"
             ],
             [
              0.3333333333333333,
              "#9c179e"
             ],
             [
              0.4444444444444444,
              "#bd3786"
             ],
             [
              0.5555555555555556,
              "#d8576b"
             ],
             [
              0.6666666666666666,
              "#ed7953"
             ],
             [
              0.7777777777777778,
              "#fb9f3a"
             ],
             [
              0.8888888888888888,
              "#fdca26"
             ],
             [
              1,
              "#f0f921"
             ]
            ],
            "type": "heatmap"
           }
          ],
          "heatmapgl": [
           {
            "colorbar": {
             "outlinewidth": 0,
             "ticks": ""
            },
            "colorscale": [
             [
              0,
              "#0d0887"
             ],
             [
              0.1111111111111111,
              "#46039f"
             ],
             [
              0.2222222222222222,
              "#7201a8"
             ],
             [
              0.3333333333333333,
              "#9c179e"
             ],
             [
              0.4444444444444444,
              "#bd3786"
             ],
             [
              0.5555555555555556,
              "#d8576b"
             ],
             [
              0.6666666666666666,
              "#ed7953"
             ],
             [
              0.7777777777777778,
              "#fb9f3a"
             ],
             [
              0.8888888888888888,
              "#fdca26"
             ],
             [
              1,
              "#f0f921"
             ]
            ],
            "type": "heatmapgl"
           }
          ],
          "histogram": [
           {
            "marker": {
             "pattern": {
              "fillmode": "overlay",
              "size": 10,
              "solidity": 0.2
             }
            },
            "type": "histogram"
           }
          ],
          "histogram2d": [
           {
            "colorbar": {
             "outlinewidth": 0,
             "ticks": ""
            },
            "colorscale": [
             [
              0,
              "#0d0887"
             ],
             [
              0.1111111111111111,
              "#46039f"
             ],
             [
              0.2222222222222222,
              "#7201a8"
             ],
             [
              0.3333333333333333,
              "#9c179e"
             ],
             [
              0.4444444444444444,
              "#bd3786"
             ],
             [
              0.5555555555555556,
              "#d8576b"
             ],
             [
              0.6666666666666666,
              "#ed7953"
             ],
             [
              0.7777777777777778,
              "#fb9f3a"
             ],
             [
              0.8888888888888888,
              "#fdca26"
             ],
             [
              1,
              "#f0f921"
             ]
            ],
            "type": "histogram2d"
           }
          ],
          "histogram2dcontour": [
           {
            "colorbar": {
             "outlinewidth": 0,
             "ticks": ""
            },
            "colorscale": [
             [
              0,
              "#0d0887"
             ],
             [
              0.1111111111111111,
              "#46039f"
             ],
             [
              0.2222222222222222,
              "#7201a8"
             ],
             [
              0.3333333333333333,
              "#9c179e"
             ],
             [
              0.4444444444444444,
              "#bd3786"
             ],
             [
              0.5555555555555556,
              "#d8576b"
             ],
             [
              0.6666666666666666,
              "#ed7953"
             ],
             [
              0.7777777777777778,
              "#fb9f3a"
             ],
             [
              0.8888888888888888,
              "#fdca26"
             ],
             [
              1,
              "#f0f921"
             ]
            ],
            "type": "histogram2dcontour"
           }
          ],
          "mesh3d": [
           {
            "colorbar": {
             "outlinewidth": 0,
             "ticks": ""
            },
            "type": "mesh3d"
           }
          ],
          "parcoords": [
           {
            "line": {
             "colorbar": {
              "outlinewidth": 0,
              "ticks": ""
             }
            },
            "type": "parcoords"
           }
          ],
          "pie": [
           {
            "automargin": true,
            "type": "pie"
           }
          ],
          "scatter": [
           {
            "fillpattern": {
             "fillmode": "overlay",
             "size": 10,
             "solidity": 0.2
            },
            "type": "scatter"
           }
          ],
          "scatter3d": [
           {
            "line": {
             "colorbar": {
              "outlinewidth": 0,
              "ticks": ""
             }
            },
            "marker": {
             "colorbar": {
              "outlinewidth": 0,
              "ticks": ""
             }
            },
            "type": "scatter3d"
           }
          ],
          "scattercarpet": [
           {
            "marker": {
             "colorbar": {
              "outlinewidth": 0,
              "ticks": ""
             }
            },
            "type": "scattercarpet"
           }
          ],
          "scattergeo": [
           {
            "marker": {
             "colorbar": {
              "outlinewidth": 0,
              "ticks": ""
             }
            },
            "type": "scattergeo"
           }
          ],
          "scattergl": [
           {
            "marker": {
             "colorbar": {
              "outlinewidth": 0,
              "ticks": ""
             }
            },
            "type": "scattergl"
           }
          ],
          "scattermapbox": [
           {
            "marker": {
             "colorbar": {
              "outlinewidth": 0,
              "ticks": ""
             }
            },
            "type": "scattermapbox"
           }
          ],
          "scatterpolar": [
           {
            "marker": {
             "colorbar": {
              "outlinewidth": 0,
              "ticks": ""
             }
            },
            "type": "scatterpolar"
           }
          ],
          "scatterpolargl": [
           {
            "marker": {
             "colorbar": {
              "outlinewidth": 0,
              "ticks": ""
             }
            },
            "type": "scatterpolargl"
           }
          ],
          "scatterternary": [
           {
            "marker": {
             "colorbar": {
              "outlinewidth": 0,
              "ticks": ""
             }
            },
            "type": "scatterternary"
           }
          ],
          "surface": [
           {
            "colorbar": {
             "outlinewidth": 0,
             "ticks": ""
            },
            "colorscale": [
             [
              0,
              "#0d0887"
             ],
             [
              0.1111111111111111,
              "#46039f"
             ],
             [
              0.2222222222222222,
              "#7201a8"
             ],
             [
              0.3333333333333333,
              "#9c179e"
             ],
             [
              0.4444444444444444,
              "#bd3786"
             ],
             [
              0.5555555555555556,
              "#d8576b"
             ],
             [
              0.6666666666666666,
              "#ed7953"
             ],
             [
              0.7777777777777778,
              "#fb9f3a"
             ],
             [
              0.8888888888888888,
              "#fdca26"
             ],
             [
              1,
              "#f0f921"
             ]
            ],
            "type": "surface"
           }
          ],
          "table": [
           {
            "cells": {
             "fill": {
              "color": "#EBF0F8"
             },
             "line": {
              "color": "white"
             }
            },
            "header": {
             "fill": {
              "color": "#C8D4E3"
             },
             "line": {
              "color": "white"
             }
            },
            "type": "table"
           }
          ]
         },
         "layout": {
          "annotationdefaults": {
           "arrowcolor": "#2a3f5f",
           "arrowhead": 0,
           "arrowwidth": 1
          },
          "autotypenumbers": "strict",
          "coloraxis": {
           "colorbar": {
            "outlinewidth": 0,
            "ticks": ""
           }
          },
          "colorscale": {
           "diverging": [
            [
             0,
             "#8e0152"
            ],
            [
             0.1,
             "#c51b7d"
            ],
            [
             0.2,
             "#de77ae"
            ],
            [
             0.3,
             "#f1b6da"
            ],
            [
             0.4,
             "#fde0ef"
            ],
            [
             0.5,
             "#f7f7f7"
            ],
            [
             0.6,
             "#e6f5d0"
            ],
            [
             0.7,
             "#b8e186"
            ],
            [
             0.8,
             "#7fbc41"
            ],
            [
             0.9,
             "#4d9221"
            ],
            [
             1,
             "#276419"
            ]
           ],
           "sequential": [
            [
             0,
             "#0d0887"
            ],
            [
             0.1111111111111111,
             "#46039f"
            ],
            [
             0.2222222222222222,
             "#7201a8"
            ],
            [
             0.3333333333333333,
             "#9c179e"
            ],
            [
             0.4444444444444444,
             "#bd3786"
            ],
            [
             0.5555555555555556,
             "#d8576b"
            ],
            [
             0.6666666666666666,
             "#ed7953"
            ],
            [
             0.7777777777777778,
             "#fb9f3a"
            ],
            [
             0.8888888888888888,
             "#fdca26"
            ],
            [
             1,
             "#f0f921"
            ]
           ],
           "sequentialminus": [
            [
             0,
             "#0d0887"
            ],
            [
             0.1111111111111111,
             "#46039f"
            ],
            [
             0.2222222222222222,
             "#7201a8"
            ],
            [
             0.3333333333333333,
             "#9c179e"
            ],
            [
             0.4444444444444444,
             "#bd3786"
            ],
            [
             0.5555555555555556,
             "#d8576b"
            ],
            [
             0.6666666666666666,
             "#ed7953"
            ],
            [
             0.7777777777777778,
             "#fb9f3a"
            ],
            [
             0.8888888888888888,
             "#fdca26"
            ],
            [
             1,
             "#f0f921"
            ]
           ]
          },
          "colorway": [
           "#636efa",
           "#EF553B",
           "#00cc96",
           "#ab63fa",
           "#FFA15A",
           "#19d3f3",
           "#FF6692",
           "#B6E880",
           "#FF97FF",
           "#FECB52"
          ],
          "font": {
           "color": "#2a3f5f"
          },
          "geo": {
           "bgcolor": "white",
           "lakecolor": "white",
           "landcolor": "#E5ECF6",
           "showlakes": true,
           "showland": true,
           "subunitcolor": "white"
          },
          "hoverlabel": {
           "align": "left"
          },
          "hovermode": "closest",
          "mapbox": {
           "style": "light"
          },
          "paper_bgcolor": "white",
          "plot_bgcolor": "#E5ECF6",
          "polar": {
           "angularaxis": {
            "gridcolor": "white",
            "linecolor": "white",
            "ticks": ""
           },
           "bgcolor": "#E5ECF6",
           "radialaxis": {
            "gridcolor": "white",
            "linecolor": "white",
            "ticks": ""
           }
          },
          "scene": {
           "xaxis": {
            "backgroundcolor": "#E5ECF6",
            "gridcolor": "white",
            "gridwidth": 2,
            "linecolor": "white",
            "showbackground": true,
            "ticks": "",
            "zerolinecolor": "white"
           },
           "yaxis": {
            "backgroundcolor": "#E5ECF6",
            "gridcolor": "white",
            "gridwidth": 2,
            "linecolor": "white",
            "showbackground": true,
            "ticks": "",
            "zerolinecolor": "white"
           },
           "zaxis": {
            "backgroundcolor": "#E5ECF6",
            "gridcolor": "white",
            "gridwidth": 2,
            "linecolor": "white",
            "showbackground": true,
            "ticks": "",
            "zerolinecolor": "white"
           }
          },
          "shapedefaults": {
           "line": {
            "color": "#2a3f5f"
           }
          },
          "ternary": {
           "aaxis": {
            "gridcolor": "white",
            "linecolor": "white",
            "ticks": ""
           },
           "baxis": {
            "gridcolor": "white",
            "linecolor": "white",
            "ticks": ""
           },
           "bgcolor": "#E5ECF6",
           "caxis": {
            "gridcolor": "white",
            "linecolor": "white",
            "ticks": ""
           }
          },
          "title": {
           "x": 0.05
          },
          "xaxis": {
           "automargin": true,
           "gridcolor": "white",
           "linecolor": "white",
           "ticks": "",
           "title": {
            "standoff": 15
           },
           "zerolinecolor": "white",
           "zerolinewidth": 2
          },
          "yaxis": {
           "automargin": true,
           "gridcolor": "white",
           "linecolor": "white",
           "ticks": "",
           "title": {
            "standoff": 15
           },
           "zerolinecolor": "white",
           "zerolinewidth": 2
          }
         }
        }
       }
      }
     },
     "metadata": {},
     "output_type": "display_data"
    }
   ],
   "source": [
    "from utils import draw_pie\n",
    "\n",
    "for set_labels in (train_labels, val_labels, test_labels):\n",
    "    draw_pie(pd.DataFrame(set_labels, columns=['genre']), 'genre')"
   ]
  },
  {
   "cell_type": "code",
   "execution_count": 21,
   "metadata": {},
   "outputs": [
    {
     "data": {
      "text/html": [
       "<div>\n",
       "<style scoped>\n",
       "    .dataframe tbody tr th:only-of-type {\n",
       "        vertical-align: middle;\n",
       "    }\n",
       "\n",
       "    .dataframe tbody tr th {\n",
       "        vertical-align: top;\n",
       "    }\n",
       "\n",
       "    .dataframe thead th {\n",
       "        text-align: right;\n",
       "    }\n",
       "</style>\n",
       "<table border=\"1\" class=\"dataframe\">\n",
       "  <thead>\n",
       "    <tr style=\"text-align: right;\">\n",
       "      <th></th>\n",
       "      <th>Electronic</th>\n",
       "      <th>Experimental</th>\n",
       "      <th>Folk</th>\n",
       "      <th>Hip-Hop</th>\n",
       "      <th>Instrumental</th>\n",
       "      <th>International</th>\n",
       "      <th>Pop</th>\n",
       "      <th>Rock</th>\n",
       "    </tr>\n",
       "  </thead>\n",
       "  <tbody>\n",
       "    <tr>\n",
       "      <th>0</th>\n",
       "      <td>0</td>\n",
       "      <td>0</td>\n",
       "      <td>0</td>\n",
       "      <td>0</td>\n",
       "      <td>0</td>\n",
       "      <td>0</td>\n",
       "      <td>1</td>\n",
       "      <td>0</td>\n",
       "    </tr>\n",
       "    <tr>\n",
       "      <th>1</th>\n",
       "      <td>0</td>\n",
       "      <td>0</td>\n",
       "      <td>0</td>\n",
       "      <td>0</td>\n",
       "      <td>0</td>\n",
       "      <td>0</td>\n",
       "      <td>1</td>\n",
       "      <td>0</td>\n",
       "    </tr>\n",
       "    <tr>\n",
       "      <th>2</th>\n",
       "      <td>0</td>\n",
       "      <td>0</td>\n",
       "      <td>0</td>\n",
       "      <td>1</td>\n",
       "      <td>0</td>\n",
       "      <td>0</td>\n",
       "      <td>0</td>\n",
       "      <td>0</td>\n",
       "    </tr>\n",
       "    <tr>\n",
       "      <th>3</th>\n",
       "      <td>1</td>\n",
       "      <td>0</td>\n",
       "      <td>0</td>\n",
       "      <td>0</td>\n",
       "      <td>0</td>\n",
       "      <td>0</td>\n",
       "      <td>0</td>\n",
       "      <td>0</td>\n",
       "    </tr>\n",
       "    <tr>\n",
       "      <th>4</th>\n",
       "      <td>0</td>\n",
       "      <td>0</td>\n",
       "      <td>0</td>\n",
       "      <td>0</td>\n",
       "      <td>0</td>\n",
       "      <td>0</td>\n",
       "      <td>1</td>\n",
       "      <td>0</td>\n",
       "    </tr>\n",
       "    <tr>\n",
       "      <th>5</th>\n",
       "      <td>0</td>\n",
       "      <td>0</td>\n",
       "      <td>0</td>\n",
       "      <td>0</td>\n",
       "      <td>0</td>\n",
       "      <td>0</td>\n",
       "      <td>1</td>\n",
       "      <td>0</td>\n",
       "    </tr>\n",
       "    <tr>\n",
       "      <th>6</th>\n",
       "      <td>0</td>\n",
       "      <td>0</td>\n",
       "      <td>0</td>\n",
       "      <td>1</td>\n",
       "      <td>0</td>\n",
       "      <td>0</td>\n",
       "      <td>0</td>\n",
       "      <td>0</td>\n",
       "    </tr>\n",
       "    <tr>\n",
       "      <th>7</th>\n",
       "      <td>0</td>\n",
       "      <td>0</td>\n",
       "      <td>0</td>\n",
       "      <td>0</td>\n",
       "      <td>1</td>\n",
       "      <td>0</td>\n",
       "      <td>0</td>\n",
       "      <td>0</td>\n",
       "    </tr>\n",
       "    <tr>\n",
       "      <th>8</th>\n",
       "      <td>0</td>\n",
       "      <td>0</td>\n",
       "      <td>0</td>\n",
       "      <td>0</td>\n",
       "      <td>0</td>\n",
       "      <td>0</td>\n",
       "      <td>1</td>\n",
       "      <td>0</td>\n",
       "    </tr>\n",
       "    <tr>\n",
       "      <th>9</th>\n",
       "      <td>0</td>\n",
       "      <td>0</td>\n",
       "      <td>0</td>\n",
       "      <td>0</td>\n",
       "      <td>0</td>\n",
       "      <td>1</td>\n",
       "      <td>0</td>\n",
       "      <td>0</td>\n",
       "    </tr>\n",
       "  </tbody>\n",
       "</table>\n",
       "</div>"
      ],
      "text/plain": [
       "   Electronic  Experimental  Folk  Hip-Hop  Instrumental  International  Pop  \\\n",
       "0           0             0     0        0             0              0    1   \n",
       "1           0             0     0        0             0              0    1   \n",
       "2           0             0     0        1             0              0    0   \n",
       "3           1             0     0        0             0              0    0   \n",
       "4           0             0     0        0             0              0    1   \n",
       "5           0             0     0        0             0              0    1   \n",
       "6           0             0     0        1             0              0    0   \n",
       "7           0             0     0        0             1              0    0   \n",
       "8           0             0     0        0             0              0    1   \n",
       "9           0             0     0        0             0              1    0   \n",
       "\n",
       "   Rock  \n",
       "0     0  \n",
       "1     0  \n",
       "2     0  \n",
       "3     0  \n",
       "4     0  \n",
       "5     0  \n",
       "6     0  \n",
       "7     0  \n",
       "8     0  \n",
       "9     0  "
      ]
     },
     "execution_count": 21,
     "metadata": {},
     "output_type": "execute_result"
    }
   ],
   "source": [
    "train_labels = pd.get_dummies(train_labels, prefix='', prefix_sep='')\n",
    "train_labels.head(10)"
   ]
  },
  {
   "cell_type": "code",
   "execution_count": 22,
   "metadata": {},
   "outputs": [
    {
     "data": {
      "text/plain": [
       "Index([], dtype='object')"
      ]
     },
     "execution_count": 22,
     "metadata": {},
     "output_type": "execute_result"
    }
   ],
   "source": [
    "train_labels.columns[(train_labels == 0).all()]"
   ]
  },
  {
   "cell_type": "code",
   "execution_count": 23,
   "metadata": {},
   "outputs": [],
   "source": [
    "pickle_spectrograms_set(train_tracks, train_labels, 'train_small')"
   ]
  },
  {
   "cell_type": "code",
   "execution_count": 24,
   "metadata": {},
   "outputs": [],
   "source": [
    "del train_tracks, train_labels"
   ]
  },
  {
   "cell_type": "code",
   "execution_count": 25,
   "metadata": {},
   "outputs": [
    {
     "data": {
      "text/html": [
       "<div>\n",
       "<style scoped>\n",
       "    .dataframe tbody tr th:only-of-type {\n",
       "        vertical-align: middle;\n",
       "    }\n",
       "\n",
       "    .dataframe tbody tr th {\n",
       "        vertical-align: top;\n",
       "    }\n",
       "\n",
       "    .dataframe thead th {\n",
       "        text-align: right;\n",
       "    }\n",
       "</style>\n",
       "<table border=\"1\" class=\"dataframe\">\n",
       "  <thead>\n",
       "    <tr style=\"text-align: right;\">\n",
       "      <th></th>\n",
       "      <th>Electronic</th>\n",
       "      <th>Experimental</th>\n",
       "      <th>Folk</th>\n",
       "      <th>Hip-Hop</th>\n",
       "      <th>Instrumental</th>\n",
       "      <th>International</th>\n",
       "      <th>Pop</th>\n",
       "      <th>Rock</th>\n",
       "    </tr>\n",
       "  </thead>\n",
       "  <tbody>\n",
       "    <tr>\n",
       "      <th>0</th>\n",
       "      <td>0</td>\n",
       "      <td>0</td>\n",
       "      <td>0</td>\n",
       "      <td>0</td>\n",
       "      <td>0</td>\n",
       "      <td>1</td>\n",
       "      <td>0</td>\n",
       "      <td>0</td>\n",
       "    </tr>\n",
       "    <tr>\n",
       "      <th>1</th>\n",
       "      <td>0</td>\n",
       "      <td>0</td>\n",
       "      <td>0</td>\n",
       "      <td>1</td>\n",
       "      <td>0</td>\n",
       "      <td>0</td>\n",
       "      <td>0</td>\n",
       "      <td>0</td>\n",
       "    </tr>\n",
       "    <tr>\n",
       "      <th>2</th>\n",
       "      <td>0</td>\n",
       "      <td>0</td>\n",
       "      <td>0</td>\n",
       "      <td>0</td>\n",
       "      <td>0</td>\n",
       "      <td>0</td>\n",
       "      <td>0</td>\n",
       "      <td>1</td>\n",
       "    </tr>\n",
       "    <tr>\n",
       "      <th>3</th>\n",
       "      <td>0</td>\n",
       "      <td>0</td>\n",
       "      <td>0</td>\n",
       "      <td>0</td>\n",
       "      <td>0</td>\n",
       "      <td>0</td>\n",
       "      <td>0</td>\n",
       "      <td>1</td>\n",
       "    </tr>\n",
       "    <tr>\n",
       "      <th>4</th>\n",
       "      <td>0</td>\n",
       "      <td>0</td>\n",
       "      <td>0</td>\n",
       "      <td>0</td>\n",
       "      <td>0</td>\n",
       "      <td>0</td>\n",
       "      <td>1</td>\n",
       "      <td>0</td>\n",
       "    </tr>\n",
       "    <tr>\n",
       "      <th>5</th>\n",
       "      <td>0</td>\n",
       "      <td>0</td>\n",
       "      <td>0</td>\n",
       "      <td>1</td>\n",
       "      <td>0</td>\n",
       "      <td>0</td>\n",
       "      <td>0</td>\n",
       "      <td>0</td>\n",
       "    </tr>\n",
       "    <tr>\n",
       "      <th>6</th>\n",
       "      <td>0</td>\n",
       "      <td>0</td>\n",
       "      <td>0</td>\n",
       "      <td>0</td>\n",
       "      <td>0</td>\n",
       "      <td>1</td>\n",
       "      <td>0</td>\n",
       "      <td>0</td>\n",
       "    </tr>\n",
       "    <tr>\n",
       "      <th>7</th>\n",
       "      <td>1</td>\n",
       "      <td>0</td>\n",
       "      <td>0</td>\n",
       "      <td>0</td>\n",
       "      <td>0</td>\n",
       "      <td>0</td>\n",
       "      <td>0</td>\n",
       "      <td>0</td>\n",
       "    </tr>\n",
       "    <tr>\n",
       "      <th>8</th>\n",
       "      <td>0</td>\n",
       "      <td>0</td>\n",
       "      <td>0</td>\n",
       "      <td>1</td>\n",
       "      <td>0</td>\n",
       "      <td>0</td>\n",
       "      <td>0</td>\n",
       "      <td>0</td>\n",
       "    </tr>\n",
       "    <tr>\n",
       "      <th>9</th>\n",
       "      <td>0</td>\n",
       "      <td>0</td>\n",
       "      <td>0</td>\n",
       "      <td>0</td>\n",
       "      <td>0</td>\n",
       "      <td>0</td>\n",
       "      <td>0</td>\n",
       "      <td>1</td>\n",
       "    </tr>\n",
       "  </tbody>\n",
       "</table>\n",
       "</div>"
      ],
      "text/plain": [
       "   Electronic  Experimental  Folk  Hip-Hop  Instrumental  International  Pop  \\\n",
       "0           0             0     0        0             0              1    0   \n",
       "1           0             0     0        1             0              0    0   \n",
       "2           0             0     0        0             0              0    0   \n",
       "3           0             0     0        0             0              0    0   \n",
       "4           0             0     0        0             0              0    1   \n",
       "5           0             0     0        1             0              0    0   \n",
       "6           0             0     0        0             0              1    0   \n",
       "7           1             0     0        0             0              0    0   \n",
       "8           0             0     0        1             0              0    0   \n",
       "9           0             0     0        0             0              0    0   \n",
       "\n",
       "   Rock  \n",
       "0     0  \n",
       "1     0  \n",
       "2     1  \n",
       "3     1  \n",
       "4     0  \n",
       "5     0  \n",
       "6     0  \n",
       "7     0  \n",
       "8     0  \n",
       "9     1  "
      ]
     },
     "execution_count": 25,
     "metadata": {},
     "output_type": "execute_result"
    }
   ],
   "source": [
    "val_labels = pd.get_dummies(val_labels, prefix='', prefix_sep='')\n",
    "val_labels.head(10)"
   ]
  },
  {
   "cell_type": "code",
   "execution_count": 26,
   "metadata": {},
   "outputs": [
    {
     "data": {
      "text/plain": [
       "Index([], dtype='object')"
      ]
     },
     "execution_count": 26,
     "metadata": {},
     "output_type": "execute_result"
    }
   ],
   "source": [
    "val_labels.columns[(val_labels == 0).all()]"
   ]
  },
  {
   "cell_type": "code",
   "execution_count": 27,
   "metadata": {},
   "outputs": [],
   "source": [
    "pickle_spectrograms_set(val_tracks, val_labels, 'validation_small')"
   ]
  },
  {
   "cell_type": "code",
   "execution_count": 28,
   "metadata": {},
   "outputs": [],
   "source": [
    "del val_tracks, val_labels"
   ]
  },
  {
   "cell_type": "code",
   "execution_count": 29,
   "metadata": {},
   "outputs": [
    {
     "data": {
      "text/html": [
       "<div>\n",
       "<style scoped>\n",
       "    .dataframe tbody tr th:only-of-type {\n",
       "        vertical-align: middle;\n",
       "    }\n",
       "\n",
       "    .dataframe tbody tr th {\n",
       "        vertical-align: top;\n",
       "    }\n",
       "\n",
       "    .dataframe thead th {\n",
       "        text-align: right;\n",
       "    }\n",
       "</style>\n",
       "<table border=\"1\" class=\"dataframe\">\n",
       "  <thead>\n",
       "    <tr style=\"text-align: right;\">\n",
       "      <th></th>\n",
       "      <th>Electronic</th>\n",
       "      <th>Experimental</th>\n",
       "      <th>Folk</th>\n",
       "      <th>Hip-Hop</th>\n",
       "      <th>Instrumental</th>\n",
       "      <th>International</th>\n",
       "      <th>Pop</th>\n",
       "      <th>Rock</th>\n",
       "    </tr>\n",
       "  </thead>\n",
       "  <tbody>\n",
       "    <tr>\n",
       "      <th>0</th>\n",
       "      <td>0</td>\n",
       "      <td>0</td>\n",
       "      <td>0</td>\n",
       "      <td>0</td>\n",
       "      <td>0</td>\n",
       "      <td>0</td>\n",
       "      <td>0</td>\n",
       "      <td>1</td>\n",
       "    </tr>\n",
       "    <tr>\n",
       "      <th>1</th>\n",
       "      <td>0</td>\n",
       "      <td>0</td>\n",
       "      <td>1</td>\n",
       "      <td>0</td>\n",
       "      <td>0</td>\n",
       "      <td>0</td>\n",
       "      <td>0</td>\n",
       "      <td>0</td>\n",
       "    </tr>\n",
       "    <tr>\n",
       "      <th>2</th>\n",
       "      <td>0</td>\n",
       "      <td>0</td>\n",
       "      <td>0</td>\n",
       "      <td>1</td>\n",
       "      <td>0</td>\n",
       "      <td>0</td>\n",
       "      <td>0</td>\n",
       "      <td>0</td>\n",
       "    </tr>\n",
       "    <tr>\n",
       "      <th>3</th>\n",
       "      <td>0</td>\n",
       "      <td>0</td>\n",
       "      <td>0</td>\n",
       "      <td>0</td>\n",
       "      <td>1</td>\n",
       "      <td>0</td>\n",
       "      <td>0</td>\n",
       "      <td>0</td>\n",
       "    </tr>\n",
       "    <tr>\n",
       "      <th>4</th>\n",
       "      <td>0</td>\n",
       "      <td>0</td>\n",
       "      <td>0</td>\n",
       "      <td>0</td>\n",
       "      <td>0</td>\n",
       "      <td>0</td>\n",
       "      <td>1</td>\n",
       "      <td>0</td>\n",
       "    </tr>\n",
       "    <tr>\n",
       "      <th>5</th>\n",
       "      <td>0</td>\n",
       "      <td>0</td>\n",
       "      <td>1</td>\n",
       "      <td>0</td>\n",
       "      <td>0</td>\n",
       "      <td>0</td>\n",
       "      <td>0</td>\n",
       "      <td>0</td>\n",
       "    </tr>\n",
       "    <tr>\n",
       "      <th>6</th>\n",
       "      <td>1</td>\n",
       "      <td>0</td>\n",
       "      <td>0</td>\n",
       "      <td>0</td>\n",
       "      <td>0</td>\n",
       "      <td>0</td>\n",
       "      <td>0</td>\n",
       "      <td>0</td>\n",
       "    </tr>\n",
       "    <tr>\n",
       "      <th>7</th>\n",
       "      <td>1</td>\n",
       "      <td>0</td>\n",
       "      <td>0</td>\n",
       "      <td>0</td>\n",
       "      <td>0</td>\n",
       "      <td>0</td>\n",
       "      <td>0</td>\n",
       "      <td>0</td>\n",
       "    </tr>\n",
       "    <tr>\n",
       "      <th>8</th>\n",
       "      <td>1</td>\n",
       "      <td>0</td>\n",
       "      <td>0</td>\n",
       "      <td>0</td>\n",
       "      <td>0</td>\n",
       "      <td>0</td>\n",
       "      <td>0</td>\n",
       "      <td>0</td>\n",
       "    </tr>\n",
       "    <tr>\n",
       "      <th>9</th>\n",
       "      <td>0</td>\n",
       "      <td>0</td>\n",
       "      <td>0</td>\n",
       "      <td>0</td>\n",
       "      <td>1</td>\n",
       "      <td>0</td>\n",
       "      <td>0</td>\n",
       "      <td>0</td>\n",
       "    </tr>\n",
       "  </tbody>\n",
       "</table>\n",
       "</div>"
      ],
      "text/plain": [
       "   Electronic  Experimental  Folk  Hip-Hop  Instrumental  International  Pop  \\\n",
       "0           0             0     0        0             0              0    0   \n",
       "1           0             0     1        0             0              0    0   \n",
       "2           0             0     0        1             0              0    0   \n",
       "3           0             0     0        0             1              0    0   \n",
       "4           0             0     0        0             0              0    1   \n",
       "5           0             0     1        0             0              0    0   \n",
       "6           1             0     0        0             0              0    0   \n",
       "7           1             0     0        0             0              0    0   \n",
       "8           1             0     0        0             0              0    0   \n",
       "9           0             0     0        0             1              0    0   \n",
       "\n",
       "   Rock  \n",
       "0     1  \n",
       "1     0  \n",
       "2     0  \n",
       "3     0  \n",
       "4     0  \n",
       "5     0  \n",
       "6     0  \n",
       "7     0  \n",
       "8     0  \n",
       "9     0  "
      ]
     },
     "execution_count": 29,
     "metadata": {},
     "output_type": "execute_result"
    }
   ],
   "source": [
    "test_labels = pd.get_dummies(test_labels, prefix='', prefix_sep='')\n",
    "test_labels.head(10)"
   ]
  },
  {
   "cell_type": "code",
   "execution_count": 30,
   "metadata": {},
   "outputs": [
    {
     "data": {
      "text/plain": [
       "Index([], dtype='object')"
      ]
     },
     "execution_count": 30,
     "metadata": {},
     "output_type": "execute_result"
    }
   ],
   "source": [
    "test_labels.columns[(test_labels == 0).all()]"
   ]
  },
  {
   "cell_type": "code",
   "execution_count": 31,
   "metadata": {},
   "outputs": [],
   "source": [
    "pickle_spectrograms_set(test_tracks, test_labels, 'test_small')"
   ]
  },
  {
   "cell_type": "code",
   "execution_count": null,
   "metadata": {},
   "outputs": [],
   "source": [
    "del test_tracks, test_labels"
   ]
  },
  {
   "cell_type": "code",
   "execution_count": null,
   "metadata": {},
   "outputs": [],
   "source": []
  }
 ],
 "metadata": {
  "kernelspec": {
   "display_name": "kafka-ml",
   "language": "python",
   "name": "python3"
  },
  "language_info": {
   "codemirror_mode": {
    "name": "ipython",
    "version": 3
   },
   "file_extension": ".py",
   "mimetype": "text/x-python",
   "name": "python",
   "nbconvert_exporter": "python",
   "pygments_lexer": "ipython3",
   "version": "3.10.6"
  },
  "orig_nbformat": 4
 },
 "nbformat": 4,
 "nbformat_minor": 2
}
