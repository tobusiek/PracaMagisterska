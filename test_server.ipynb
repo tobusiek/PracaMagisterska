{
 "cells": [
  {
   "cell_type": "code",
   "execution_count": 2,
   "metadata": {},
   "outputs": [],
   "source": [
    "import requests"
   ]
  },
  {
   "cell_type": "code",
   "execution_count": 5,
   "metadata": {},
   "outputs": [
    {
     "name": "stdout",
     "output_type": "stream",
     "text": [
      "b'<html>\\n    <head lang=\"en\">\\n        <meta charset=\"utf-8\" />\\n        <title>Make a prediction</title>\\n        <link id=\"favicon\" rel=\"icon\" type=\"image/x-icon\" href=\"static/images/favicon.svg\">\\n        <link href=\"http://127.0.0.1:8080/static/css/styles.css\" rel=\"stylesheet\">\\n    </head>\\n    <body>\\n        <h1>Input data for the prediction</h1>\\n        <form method=\"POST\">\\n            <label for=\"data_input\">Input your data</label> <br>\\n            <input type=\"text\" name=\"data_input\" id=\"data_input\">\\n            <input type=\"submit\" value=\"Submit\">\\n        </form>\\n    </body>\\n</html>'\n"
     ]
    }
   ],
   "source": [
    "# test root /\n",
    "print(requests.get('http://127.0.0.1:8080/', data={'data_input': 1}).content)"
   ]
  },
  {
   "cell_type": "code",
   "execution_count": 3,
   "metadata": {},
   "outputs": [
    {
     "ename": "",
     "evalue": "",
     "output_type": "error",
     "traceback": [
      "\u001b[1;31mThe Kernel crashed while executing code in the the current cell or a previous cell. Please review the code in the cell(s) to identify a possible cause of the failure. Click <a href='https://aka.ms/vscodeJupyterKernelCrash'>here</a> for more info. View Jupyter <a href='command:jupyter.viewOutput'>log</a> for further details."
     ]
    },
    {
     "ename": "",
     "evalue": "",
     "output_type": "error",
     "traceback": [
      "\u001b[1;31mCanceled future for execute_request message before replies were done"
     ]
    }
   ],
   "source": [
    "# test /predict\n",
    "print(requests.post('http://127.0.0.1:8000/predict', data={'data_input': 1}).json())"
   ]
  },
  {
   "cell_type": "code",
   "execution_count": null,
   "metadata": {},
   "outputs": [],
   "source": []
  }
 ],
 "metadata": {
  "kernelspec": {
   "display_name": "kafka-ml",
   "language": "python",
   "name": "python3"
  },
  "language_info": {
   "codemirror_mode": {
    "name": "ipython",
    "version": 3
   },
   "file_extension": ".py",
   "mimetype": "text/x-python",
   "name": "python",
   "nbconvert_exporter": "python",
   "pygments_lexer": "ipython3",
   "version": "3.10.6"
  },
  "orig_nbformat": 4,
  "vscode": {
   "interpreter": {
    "hash": "7a39542959f65a9eb80f83d61962e2d469e9de42772943c64fd14fe3c43f9afa"
   }
  }
 },
 "nbformat": 4,
 "nbformat_minor": 2
}
