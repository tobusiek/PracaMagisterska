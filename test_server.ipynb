{
 "cells": [
  {
   "cell_type": "code",
   "execution_count": 1,
   "metadata": {},
   "outputs": [],
   "source": [
    "import requests"
   ]
  },
  {
   "cell_type": "code",
   "execution_count": 10,
   "metadata": {},
   "outputs": [
    {
     "name": "stdout",
     "output_type": "stream",
     "text": [
      "{'data_output': {'data_input': '1'}}\n"
     ]
    }
   ],
   "source": [
    "# test root /\n",
    "print(requests.get('http://127.0.0.1:8080/', data={'data_input': 1}).json())"
   ]
  },
  {
   "cell_type": "code",
   "execution_count": 11,
   "metadata": {},
   "outputs": [
    {
     "name": "stdout",
     "output_type": "stream",
     "text": [
      "{'predicted_result': '1'}\n"
     ]
    }
   ],
   "source": [
    "# test /predict\n",
    "print(requests.post('http://127.0.0.1:8080/predict', data={'data_input': 1}).json())"
   ]
  },
  {
   "cell_type": "code",
   "execution_count": null,
   "metadata": {},
   "outputs": [],
   "source": []
  }
 ],
 "metadata": {
  "kernelspec": {
   "display_name": "kafka-ml",
   "language": "python",
   "name": "python3"
  },
  "language_info": {
   "codemirror_mode": {
    "name": "ipython",
    "version": 3
   },
   "file_extension": ".py",
   "mimetype": "text/x-python",
   "name": "python",
   "nbconvert_exporter": "python",
   "pygments_lexer": "ipython3",
   "version": "3.10.6"
  },
  "orig_nbformat": 4,
  "vscode": {
   "interpreter": {
    "hash": "7a39542959f65a9eb80f83d61962e2d469e9de42772943c64fd14fe3c43f9afa"
   }
  }
 },
 "nbformat": 4,
 "nbformat_minor": 2
}
